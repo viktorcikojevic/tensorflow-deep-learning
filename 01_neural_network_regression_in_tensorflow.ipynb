{
  "cells": [
    {
      "cell_type": "markdown",
      "metadata": {
        "colab_type": "text",
        "id": "view-in-github"
      },
      "source": [
        "<a href=\"https://colab.research.google.com/github/mrdbourke/tensorflow-deep-learning/blob/main/01_neural_network_regression_in_tensorflow.ipynb\" target=\"_parent\"><img src=\"https://colab.research.google.com/assets/colab-badge.svg\" alt=\"Open In Colab\"/></a>"
      ]
    },
    {
      "cell_type": "markdown",
      "metadata": {
        "id": "UPgo18-N1gSi"
      },
      "source": [
        "# 01. Neural Network Regression with TensorFlow\n",
        "\n",
        "There are many definitions for a [regression problem](https://en.wikipedia.org/wiki/Regression_analysis) but in our case, we're going to simplify it to be: predicting a number.\n",
        "\n",
        "For example, you might want to:\n",
        "- Predict the selling price of houses given information about them (such as number of rooms, size, number of bathrooms).\n",
        "- Predict the coordinates of a bounding box of an item in an image.\n",
        "- Predict the cost of medical insurance for an individual given their demographics (age, sex, gender, race).\n",
        "\n",
        "In this notebook, we're going to set the foundations for how you can take a sample of inputs (this is your data), build a neural network to discover patterns in those inputs and then make a prediction (in the form of a number) based on those inputs.\n",
        "\n",
        "## What we're going to cover\n",
        "\n",
        "Specifically, we're going to go through doing the following with TensorFlow:\n",
        "- Architecture of a regression model\n",
        "- Input shapes and output shapes\n",
        "  - `X`: features/data (inputs)\n",
        "  - `y`: labels (outputs)\n",
        "- Creating custom data to view and fit\n",
        "- Steps in modelling\n",
        "  - Creating a model\n",
        "  - Compiling a model\n",
        "    - Defining a loss function\n",
        "    - Setting up an optimizer\n",
        "    - Creating evaluation metrics\n",
        "  - Fitting a model (getting it to find patterns in our data)\n",
        "- Evaluating a model\n",
        "  - Visualizng the model (\"visualize, visualize, visualize\")\n",
        "  - Looking at training curves\n",
        "  - Compare predictions to ground truth (using our evaluation metrics)\n",
        "- Saving a model (so we can use it later)\n",
        "- Loading a model\n",
        "\n",
        "Don't worry if none of these make sense now, we're going to go through each.\n",
        "\n",
        "## How you can use this notebook\n",
        "\n",
        "You can read through the descriptions and the code (it should all run), but there's a better option.\n",
        "\n",
        "Write all of the code yourself.\n",
        "\n",
        "Yes. I'm serious. Create a new notebook, and rewrite each line by yourself. Investigate it, see if you can break it, why does it break?\n",
        "\n",
        "You don't have to write the text descriptions but writing the code yourself is a great way to get hands-on experience.\n",
        "\n",
        "Don't worry if you make mistakes, we all do. The way to get better and make less mistakes is to **write more code**."
      ]
    },
    {
      "cell_type": "markdown",
      "metadata": {
        "id": "etAu7oCZ8r_G"
      },
      "source": [
        "## Typical architecture of a regresison neural network\n",
        "\n",
        "The word *typical* is on purpose.\n",
        "\n",
        "Why?\n",
        "\n",
        "Because there are many different ways (actually, there's almost an infinite number of ways) to write neural networks.\n",
        "\n",
        "But the following is a generic setup for ingesting a collection of numbers, finding patterns in them and then outputing some kind of target number.\n",
        "\n",
        "Yes, the previous sentence is vague but we'll see this in action shortly.\n",
        "\n",
        "| **Hyperparameter** | **Typical value** |\n",
        "| --- | --- |\n",
        "| Input layer shape | Same shape as number of features (e.g. 3 for # bedrooms, # bathrooms, # car spaces in housing price prediction) |\n",
        "| Hidden layer(s) | Problem specific, minimum = 1, maximum = unlimited |\n",
        "| Neurons per hidden layer | Problem specific, generally 10 to 100 |\n",
        "| Output layer shape | Same shape as desired prediction shape (e.g. 1 for house price) |\n",
        "| Hidden activation | Usually [ReLU](https://www.kaggle.com/dansbecker/rectified-linear-units-relu-in-deep-learning) (rectified linear unit) |\n",
        "| Output activation | None, ReLU, logistic/tanh |\n",
        "| Loss function | [MSE](https://en.wikipedia.org/wiki/Mean_squared_error) (mean square error) or [MAE](https://en.wikipedia.org/wiki/Mean_absolute_error) (mean absolute error)/Huber (combination of MAE/MSE) if outliers |\n",
        "| Optimizer | [SGD](https://www.tensorflow.org/api_docs/python/tf/keras/optimizers/SGD) (stochastic gradient descent), [Adam](https://www.tensorflow.org/api_docs/python/tf/keras/optimizers/Adam) |\n",
        "\n",
        "***Table 1:*** *Typical architecture of a regression network.* ***Source:*** *Adapted from page 293 of [Hands-On Machine Learning with Scikit-Learn, Keras & TensorFlow Book by Aurélien Géron](https://www.oreilly.com/library/view/hands-on-machine-learning/9781492032632/)*\n",
        "\n",
        "Again, if you're new to neural networks and deep learning in general, much of the above table won't make sense. But don't worry, we'll be getting hands-on with all of it soon.\n",
        "\n",
        "> 🔑 **Note:** A **hyperparameter** in machine learning is something a data analyst or developer can set themselves, where as a **parameter** usually describes something a model learns on its own (a value not explicitly set by an analyst).\n",
        "\n",
        "Okay, enough talk, let's get started writing code.\n",
        "\n",
        "To use TensorFlow, we'll import it as the common alias `tf` (short for TensorFlow)."
      ]
    },
    {
      "cell_type": "code",
      "execution_count": 1,
      "metadata": {
        "colab": {
          "base_uri": "https://localhost:8080/"
        },
        "id": "FMqsqKpk7TrH",
        "outputId": "6da43491-def7-454c-895a-19564368972b"
      },
      "outputs": [
        {
          "name": "stderr",
          "output_type": "stream",
          "text": [
            "2021-11-05 16:09:00.526172: W tensorflow/stream_executor/platform/default/dso_loader.cc:64] Could not load dynamic library 'libcudart.so.11.0'; dlerror: libcudart.so.11.0: cannot open shared object file: No such file or directory\n",
            "2021-11-05 16:09:00.526188: I tensorflow/stream_executor/cuda/cudart_stub.cc:29] Ignore above cudart dlerror if you do not have a GPU set up on your machine.\n"
          ]
        },
        {
          "name": "stdout",
          "output_type": "stream",
          "text": [
            "2.5.0\n"
          ]
        }
      ],
      "source": [
        "import tensorflow as tf\n",
        "print(tf.__version__) # check the version (should be 2.x+)"
      ]
    },
    {
      "cell_type": "markdown",
      "metadata": {
        "id": "8clMYxrF6Mzv"
      },
      "source": [
        "## Creating data to view and fit\n",
        "\n",
        "Since we're working on a **regression problem** (predicting a number) let's create some linear data (a straight line) to model."
      ]
    },
    {
      "cell_type": "code",
      "execution_count": 2,
      "metadata": {
        "colab": {
          "base_uri": "https://localhost:8080/",
          "height": 269
        },
        "id": "G43tWFof6i7T",
        "outputId": "b9a41b5e-1007-406d-801a-eeb9902e2526"
      },
      "outputs": [
        {
          "data": {
            "image/png": "[encoded data removed]",
            "text/plain": [
              "<Figure size 432x288 with 1 Axes>"
            ]
          },
          "metadata": {
            "needs_background": "light"
          },
          "output_type": "display_data"
        }
      ],
      "source": [
        "import numpy as np\n",
        "import matplotlib.pyplot as plt\n",
        "\n",
        "# Create features\n",
        "X = np.array([-7.0, -4.0, -1.0, 2.0, 5.0, 8.0, 11.0, 14.0])\n",
        "\n",
        "# Create labels\n",
        "y = np.array([3.0, 6.0, 9.0, 12.0, 15.0, 18.0, 21.0, 24.0])\n",
        "\n",
        "# Visualize it\n",
        "plt.scatter(X, y);"
      ]
    },
    {
      "cell_type": "markdown",
      "metadata": {
        "id": "9ONZF8un7_xy"
      },
      "source": [
        "Before we do any modelling, can you calculate the pattern between `X` and `y`?\n",
        "\n",
        "For example, say I asked you, based on this data what the `y` value would be if `X` was 17.0?\n",
        "\n",
        "Or how about if `X` was -10.0?\n",
        "\n",
        "This kind of pattern discover is the essence of what we'll be building neural networks to do for us."
      ]
    },
    {
      "cell_type": "markdown",
      "metadata": {
        "id": "zNCXxHnF6jjZ"
      },
      "source": [
        "## Regression input shapes and output shapes\n",
        "\n",
        "One of the most important concepts when working with neural networks are the input and output shapes.\n",
        "\n",
        "The **input shape** is the shape of your data that goes into the model.\n",
        "\n",
        "The **output shape** is the shape of your data you want to come out of your model.\n",
        "\n",
        "These will differ depending on the problem you're working on.\n",
        "\n",
        "Neural networks accept numbers and output numbers. These numbers are typically represented as tensors (or arrays).\n",
        "\n",
        "Before, we created data using NumPy arrays, but we could do the same with tensors."
      ]
    },
    {
      "cell_type": "code",
      "execution_count": 3,
      "metadata": {
        "colab": {
          "base_uri": "https://localhost:8080/"
        },
        "id": "XrXQ3m0prWXa",
        "outputId": "ca414725-d901-4bce-9444-933ec127092a"
      },
      "outputs": [
        {
          "name": "stderr",
          "output_type": "stream",
          "text": [
            "2021-11-05 16:09:01.648861: I tensorflow/stream_executor/platform/default/dso_loader.cc:53] Successfully opened dynamic library libcuda.so.1\n",
            "2021-11-05 16:09:01.669950: I tensorflow/stream_executor/cuda/cuda_gpu_executor.cc:937] successful NUMA node read from SysFS had negative value (-1), but there must be at least one NUMA node, so returning NUMA node zero\n",
            "2021-11-05 16:09:01.670229: I tensorflow/core/common_runtime/gpu/gpu_device.cc:1733] Found device 0 with properties: \n",
            "pciBusID: 0000:01:00.0 name: NVIDIA GeForce GTX 1650 Ti computeCapability: 7.5\n",
            "coreClock: 1.485GHz coreCount: 16 deviceMemorySize: 3.82GiB deviceMemoryBandwidth: 178.84GiB/s\n",
            "2021-11-05 16:09:01.670339: W tensorflow/stream_executor/platform/default/dso_loader.cc:64] Could not load dynamic library 'libcudart.so.11.0'; dlerror: libcudart.so.11.0: cannot open shared object file: No such file or directory\n",
            "2021-11-05 16:09:01.670382: W tensorflow/stream_executor/platform/default/dso_loader.cc:64] Could not load dynamic library 'libcublas.so.11'; dlerror: libcublas.so.11: cannot open shared object file: No such file or directory\n",
            "2021-11-05 16:09:01.670413: W tensorflow/stream_executor/platform/default/dso_loader.cc:64] Could not load dynamic library 'libcublasLt.so.11'; dlerror: libcublasLt.so.11: cannot open shared object file: No such file or directory\n",
            "2021-11-05 16:09:01.670444: W tensorflow/stream_executor/platform/default/dso_loader.cc:64] Could not load dynamic library 'libcufft.so.10'; dlerror: libcufft.so.10: cannot open shared object file: No such file or directory\n",
            "2021-11-05 16:09:01.670474: W tensorflow/stream_executor/platform/default/dso_loader.cc:64] Could not load dynamic library 'libcurand.so.10'; dlerror: libcurand.so.10: cannot open shared object file: No such file or directory\n",
            "2021-11-05 16:09:01.670505: W tensorflow/stream_executor/platform/default/dso_loader.cc:64] Could not load dynamic library 'libcusolver.so.11'; dlerror: libcusolver.so.11: cannot open shared object file: No such file or directory\n",
            "2021-11-05 16:09:01.670535: W tensorflow/stream_executor/platform/default/dso_loader.cc:64] Could not load dynamic library 'libcusparse.so.11'; dlerror: libcusparse.so.11: cannot open shared object file: No such file or directory\n",
            "2021-11-05 16:09:01.670570: W tensorflow/stream_executor/platform/default/dso_loader.cc:64] Could not load dynamic library 'libcudnn.so.8'; dlerror: libcudnn.so.8: cannot open shared object file: No such file or directory\n",
            "2021-11-05 16:09:01.670579: W tensorflow/core/common_runtime/gpu/gpu_device.cc:1766] Cannot dlopen some GPU libraries. Please make sure the missing libraries mentioned above are installed properly if you would like to use GPU. Follow the guide at https://www.tensorflow.org/install/gpu for how to download and setup the required libraries for your platform.\n",
            "Skipping registering GPU devices...\n",
            "2021-11-05 16:09:01.670959: I tensorflow/core/platform/cpu_feature_guard.cc:142] This TensorFlow binary is optimized with oneAPI Deep Neural Network Library (oneDNN) to use the following CPU instructions in performance-critical operations:  AVX2 FMA\n",
            "To enable them in other operations, rebuild TensorFlow with the appropriate compiler flags.\n",
            "2021-11-05 16:09:01.671214: I tensorflow/core/common_runtime/gpu/gpu_device.cc:1258] Device interconnect StreamExecutor with strength 1 edge matrix:\n",
            "2021-11-05 16:09:01.671223: I tensorflow/core/common_runtime/gpu/gpu_device.cc:1264]      \n"
          ]
        },
        {
          "data": {
            "text/plain": [
              "(<tf.Tensor: shape=(3,), dtype=string, numpy=array([b'bedroom', b'bathroom', b'garage'], dtype=object)>,\n",
              " <tf.Tensor: shape=(1,), dtype=int32, numpy=array([939700], dtype=int32)>)"
            ]
          },
          "execution_count": 3,
          "metadata": {},
          "output_type": "execute_result"
        }
      ],
      "source": [
        "# Example input and output shapes of a regresson model\n",
        "house_info = tf.constant([\"bedroom\", \"bathroom\", \"garage\"])\n",
        "house_price = tf.constant([939700])\n",
        "house_info, house_price"
      ]
    },
    {
      "cell_type": "code",
      "execution_count": 4,
      "metadata": {
        "colab": {
          "base_uri": "https://localhost:8080/"
        },
        "id": "Yi3VWKH6sRrZ",
        "outputId": "59dd3d1f-e6df-43e7-b692-b3ec69d634e1"
      },
      "outputs": [
        {
          "data": {
            "text/plain": [
              "TensorShape([3])"
            ]
          },
          "execution_count": 4,
          "metadata": {},
          "output_type": "execute_result"
        }
      ],
      "source": [
        "house_info.shape"
      ]
    },
    {
      "cell_type": "code",
      "execution_count": 5,
      "metadata": {
        "colab": {
          "base_uri": "https://localhost:8080/",
          "height": 269
        },
        "id": "kOxyr9sR6m9X",
        "outputId": "51c54bda-4e0f-41db-c9e9-d03d32cd89b4"
      },
      "outputs": [
        {
          "data": {
            "image/png": "[encoded data removed]",
            "text/plain": [
              "<Figure size 432x288 with 1 Axes>"
            ]
          },
          "metadata": {
            "needs_background": "light"
          },
          "output_type": "display_data"
        }
      ],
      "source": [
        "import numpy as np\n",
        "import matplotlib.pyplot as plt\n",
        "\n",
        "# Create features (using tensors)\n",
        "X = tf.constant([-7.0, -4.0, -1.0, 2.0, 5.0, 8.0, 11.0, 14.0])\n",
        "\n",
        "# Create labels (using tensors)\n",
        "y = tf.constant([3.0, 6.0, 9.0, 12.0, 15.0, 18.0, 21.0, 24.0])\n",
        "\n",
        "# Visualize it\n",
        "plt.scatter(X, y);"
      ]
    },
    {
      "cell_type": "markdown",
      "metadata": {
        "id": "zaPxco6E9i1_"
      },
      "source": [
        "Our goal here will be to use `X` to predict `y`.\n",
        "\n",
        "So our **input** will be `X` and our **output** will be `y`.\n",
        "\n",
        "Knowing this, what do you think our input and output shapes will be?\n",
        "\n",
        "Let's take a look."
      ]
    },
    {
      "cell_type": "code",
      "execution_count": 6,
      "metadata": {
        "colab": {
          "base_uri": "https://localhost:8080/"
        },
        "id": "j1oT1gmB9iX-",
        "outputId": "1760be72-f1d4-43b1-c7a2-7eeac1009b93"
      },
      "outputs": [
        {
          "data": {
            "text/plain": [
              "(TensorShape([]), TensorShape([]))"
            ]
          },
          "execution_count": 6,
          "metadata": {},
          "output_type": "execute_result"
        }
      ],
      "source": [
        "# Take a single example of X\n",
        "input_shape = X[0].shape \n",
        "\n",
        "# Take a single example of y\n",
        "output_shape = y[0].shape\n",
        "\n",
        "input_shape, output_shape # these are both scalars (no shape)"
      ]
    },
    {
      "cell_type": "markdown",
      "metadata": {
        "id": "m4txxFTL_EEX"
      },
      "source": [
        "Huh?\n",
        "\n",
        "From this it seems our inputs and outputs have no shape?\n",
        "\n",
        "How could that be?\n",
        "\n",
        "It's because no matter what kind of data we pass to our model, it's always going to take as input and return as ouput some kind of tensor.\n",
        "\n",
        "But in our case because of our dataset (only 2 small lists of numbers), we're looking at a special kind of tensor, more specificially a rank 0 tensor or a scalar."
      ]
    },
    {
      "cell_type": "code",
      "execution_count": 7,
      "metadata": {
        "colab": {
          "base_uri": "https://localhost:8080/"
        },
        "id": "Dag5y4MPaTmc",
        "outputId": "e3d6e467-f045-448c-a4ef-89f8abf0f299"
      },
      "outputs": [
        {
          "data": {
            "text/plain": [
              "(<tf.Tensor: shape=(), dtype=float32, numpy=-7.0>,\n",
              " <tf.Tensor: shape=(), dtype=float32, numpy=3.0>)"
            ]
          },
          "execution_count": 7,
          "metadata": {},
          "output_type": "execute_result"
        }
      ],
      "source": [
        "# Let's take a look at the single examples invidually\n",
        "X[0], y[0]"
      ]
    },
    {
      "cell_type": "markdown",
      "metadata": {
        "id": "fKtihU57_cOY"
      },
      "source": [
        "In our case, we're trying to build a model to predict the pattern between `X[0]` equalling `-7.0` and `y[0]` equalling `3.0`.\n",
        "\n",
        "So now we get our answer, we're trying to use 1 `X` value to predict 1 `y` value.\n",
        "\n",
        "You might be thinking, \"this seems pretty complicated for just predicting a straight line...\".\n",
        "\n",
        "And you'd be right.\n",
        "\n",
        "But the concepts we're covering here, the concepts of input and output shapes to a model are fundamental. \n",
        "\n",
        "In fact, they're probably two of the things you'll spend the most time on when you work with neural networks: **making sure your input and outputs are in the correct shape**.\n",
        "\n",
        "If it doesn't make sense now, we'll see plenty more examples later on (soon you'll notice the input and output shapes can be almost anything you can imagine).\n",
        "\n",
        "![example of input and output shapes for a housing price prediction problem](https://raw.githubusercontent.com/mrdbourke/tensorflow-deep-learning/main/images/01-input-and-output-shapes-housing-prices.png)\n",
        "*If you were working on building a machine learning algorithm for predicting housing prices, your inputs may be number of bedrooms, number of bathrooms and number of garages, giving you an input shape of 3 (3 different features). And since you're trying to predict the price of the house, your output shape would be 1.*"
      ]
    },
    {
      "cell_type": "markdown",
      "metadata": {
        "id": "PhAIqjrn6olF"
      },
      "source": [
        "## Steps in modelling with TensorFlow\n",
        "\n",
        "Now we know what data we have as well as the input and output shapes, let's see how we'd build a neural network to model it.\n",
        "\n",
        "In TensorFlow, there are typically 3 fundamental steps to creating and training a model.\n",
        "\n",
        "1. **Creating a model** - piece together the layers of a neural network yourself (using the [Functional](https://www.tensorflow.org/guide/keras/functional) or [Sequential API](https://www.tensorflow.org/api_docs/python/tf/keras/Sequential)) or import a previously built model (known as transfer learning).\n",
        "2. **Compiling a model** - defining how a models performance should be measured (loss/metrics) as well as defining how it should improve (optimizer). \n",
        "3. **Fitting a model** - letting the model try to find patterns in the data (how does `X` get to `y`). \n",
        "\n",
        "Let's see these in action using the [Keras Sequential API](https://www.tensorflow.org/api_docs/python/tf/keras/Sequential) to build a model for our regression data. And then we'll step through each.\n"
      ]
    },
    {
      "cell_type": "code",
      "execution_count": 8,
      "metadata": {
        "colab": {
          "base_uri": "https://localhost:8080/"
        },
        "id": "P9jj-OE16yCn",
        "outputId": "bc204319-5970-475c-cde0-bb589898e4d6"
      },
      "outputs": [
        {
          "name": "stdout",
          "output_type": "stream",
          "text": [
            "Epoch 1/5\n",
            "1/1 [==============================] - 0s 144ms/step - loss: 11.5048 - mae: 11.5048\n",
            "Epoch 2/5\n",
            "1/1 [==============================] - 0s 2ms/step - loss: 11.3723 - mae: 11.3723\n",
            "Epoch 3/5\n",
            "1/1 [==============================] - 0s 1ms/step - loss: 11.2398 - mae: 11.2398\n",
            "Epoch 4/5\n",
            "1/1 [==============================] - 0s 987us/step - loss: 11.1073 - mae: 11.1073\n",
            "Epoch 5/5\n",
            "1/1 [==============================] - 0s 1ms/step - loss: 10.9748 - mae: 10.9748\n"
          ]
        },
        {
          "name": "stderr",
          "output_type": "stream",
          "text": [
            "2021-11-05 16:09:02.020880: I tensorflow/compiler/mlir/mlir_graph_optimization_pass.cc:176] None of the MLIR Optimization Passes are enabled (registered 2)\n",
            "2021-11-05 16:09:02.037710: I tensorflow/core/platform/profile_utils/cpu_utils.cc:114] CPU Frequency: 2499950000 Hz\n"
          ]
        },
        {
          "data": {
            "text/plain": [
              "<tensorflow.python.keras.callbacks.History at 0x7f0ad23905b0>"
            ]
          },
          "execution_count": 8,
          "metadata": {},
          "output_type": "execute_result"
        }
      ],
      "source": [
        "# Set random seed\n",
        "tf.random.set_seed(42)\n",
        "\n",
        "# Create a model using the Sequential API\n",
        "model = tf.keras.Sequential([\n",
        "  tf.keras.layers.Dense(1)\n",
        "])\n",
        "\n",
        "# Compile the model\n",
        "model.compile(loss=tf.keras.losses.mae, # mae is short for mean absolute error\n",
        "              optimizer=tf.keras.optimizers.SGD(), # SGD is short for stochastic gradient descent\n",
        "              metrics=[\"mae\"])\n",
        "\n",
        "# Fit the model\n",
        "model.fit(X, y, epochs=5)"
      ]
    },
    {
      "cell_type": "markdown",
      "metadata": {
        "id": "bbjCwkEtetB9"
      },
      "source": [
        "Boom!\n",
        "\n",
        "We've just trained a model to figure out the patterns between `X` and `y`.\n",
        "\n",
        "How do you think it went?"
      ]
    },
    {
      "cell_type": "code",
      "execution_count": 9,
      "metadata": {
        "colab": {
          "base_uri": "https://localhost:8080/"
        },
        "id": "VWLpG2U3erWo",
        "outputId": "2f838c3b-35b1-43d4-d9fa-d82008e4bf6d"
      },
      "outputs": [
        {
          "data": {
            "text/plain": [
              "(<tf.Tensor: shape=(8,), dtype=float32, numpy=array([-7., -4., -1.,  2.,  5.,  8., 11., 14.], dtype=float32)>,\n",
              " <tf.Tensor: shape=(8,), dtype=float32, numpy=array([ 3.,  6.,  9., 12., 15., 18., 21., 24.], dtype=float32)>)"
            ]
          },
          "execution_count": 9,
          "metadata": {},
          "output_type": "execute_result"
        }
      ],
      "source": [
        "# Check out X and y\n",
        "X, y"
      ]
    },
    {
      "cell_type": "markdown",
      "metadata": {
        "id": "0ZpkaI_Oe6no"
      },
      "source": [
        "What do you think the outcome should be if we passed our model an `X` value of 17.0?"
      ]
    },
    {
      "cell_type": "code",
      "execution_count": 10,
      "metadata": {
        "colab": {
          "base_uri": "https://localhost:8080/"
        },
        "id": "X86cD66Qeo-8",
        "outputId": "653a5904-2ebe-4f63-fca6-12b3a9abc0d7"
      },
      "outputs": [
        {
          "data": {
            "text/plain": [
              "array([[12.716021]], dtype=float32)"
            ]
          },
          "execution_count": 10,
          "metadata": {},
          "output_type": "execute_result"
        }
      ],
      "source": [
        "# Make a prediction with the model\n",
        "model.predict([17.0])"
      ]
    },
    {
      "cell_type": "markdown",
      "metadata": {
        "id": "2YoKIqhffq33"
      },
      "source": [
        "It doesn't go very well... it should've output something close to 27.0.\n",
        "\n",
        "> 🤔 **Question:** What's Keras? I thought we were working with TensorFlow but every time we write TensorFlow code, `keras` comes after `tf` (e.g. `tf.keras.layers.Dense()`)?\n",
        "\n",
        "Before TensorFlow 2.0+, [Keras](https://keras.io/) was an API designed to be able to build deep learning models with ease. Since TensorFlow 2.0+, its functionality has been tightly integrated within the TensorFlow library."
      ]
    },
    {
      "cell_type": "markdown",
      "metadata": {
        "id": "qAPk1T3xgOm4"
      },
      "source": [
        "## Improving a model\n",
        "\n",
        "How do you think you'd improve upon our current model?\n",
        "\n",
        "If you guessed by tweaking some of the things we did above, you'd be correct.\n",
        "\n",
        "To improve our model, we alter almost every part of the 3 steps we went through before.\n",
        "\n",
        "1. **Creating a model** - here you might want to add more layers, increase the number of hidden units (also called neurons) within each layer, change the activation functions of each layer.\n",
        "2. **Compiling a model** - you might want to choose optimization function or perhaps change the **learning rate** of the optimization function.\n",
        "3. **Fitting a model** - perhaps you could fit a model for more **epochs** (leave it training for longer) or on more data (give the model more examples to learn from).\n",
        "\n",
        "![various options you can use to improve a neural network model](https://raw.githubusercontent.com/mrdbourke/tensorflow-deep-learning/main/images/02-improving-a-model-from-model-perspective.png)\n",
        "*There are many different ways to potentially improve a neural network. Some of the most common include: increasing the number of layers (making the network deeper), increasing the number of hidden units (making the network wider) and changing the learning rate. Because these values are all human-changeable, they're referred to as [hyperparameters](https://en.wikipedia.org/wiki/Hyperparameter_(machine_learning)) and the practice of trying to find the best hyperparameters is referred to as [hyperparameter tuning](https://en.wikipedia.org/wiki/Hyperparameter_optimization).*\n",
        "\n",
        "Woah. We just introduced a bunch of possible steps. The important thing to remember is how you alter each of these will depend on the problem you're working on.\n",
        "\n",
        "And the good thing is, over the next few problems, we'll get hands-on with all of them.\n",
        "\n",
        "For now, let's keep it simple, all we'll do is train our model for longer (everything else will stay the same)."
      ]
    },
    {
      "cell_type": "code",
      "execution_count": 11,
      "metadata": {
        "colab": {
          "base_uri": "https://localhost:8080/"
        },
        "id": "MI0LammMgWcN",
        "outputId": "682b68ee-b2fb-4c02-bc72-e7ce033b8b31"
      },
      "outputs": [
        {
          "name": "stdout",
          "output_type": "stream",
          "text": [
            "Epoch 1/1000\n",
            "1/1 [==============================] - 0s 130ms/step - loss: 11.5048 - mae: 11.5048\n",
            "Epoch 2/1000\n",
            "1/1 [==============================] - 0s 1ms/step - loss: 11.3723 - mae: 11.3723\n",
            "Epoch 3/1000\n",
            "1/1 [==============================] - 0s 1ms/step - loss: 11.2398 - mae: 11.2398\n",
            "Epoch 4/1000\n",
            "1/1 [==============================] - 0s 1ms/step - loss: 11.1073 - mae: 11.1073\n",
            "Epoch 5/1000\n",
            "1/1 [==============================] - 0s 1ms/step - loss: 10.9748 - mae: 10.9748\n",
            "Epoch 6/1000\n",
            "1/1 [==============================] - 0s 1ms/step - loss: 10.8423 - mae: 10.8423\n",
            "Epoch 7/1000\n",
            "1/1 [==============================] - 0s 1ms/step - loss: 10.7098 - mae: 10.7098\n",
            "Epoch 8/1000\n",
            "1/1 [==============================] - 0s 2ms/step - loss: 10.5773 - mae: 10.5773\n",
            "Epoch 9/1000\n",
            "1/1 [==============================] - 0s 1ms/step - loss: 10.4448 - mae: 10.4448\n",
            "Epoch 10/1000\n",
            "1/1 [==============================] - 0s 1ms/step - loss: 10.3123 - mae: 10.3123\n",
            "Epoch 11/1000\n",
            "1/1 [==============================] - 0s 1ms/step - loss: 10.1798 - mae: 10.1798\n",
            "Epoch 12/1000\n",
            "1/1 [==============================] - 0s 1ms/step - loss: 10.0473 - mae: 10.0473\n",
            "Epoch 13/1000\n",
            "1/1 [==============================] - 0s 1ms/step - loss: 9.9148 - mae: 9.9148\n",
            "Epoch 14/1000\n",
            "1/1 [==============================] - 0s 2ms/step - loss: 9.7823 - mae: 9.7823\n",
            "Epoch 15/1000\n",
            "1/1 [==============================] - 0s 1ms/step - loss: 9.6498 - mae: 9.6498\n",
            "Epoch 16/1000\n",
            "1/1 [==============================] - 0s 1ms/step - loss: 9.5173 - mae: 9.5173\n",
            "Epoch 17/1000\n",
            "1/1 [==============================] - 0s 1ms/step - loss: 9.3848 - mae: 9.3848\n",
            "Epoch 18/1000\n",
            "1/1 [==============================] - 0s 1ms/step - loss: 9.2523 - mae: 9.2523\n",
            "Epoch 19/1000\n",
            "1/1 [==============================] - 0s 1ms/step - loss: 9.1198 - mae: 9.1198\n",
            "Epoch 20/1000\n",
            "1/1 [==============================] - 0s 1ms/step - loss: 8.9873 - mae: 8.9873\n",
            "Epoch 21/1000\n",
            "1/1 [==============================] - 0s 1ms/step - loss: 8.8548 - mae: 8.8548\n",
            "Epoch 22/1000\n",
            "1/1 [==============================] - 0s 1ms/step - loss: 8.7223 - mae: 8.7223\n",
            "Epoch 23/1000\n",
            "1/1 [==============================] - 0s 1ms/step - loss: 8.5898 - mae: 8.5898\n",
            "Epoch 24/1000\n",
            "1/1 [==============================] - 0s 1ms/step - loss: 8.4573 - mae: 8.4573\n",
            "Epoch 25/1000\n",
            "1/1 [==============================] - 0s 1ms/step - loss: 8.3248 - mae: 8.3248\n",
            "Epoch 26/1000\n",
            "1/1 [==============================] - 0s 1ms/step - loss: 8.1923 - mae: 8.1923\n",
            "Epoch 27/1000\n",
            "1/1 [==============================] - 0s 1ms/step - loss: 8.0598 - mae: 8.0598\n",
            "Epoch 28/1000\n",
            "1/1 [==============================] - 0s 1ms/step - loss: 7.9273 - mae: 7.9273\n",
            "Epoch 29/1000\n",
            "1/1 [==============================] - 0s 1ms/step - loss: 7.7948 - mae: 7.7948\n",
            "Epoch 30/1000\n",
            "1/1 [==============================] - 0s 2ms/step - loss: 7.6623 - mae: 7.6623\n",
            "Epoch 31/1000\n",
            "1/1 [==============================] - 0s 1ms/step - loss: 7.5298 - mae: 7.5298\n",
            "Epoch 32/1000\n",
            "1/1 [==============================] - 0s 1ms/step - loss: 7.3973 - mae: 7.3973\n",
            "Epoch 33/1000\n",
            "1/1 [==============================] - 0s 1ms/step - loss: 7.2648 - mae: 7.2648\n",
            "Epoch 34/1000\n",
            "1/1 [==============================] - 0s 1ms/step - loss: 7.2525 - mae: 7.2525\n",
            "Epoch 35/1000\n",
            "1/1 [==============================] - 0s 1ms/step - loss: 7.2469 - mae: 7.2469\n",
            "Epoch 36/1000\n",
            "1/1 [==============================] - 0s 1ms/step - loss: 7.2413 - mae: 7.2413\n",
            "Epoch 37/1000\n",
            "1/1 [==============================] - 0s 1ms/step - loss: 7.2356 - mae: 7.2356\n",
            "Epoch 38/1000\n",
            "1/1 [==============================] - 0s 1ms/step - loss: 7.2300 - mae: 7.2300\n",
            "Epoch 39/1000\n",
            "1/1 [==============================] - 0s 1ms/step - loss: 7.2244 - mae: 7.2244\n",
            "Epoch 40/1000\n",
            "1/1 [==============================] - 0s 1ms/step - loss: 7.2188 - mae: 7.2188\n",
            "Epoch 41/1000\n",
            "1/1 [==============================] - 0s 1ms/step - loss: 7.2131 - mae: 7.2131\n",
            "Epoch 42/1000\n",
            "1/1 [==============================] - 0s 1ms/step - loss: 7.2075 - mae: 7.2075\n",
            "Epoch 43/1000\n",
            "1/1 [==============================] - 0s 1ms/step - loss: 7.2019 - mae: 7.2019\n",
            "Epoch 44/1000\n",
            "1/1 [==============================] - 0s 1ms/step - loss: 7.1963 - mae: 7.1963\n",
            "Epoch 45/1000\n",
            "1/1 [==============================] - 0s 1ms/step - loss: 7.1906 - mae: 7.1906\n",
            "Epoch 46/1000\n",
            "1/1 [==============================] - 0s 1ms/step - loss: 7.1850 - mae: 7.1850\n",
            "Epoch 47/1000\n",
            "1/1 [==============================] - 0s 1ms/step - loss: 7.1794 - mae: 7.1794\n",
            "Epoch 48/1000\n",
            "1/1 [==============================] - 0s 1ms/step - loss: 7.1738 - mae: 7.1738\n",
            "Epoch 49/1000\n",
            "1/1 [==============================] - 0s 1ms/step - loss: 7.1681 - mae: 7.1681\n",
            "Epoch 50/1000\n",
            "1/1 [==============================] - 0s 1ms/step - loss: 7.1625 - mae: 7.1625\n",
            "Epoch 51/1000\n",
            "1/1 [==============================] - 0s 1ms/step - loss: 7.1569 - mae: 7.1569\n",
            "Epoch 52/1000\n",
            "1/1 [==============================] - 0s 1ms/step - loss: 7.1512 - mae: 7.1512\n",
            "Epoch 53/1000\n",
            "1/1 [==============================] - 0s 1ms/step - loss: 7.1456 - mae: 7.1456\n",
            "Epoch 54/1000\n",
            "1/1 [==============================] - 0s 2ms/step - loss: 7.1400 - mae: 7.1400\n",
            "Epoch 55/1000\n",
            "1/1 [==============================] - 0s 1ms/step - loss: 7.1344 - mae: 7.1344\n",
            "Epoch 56/1000\n",
            "1/1 [==============================] - 0s 1ms/step - loss: 7.1287 - mae: 7.1287\n",
            "Epoch 57/1000\n",
            "1/1 [==============================] - 0s 1ms/step - loss: 7.1231 - mae: 7.1231\n",
            "Epoch 58/1000\n",
            "1/1 [==============================] - 0s 1ms/step - loss: 7.1175 - mae: 7.1175\n",
            "Epoch 59/1000\n",
            "1/1 [==============================] - 0s 3ms/step - loss: 7.1119 - mae: 7.1119\n",
            "Epoch 60/1000\n",
            "1/1 [==============================] - 0s 1ms/step - loss: 7.1063 - mae: 7.1063\n",
            "Epoch 61/1000\n",
            "1/1 [==============================] - 0s 1ms/step - loss: 7.1006 - mae: 7.1006\n",
            "Epoch 62/1000\n",
            "1/1 [==============================] - 0s 1ms/step - loss: 7.0950 - mae: 7.0950\n",
            "Epoch 63/1000\n",
            "1/1 [==============================] - 0s 1ms/step - loss: 7.0894 - mae: 7.0894\n",
            "Epoch 64/1000\n",
            "1/1 [==============================] - 0s 1ms/step - loss: 7.0838 - mae: 7.0838\n",
            "Epoch 65/1000\n",
            "1/1 [==============================] - 0s 1ms/step - loss: 7.0781 - mae: 7.0781\n",
            "Epoch 66/1000\n",
            "1/1 [==============================] - 0s 1ms/step - loss: 7.0725 - mae: 7.0725\n",
            "Epoch 67/1000\n",
            "1/1 [==============================] - 0s 1ms/step - loss: 7.0669 - mae: 7.0669\n",
            "Epoch 68/1000\n",
            "1/1 [==============================] - 0s 1ms/step - loss: 7.0613 - mae: 7.0613\n",
            "Epoch 69/1000\n",
            "1/1 [==============================] - 0s 1ms/step - loss: 7.0556 - mae: 7.0556\n",
            "Epoch 70/1000\n",
            "1/1 [==============================] - 0s 2ms/step - loss: 7.0500 - mae: 7.0500\n",
            "Epoch 71/1000\n",
            "1/1 [==============================] - 0s 1ms/step - loss: 7.0444 - mae: 7.0444\n",
            "Epoch 72/1000\n",
            "1/1 [==============================] - 0s 1ms/step - loss: 7.0388 - mae: 7.0388\n",
            "Epoch 73/1000\n",
            "1/1 [==============================] - 0s 1ms/step - loss: 7.0331 - mae: 7.0331\n",
            "Epoch 74/1000\n",
            "1/1 [==============================] - 0s 1ms/step - loss: 7.0275 - mae: 7.0275\n",
            "Epoch 75/1000\n",
            "1/1 [==============================] - 0s 1ms/step - loss: 7.0219 - mae: 7.0219\n",
            "Epoch 76/1000\n",
            "1/1 [==============================] - 0s 2ms/step - loss: 7.0163 - mae: 7.0163\n",
            "Epoch 77/1000\n",
            "1/1 [==============================] - 0s 1ms/step - loss: 7.0106 - mae: 7.0106\n",
            "Epoch 78/1000\n",
            "1/1 [==============================] - 0s 1ms/step - loss: 7.0050 - mae: 7.0050\n",
            "Epoch 79/1000\n",
            "1/1 [==============================] - 0s 1ms/step - loss: 6.9994 - mae: 6.9994\n",
            "Epoch 80/1000\n",
            "1/1 [==============================] - 0s 1ms/step - loss: 6.9938 - mae: 6.9938\n",
            "Epoch 81/1000\n",
            "1/1 [==============================] - 0s 2ms/step - loss: 6.9881 - mae: 6.9881\n",
            "Epoch 82/1000\n",
            "1/1 [==============================] - 0s 1ms/step - loss: 6.9825 - mae: 6.9825\n",
            "Epoch 83/1000\n",
            "1/1 [==============================] - 0s 2ms/step - loss: 6.9769 - mae: 6.9769\n",
            "Epoch 84/1000\n",
            "1/1 [==============================] - 0s 1ms/step - loss: 6.9713 - mae: 6.9713\n",
            "Epoch 85/1000\n",
            "1/1 [==============================] - 0s 1ms/step - loss: 6.9656 - mae: 6.9656\n",
            "Epoch 86/1000\n",
            "1/1 [==============================] - 0s 2ms/step - loss: 6.9600 - mae: 6.9600\n",
            "Epoch 87/1000\n",
            "1/1 [==============================] - 0s 1ms/step - loss: 6.9544 - mae: 6.9544\n",
            "Epoch 88/1000\n",
            "1/1 [==============================] - 0s 1ms/step - loss: 6.9488 - mae: 6.9488\n",
            "Epoch 89/1000\n",
            "1/1 [==============================] - 0s 1ms/step - loss: 6.9431 - mae: 6.9431\n",
            "Epoch 90/1000\n",
            "1/1 [==============================] - 0s 1ms/step - loss: 6.9375 - mae: 6.9375\n",
            "Epoch 91/1000\n",
            "1/1 [==============================] - 0s 1ms/step - loss: 6.9319 - mae: 6.9319\n",
            "Epoch 92/1000\n",
            "1/1 [==============================] - 0s 1ms/step - loss: 6.9263 - mae: 6.9263\n",
            "Epoch 93/1000\n",
            "1/1 [==============================] - 0s 1ms/step - loss: 6.9206 - mae: 6.9206\n",
            "Epoch 94/1000\n",
            "1/1 [==============================] - 0s 2ms/step - loss: 6.9150 - mae: 6.9150\n",
            "Epoch 95/1000\n",
            "1/1 [==============================] - 0s 1ms/step - loss: 6.9094 - mae: 6.9094\n",
            "Epoch 96/1000\n",
            "1/1 [==============================] - 0s 1ms/step - loss: 6.9038 - mae: 6.9038\n",
            "Epoch 97/1000\n",
            "1/1 [==============================] - 0s 1ms/step - loss: 6.8981 - mae: 6.8981\n",
            "Epoch 98/1000\n",
            "1/1 [==============================] - 0s 1ms/step - loss: 6.8925 - mae: 6.8925\n",
            "Epoch 99/1000\n",
            "1/1 [==============================] - 0s 1ms/step - loss: 6.8869 - mae: 6.8869\n",
            "Epoch 100/1000\n",
            "1/1 [==============================] - 0s 1ms/step - loss: 6.8813 - mae: 6.8813\n",
            "Epoch 101/1000\n",
            "1/1 [==============================] - 0s 1ms/step - loss: 6.8756 - mae: 6.8756\n",
            "Epoch 102/1000\n",
            "1/1 [==============================] - 0s 1ms/step - loss: 6.8700 - mae: 6.8700\n",
            "Epoch 103/1000\n",
            "1/1 [==============================] - 0s 1ms/step - loss: 6.8644 - mae: 6.8644\n",
            "Epoch 104/1000\n",
            "1/1 [==============================] - 0s 2ms/step - loss: 6.8588 - mae: 6.8588\n",
            "Epoch 105/1000\n",
            "1/1 [==============================] - 0s 1ms/step - loss: 6.8531 - mae: 6.8531\n",
            "Epoch 106/1000\n",
            "1/1 [==============================] - 0s 1ms/step - loss: 6.8475 - mae: 6.8475\n",
            "Epoch 107/1000\n",
            "1/1 [==============================] - 0s 1ms/step - loss: 6.8419 - mae: 6.8419\n",
            "Epoch 108/1000\n",
            "1/1 [==============================] - 0s 1ms/step - loss: 6.8363 - mae: 6.8363\n",
            "Epoch 109/1000\n",
            "1/1 [==============================] - 0s 1ms/step - loss: 6.8306 - mae: 6.8306\n",
            "Epoch 110/1000\n",
            "1/1 [==============================] - 0s 1ms/step - loss: 6.8250 - mae: 6.8250\n",
            "Epoch 111/1000\n",
            "1/1 [==============================] - 0s 1ms/step - loss: 6.8194 - mae: 6.8194\n",
            "Epoch 112/1000\n",
            "1/1 [==============================] - 0s 1ms/step - loss: 6.8138 - mae: 6.8138\n",
            "Epoch 113/1000\n",
            "1/1 [==============================] - 0s 1ms/step - loss: 6.8081 - mae: 6.8081\n",
            "Epoch 114/1000\n",
            "1/1 [==============================] - 0s 2ms/step - loss: 6.8025 - mae: 6.8025\n",
            "Epoch 115/1000\n",
            "1/1 [==============================] - 0s 1ms/step - loss: 6.7969 - mae: 6.7969\n",
            "Epoch 116/1000\n",
            "1/1 [==============================] - 0s 1ms/step - loss: 6.7913 - mae: 6.7913\n",
            "Epoch 117/1000\n",
            "1/1 [==============================] - 0s 1ms/step - loss: 6.7856 - mae: 6.7856\n",
            "Epoch 118/1000\n",
            "1/1 [==============================] - 0s 2ms/step - loss: 6.7800 - mae: 6.7800\n",
            "Epoch 119/1000\n",
            "1/1 [==============================] - 0s 1ms/step - loss: 6.7744 - mae: 6.7744\n",
            "Epoch 120/1000\n",
            "1/1 [==============================] - 0s 2ms/step - loss: 6.7688 - mae: 6.7688\n",
            "Epoch 121/1000\n",
            "1/1 [==============================] - 0s 2ms/step - loss: 6.7631 - mae: 6.7631\n",
            "Epoch 122/1000\n",
            "1/1 [==============================] - 0s 2ms/step - loss: 6.7575 - mae: 6.7575\n",
            "Epoch 123/1000\n",
            "1/1 [==============================] - 0s 2ms/step - loss: 6.7519 - mae: 6.7519\n",
            "Epoch 124/1000\n",
            "1/1 [==============================] - 0s 1ms/step - loss: 6.7463 - mae: 6.7463\n",
            "Epoch 125/1000\n",
            "1/1 [==============================] - 0s 1ms/step - loss: 6.7406 - mae: 6.7406\n",
            "Epoch 126/1000\n",
            "1/1 [==============================] - 0s 2ms/step - loss: 6.7350 - mae: 6.7350\n",
            "Epoch 127/1000\n",
            "1/1 [==============================] - 0s 2ms/step - loss: 6.7294 - mae: 6.7294\n",
            "Epoch 128/1000\n",
            "1/1 [==============================] - 0s 1ms/step - loss: 6.7238 - mae: 6.7238\n",
            "Epoch 129/1000\n",
            "1/1 [==============================] - 0s 1ms/step - loss: 6.7181 - mae: 6.7181\n",
            "Epoch 130/1000\n",
            "1/1 [==============================] - 0s 1ms/step - loss: 6.7125 - mae: 6.7125\n",
            "Epoch 131/1000\n",
            "1/1 [==============================] - 0s 1ms/step - loss: 6.7069 - mae: 6.7069\n",
            "Epoch 132/1000\n",
            "1/1 [==============================] - 0s 1ms/step - loss: 6.7013 - mae: 6.7013\n",
            "Epoch 133/1000\n",
            "1/1 [==============================] - 0s 1ms/step - loss: 6.6956 - mae: 6.6956\n",
            "Epoch 134/1000\n",
            "1/1 [==============================] - 0s 1ms/step - loss: 6.6900 - mae: 6.6900\n",
            "Epoch 135/1000\n",
            "1/1 [==============================] - 0s 1ms/step - loss: 6.6844 - mae: 6.6844\n",
            "Epoch 136/1000\n",
            "1/1 [==============================] - 0s 2ms/step - loss: 6.6788 - mae: 6.6788\n",
            "Epoch 137/1000\n",
            "1/1 [==============================] - 0s 1ms/step - loss: 6.6731 - mae: 6.6731\n",
            "Epoch 138/1000\n",
            "1/1 [==============================] - 0s 1ms/step - loss: 6.6675 - mae: 6.6675\n",
            "Epoch 139/1000\n",
            "1/1 [==============================] - 0s 1ms/step - loss: 6.6619 - mae: 6.6619\n",
            "Epoch 140/1000\n",
            "1/1 [==============================] - 0s 1ms/step - loss: 6.6562 - mae: 6.6562\n",
            "Epoch 141/1000\n",
            "1/1 [==============================] - 0s 1ms/step - loss: 6.6506 - mae: 6.6506\n",
            "Epoch 142/1000\n",
            "1/1 [==============================] - 0s 1ms/step - loss: 6.6450 - mae: 6.6450\n",
            "Epoch 143/1000\n",
            "1/1 [==============================] - 0s 2ms/step - loss: 6.6394 - mae: 6.6394\n",
            "Epoch 144/1000\n",
            "1/1 [==============================] - 0s 2ms/step - loss: 6.6337 - mae: 6.6337\n",
            "Epoch 145/1000\n",
            "1/1 [==============================] - 0s 1ms/step - loss: 6.6281 - mae: 6.6281\n",
            "Epoch 146/1000\n",
            "1/1 [==============================] - 0s 1ms/step - loss: 6.6225 - mae: 6.6225\n",
            "Epoch 147/1000\n",
            "1/1 [==============================] - 0s 1ms/step - loss: 6.6169 - mae: 6.6169\n",
            "Epoch 148/1000\n",
            "1/1 [==============================] - 0s 1ms/step - loss: 6.6112 - mae: 6.6112\n",
            "Epoch 149/1000\n",
            "1/1 [==============================] - 0s 2ms/step - loss: 6.6056 - mae: 6.6056\n",
            "Epoch 150/1000\n",
            "1/1 [==============================] - 0s 2ms/step - loss: 6.6000 - mae: 6.6000\n",
            "Epoch 151/1000\n",
            "1/1 [==============================] - 0s 2ms/step - loss: 6.5944 - mae: 6.5944\n",
            "Epoch 152/1000\n",
            "1/1 [==============================] - 0s 3ms/step - loss: 6.5887 - mae: 6.5887\n",
            "Epoch 153/1000\n",
            "1/1 [==============================] - 0s 1ms/step - loss: 6.5831 - mae: 6.5831\n",
            "Epoch 154/1000\n",
            "1/1 [==============================] - 0s 1ms/step - loss: 6.5775 - mae: 6.5775\n",
            "Epoch 155/1000\n",
            "1/1 [==============================] - 0s 2ms/step - loss: 6.5719 - mae: 6.5719\n",
            "Epoch 156/1000\n",
            "1/1 [==============================] - 0s 2ms/step - loss: 6.5662 - mae: 6.5662\n",
            "Epoch 157/1000\n",
            "1/1 [==============================] - 0s 2ms/step - loss: 6.5606 - mae: 6.5606\n",
            "Epoch 158/1000\n",
            "1/1 [==============================] - 0s 2ms/step - loss: 6.5550 - mae: 6.5550\n",
            "Epoch 159/1000\n",
            "1/1 [==============================] - 0s 1ms/step - loss: 6.5494 - mae: 6.5494\n",
            "Epoch 160/1000\n",
            "1/1 [==============================] - 0s 1ms/step - loss: 6.5437 - mae: 6.5437\n",
            "Epoch 161/1000\n",
            "1/1 [==============================] - 0s 2ms/step - loss: 6.5381 - mae: 6.5381\n",
            "Epoch 162/1000\n",
            "1/1 [==============================] - 0s 2ms/step - loss: 6.5325 - mae: 6.5325\n",
            "Epoch 163/1000\n",
            "1/1 [==============================] - 0s 2ms/step - loss: 6.5269 - mae: 6.5269\n",
            "Epoch 164/1000\n",
            "1/1 [==============================] - 0s 9ms/step - loss: 6.5212 - mae: 6.5212\n",
            "Epoch 165/1000\n",
            "1/1 [==============================] - 0s 7ms/step - loss: 6.5156 - mae: 6.5156\n",
            "Epoch 166/1000\n",
            "1/1 [==============================] - 0s 2ms/step - loss: 6.5100 - mae: 6.5100\n",
            "Epoch 167/1000\n",
            "1/1 [==============================] - 0s 1ms/step - loss: 6.5044 - mae: 6.5044\n",
            "Epoch 168/1000\n",
            "1/1 [==============================] - 0s 2ms/step - loss: 6.4987 - mae: 6.4987\n",
            "Epoch 169/1000\n",
            "1/1 [==============================] - 0s 2ms/step - loss: 6.4931 - mae: 6.4931\n",
            "Epoch 170/1000\n",
            "1/1 [==============================] - 0s 1ms/step - loss: 6.4875 - mae: 6.4875\n",
            "Epoch 171/1000\n",
            "1/1 [==============================] - 0s 2ms/step - loss: 6.4819 - mae: 6.4819\n",
            "Epoch 172/1000\n",
            "1/1 [==============================] - 0s 1ms/step - loss: 6.4762 - mae: 6.4762\n",
            "Epoch 173/1000\n",
            "1/1 [==============================] - 0s 1ms/step - loss: 6.4706 - mae: 6.4706\n",
            "Epoch 174/1000\n",
            "1/1 [==============================] - 0s 1ms/step - loss: 6.4650 - mae: 6.4650\n",
            "Epoch 175/1000\n",
            "1/1 [==============================] - 0s 1ms/step - loss: 6.4594 - mae: 6.4594\n",
            "Epoch 176/1000\n",
            "1/1 [==============================] - 0s 1ms/step - loss: 6.4537 - mae: 6.4537\n",
            "Epoch 177/1000\n",
            "1/1 [==============================] - 0s 2ms/step - loss: 6.4481 - mae: 6.4481\n",
            "Epoch 178/1000\n",
            "1/1 [==============================] - 0s 1ms/step - loss: 6.4425 - mae: 6.4425\n",
            "Epoch 179/1000\n",
            "1/1 [==============================] - 0s 1ms/step - loss: 6.4369 - mae: 6.4369\n",
            "Epoch 180/1000\n",
            "1/1 [==============================] - 0s 1ms/step - loss: 6.4312 - mae: 6.4312\n",
            "Epoch 181/1000\n",
            "1/1 [==============================] - 0s 1ms/step - loss: 6.4256 - mae: 6.4256\n",
            "Epoch 182/1000\n",
            "1/1 [==============================] - 0s 2ms/step - loss: 6.4200 - mae: 6.4200\n",
            "Epoch 183/1000\n",
            "1/1 [==============================] - 0s 1ms/step - loss: 6.4144 - mae: 6.4144\n",
            "Epoch 184/1000\n",
            "1/1 [==============================] - 0s 1ms/step - loss: 6.4087 - mae: 6.4087\n",
            "Epoch 185/1000\n",
            "1/1 [==============================] - 0s 2ms/step - loss: 6.4031 - mae: 6.4031\n",
            "Epoch 186/1000\n",
            "1/1 [==============================] - 0s 2ms/step - loss: 6.3975 - mae: 6.3975\n",
            "Epoch 187/1000\n",
            "1/1 [==============================] - 0s 2ms/step - loss: 6.3919 - mae: 6.3919\n",
            "Epoch 188/1000\n",
            "1/1 [==============================] - 0s 2ms/step - loss: 6.3862 - mae: 6.3862\n",
            "Epoch 189/1000\n",
            "1/1 [==============================] - 0s 1ms/step - loss: 6.3806 - mae: 6.3806\n",
            "Epoch 190/1000\n",
            "1/1 [==============================] - 0s 1ms/step - loss: 6.3750 - mae: 6.3750\n",
            "Epoch 191/1000\n",
            "1/1 [==============================] - 0s 1ms/step - loss: 6.3694 - mae: 6.3694\n",
            "Epoch 192/1000\n",
            "1/1 [==============================] - 0s 2ms/step - loss: 6.3637 - mae: 6.3637\n",
            "Epoch 193/1000\n",
            "1/1 [==============================] - 0s 2ms/step - loss: 6.3581 - mae: 6.3581\n",
            "Epoch 194/1000\n",
            "1/1 [==============================] - 0s 1ms/step - loss: 6.3525 - mae: 6.3525\n",
            "Epoch 195/1000\n",
            "1/1 [==============================] - 0s 2ms/step - loss: 6.3469 - mae: 6.3469\n",
            "Epoch 196/1000\n",
            "1/1 [==============================] - 0s 1ms/step - loss: 6.3412 - mae: 6.3412\n",
            "Epoch 197/1000\n",
            "1/1 [==============================] - 0s 1ms/step - loss: 6.3356 - mae: 6.3356\n",
            "Epoch 198/1000\n",
            "1/1 [==============================] - 0s 2ms/step - loss: 6.3300 - mae: 6.3300\n",
            "Epoch 199/1000\n",
            "1/1 [==============================] - 0s 1ms/step - loss: 6.3244 - mae: 6.3244\n",
            "Epoch 200/1000\n",
            "1/1 [==============================] - 0s 2ms/step - loss: 6.3187 - mae: 6.3187\n",
            "Epoch 201/1000\n",
            "1/1 [==============================] - 0s 1ms/step - loss: 6.3131 - mae: 6.3131\n",
            "Epoch 202/1000\n",
            "1/1 [==============================] - 0s 2ms/step - loss: 6.3075 - mae: 6.3075\n",
            "Epoch 203/1000\n",
            "1/1 [==============================] - 0s 1ms/step - loss: 6.3019 - mae: 6.3019\n",
            "Epoch 204/1000\n",
            "1/1 [==============================] - 0s 2ms/step - loss: 6.2962 - mae: 6.2962\n",
            "Epoch 205/1000\n",
            "1/1 [==============================] - 0s 1ms/step - loss: 6.2906 - mae: 6.2906\n",
            "Epoch 206/1000\n",
            "1/1 [==============================] - 0s 1ms/step - loss: 6.2850 - mae: 6.2850\n",
            "Epoch 207/1000\n",
            "1/1 [==============================] - 0s 2ms/step - loss: 6.2794 - mae: 6.2794\n",
            "Epoch 208/1000\n",
            "1/1 [==============================] - 0s 2ms/step - loss: 6.2737 - mae: 6.2737\n",
            "Epoch 209/1000\n",
            "1/1 [==============================] - 0s 2ms/step - loss: 6.2681 - mae: 6.2681\n",
            "Epoch 210/1000\n",
            "1/1 [==============================] - 0s 1ms/step - loss: 6.2625 - mae: 6.2625\n",
            "Epoch 211/1000\n",
            "1/1 [==============================] - 0s 1ms/step - loss: 6.2569 - mae: 6.2569\n",
            "Epoch 212/1000\n",
            "1/1 [==============================] - 0s 2ms/step - loss: 6.2512 - mae: 6.2512\n",
            "Epoch 213/1000\n",
            "1/1 [==============================] - 0s 2ms/step - loss: 6.2456 - mae: 6.2456\n",
            "Epoch 214/1000\n",
            "1/1 [==============================] - 0s 8ms/step - loss: 6.2400 - mae: 6.2400\n",
            "Epoch 215/1000\n",
            "1/1 [==============================] - 0s 1ms/step - loss: 6.2344 - mae: 6.2344\n",
            "Epoch 216/1000\n",
            "1/1 [==============================] - 0s 1ms/step - loss: 6.2287 - mae: 6.2287\n",
            "Epoch 217/1000\n",
            "1/1 [==============================] - 0s 1ms/step - loss: 6.2231 - mae: 6.2231\n",
            "Epoch 218/1000\n",
            "1/1 [==============================] - 0s 1ms/step - loss: 6.2175 - mae: 6.2175\n",
            "Epoch 219/1000\n",
            "1/1 [==============================] - 0s 1ms/step - loss: 6.2119 - mae: 6.2119\n",
            "Epoch 220/1000\n",
            "1/1 [==============================] - 0s 5ms/step - loss: 6.2062 - mae: 6.2062\n",
            "Epoch 221/1000\n",
            "1/1 [==============================] - 0s 2ms/step - loss: 6.2006 - mae: 6.2006\n",
            "Epoch 222/1000\n",
            "1/1 [==============================] - 0s 2ms/step - loss: 6.1950 - mae: 6.1950\n",
            "Epoch 223/1000\n",
            "1/1 [==============================] - 0s 2ms/step - loss: 6.1894 - mae: 6.1894\n",
            "Epoch 224/1000\n",
            "1/1 [==============================] - 0s 2ms/step - loss: 6.1837 - mae: 6.1837\n",
            "Epoch 225/1000\n",
            "1/1 [==============================] - 0s 1ms/step - loss: 6.1781 - mae: 6.1781\n",
            "Epoch 226/1000\n",
            "1/1 [==============================] - 0s 1ms/step - loss: 6.1725 - mae: 6.1725\n",
            "Epoch 227/1000\n",
            "1/1 [==============================] - 0s 1ms/step - loss: 6.1669 - mae: 6.1669\n",
            "Epoch 228/1000\n",
            "1/1 [==============================] - 0s 1ms/step - loss: 6.1612 - mae: 6.1612\n",
            "Epoch 229/1000\n",
            "1/1 [==============================] - 0s 1ms/step - loss: 6.1556 - mae: 6.1556\n",
            "Epoch 230/1000\n",
            "1/1 [==============================] - 0s 1ms/step - loss: 6.1500 - mae: 6.1500\n",
            "Epoch 231/1000\n",
            "1/1 [==============================] - 0s 2ms/step - loss: 6.1444 - mae: 6.1444\n",
            "Epoch 232/1000\n",
            "1/1 [==============================] - 0s 2ms/step - loss: 6.1387 - mae: 6.1387\n",
            "Epoch 233/1000\n",
            "1/1 [==============================] - 0s 1ms/step - loss: 6.1331 - mae: 6.1331\n",
            "Epoch 234/1000\n",
            "1/1 [==============================] - 0s 1ms/step - loss: 6.1275 - mae: 6.1275\n",
            "Epoch 235/1000\n",
            "1/1 [==============================] - 0s 1ms/step - loss: 6.1219 - mae: 6.1219\n",
            "Epoch 236/1000\n",
            "1/1 [==============================] - 0s 2ms/step - loss: 6.1162 - mae: 6.1162\n",
            "Epoch 237/1000\n",
            "1/1 [==============================] - 0s 1ms/step - loss: 6.1106 - mae: 6.1106\n",
            "Epoch 238/1000\n",
            "1/1 [==============================] - 0s 2ms/step - loss: 6.1050 - mae: 6.1050\n",
            "Epoch 239/1000\n",
            "1/1 [==============================] - 0s 1ms/step - loss: 6.0994 - mae: 6.0994\n",
            "Epoch 240/1000\n",
            "1/1 [==============================] - 0s 1ms/step - loss: 6.0937 - mae: 6.0937\n",
            "Epoch 241/1000\n",
            "1/1 [==============================] - 0s 1ms/step - loss: 6.0881 - mae: 6.0881\n",
            "Epoch 242/1000\n",
            "1/1 [==============================] - 0s 1ms/step - loss: 6.0825 - mae: 6.0825\n",
            "Epoch 243/1000\n",
            "1/1 [==============================] - 0s 1ms/step - loss: 6.0769 - mae: 6.0769\n",
            "Epoch 244/1000\n",
            "1/1 [==============================] - 0s 1ms/step - loss: 6.0712 - mae: 6.0712\n",
            "Epoch 245/1000\n",
            "1/1 [==============================] - 0s 3ms/step - loss: 6.0656 - mae: 6.0656\n",
            "Epoch 246/1000\n",
            "1/1 [==============================] - 0s 1ms/step - loss: 6.0600 - mae: 6.0600\n",
            "Epoch 247/1000\n",
            "1/1 [==============================] - 0s 1ms/step - loss: 6.0544 - mae: 6.0544\n",
            "Epoch 248/1000\n",
            "1/1 [==============================] - 0s 1ms/step - loss: 6.0487 - mae: 6.0487\n",
            "Epoch 249/1000\n",
            "1/1 [==============================] - 0s 2ms/step - loss: 6.0431 - mae: 6.0431\n",
            "Epoch 250/1000\n",
            "1/1 [==============================] - 0s 1ms/step - loss: 6.0375 - mae: 6.0375\n",
            "Epoch 251/1000\n",
            "1/1 [==============================] - 0s 1ms/step - loss: 6.0319 - mae: 6.0319\n",
            "Epoch 252/1000\n",
            "1/1 [==============================] - 0s 1ms/step - loss: 6.0262 - mae: 6.0262\n",
            "Epoch 253/1000\n",
            "1/1 [==============================] - 0s 2ms/step - loss: 6.0206 - mae: 6.0206\n",
            "Epoch 254/1000\n",
            "1/1 [==============================] - 0s 2ms/step - loss: 6.0150 - mae: 6.0150\n",
            "Epoch 255/1000\n",
            "1/1 [==============================] - 0s 1ms/step - loss: 6.0094 - mae: 6.0094\n",
            "Epoch 256/1000\n",
            "1/1 [==============================] - 0s 1ms/step - loss: 6.0037 - mae: 6.0037\n",
            "Epoch 257/1000\n",
            "1/1 [==============================] - 0s 1ms/step - loss: 5.9981 - mae: 5.9981\n",
            "Epoch 258/1000\n",
            "1/1 [==============================] - 0s 1ms/step - loss: 5.9925 - mae: 5.9925\n",
            "Epoch 259/1000\n",
            "1/1 [==============================] - 0s 2ms/step - loss: 5.9869 - mae: 5.9869\n",
            "Epoch 260/1000\n",
            "1/1 [==============================] - 0s 2ms/step - loss: 5.9814 - mae: 5.9814\n",
            "Epoch 261/1000\n",
            "1/1 [==============================] - 0s 1ms/step - loss: 5.9775 - mae: 5.9775\n",
            "Epoch 262/1000\n",
            "1/1 [==============================] - 0s 1ms/step - loss: 5.9719 - mae: 5.9719\n",
            "Epoch 263/1000\n",
            "1/1 [==============================] - 0s 1ms/step - loss: 5.9662 - mae: 5.9662\n",
            "Epoch 264/1000\n",
            "1/1 [==============================] - 0s 2ms/step - loss: 5.9606 - mae: 5.9606\n",
            "Epoch 265/1000\n",
            "1/1 [==============================] - 0s 2ms/step - loss: 5.9550 - mae: 5.9550\n",
            "Epoch 266/1000\n",
            "1/1 [==============================] - 0s 1ms/step - loss: 5.9494 - mae: 5.9494\n",
            "Epoch 267/1000\n",
            "1/1 [==============================] - 0s 2ms/step - loss: 5.9437 - mae: 5.9437\n",
            "Epoch 268/1000\n",
            "1/1 [==============================] - 0s 1ms/step - loss: 5.9381 - mae: 5.9381\n",
            "Epoch 269/1000\n",
            "1/1 [==============================] - 0s 1ms/step - loss: 5.9325 - mae: 5.9325\n",
            "Epoch 270/1000\n",
            "1/1 [==============================] - 0s 1ms/step - loss: 5.9269 - mae: 5.9269\n",
            "Epoch 271/1000\n",
            "1/1 [==============================] - 0s 2ms/step - loss: 5.9212 - mae: 5.9212\n",
            "Epoch 272/1000\n",
            "1/1 [==============================] - 0s 1ms/step - loss: 5.9156 - mae: 5.9156\n",
            "Epoch 273/1000\n",
            "1/1 [==============================] - 0s 1ms/step - loss: 5.9100 - mae: 5.9100\n",
            "Epoch 274/1000\n",
            "1/1 [==============================] - 0s 1ms/step - loss: 5.9044 - mae: 5.9044\n",
            "Epoch 275/1000\n",
            "1/1 [==============================] - 0s 10ms/step - loss: 5.8987 - mae: 5.8987\n",
            "Epoch 276/1000\n",
            "1/1 [==============================] - 0s 2ms/step - loss: 5.8931 - mae: 5.8931\n",
            "Epoch 277/1000\n",
            "1/1 [==============================] - 0s 1ms/step - loss: 5.8875 - mae: 5.8875\n",
            "Epoch 278/1000\n",
            "1/1 [==============================] - 0s 1ms/step - loss: 5.8819 - mae: 5.8819\n",
            "Epoch 279/1000\n",
            "1/1 [==============================] - 0s 1ms/step - loss: 5.8762 - mae: 5.8762\n",
            "Epoch 280/1000\n",
            "1/1 [==============================] - 0s 2ms/step - loss: 5.8706 - mae: 5.8706\n",
            "Epoch 281/1000\n",
            "1/1 [==============================] - 0s 1ms/step - loss: 5.8650 - mae: 5.8650\n",
            "Epoch 282/1000\n",
            "1/1 [==============================] - 0s 1ms/step - loss: 5.8594 - mae: 5.8594\n",
            "Epoch 283/1000\n",
            "1/1 [==============================] - 0s 1ms/step - loss: 5.8537 - mae: 5.8537\n",
            "Epoch 284/1000\n",
            "1/1 [==============================] - 0s 1ms/step - loss: 5.8481 - mae: 5.8481\n",
            "Epoch 285/1000\n",
            "1/1 [==============================] - 0s 2ms/step - loss: 5.8425 - mae: 5.8425\n",
            "Epoch 286/1000\n",
            "1/1 [==============================] - 0s 1ms/step - loss: 5.8369 - mae: 5.8369\n",
            "Epoch 287/1000\n",
            "1/1 [==============================] - 0s 1ms/step - loss: 5.8312 - mae: 5.8312\n",
            "Epoch 288/1000\n",
            "1/1 [==============================] - 0s 2ms/step - loss: 5.8256 - mae: 5.8256\n",
            "Epoch 289/1000\n",
            "1/1 [==============================] - 0s 1ms/step - loss: 5.8200 - mae: 5.8200\n",
            "Epoch 290/1000\n",
            "1/1 [==============================] - 0s 1ms/step - loss: 5.8144 - mae: 5.8144\n",
            "Epoch 291/1000\n",
            "1/1 [==============================] - 0s 1ms/step - loss: 5.8087 - mae: 5.8087\n",
            "Epoch 292/1000\n",
            "1/1 [==============================] - 0s 2ms/step - loss: 5.8031 - mae: 5.8031\n",
            "Epoch 293/1000\n",
            "1/1 [==============================] - 0s 1ms/step - loss: 5.7975 - mae: 5.7975\n",
            "Epoch 294/1000\n",
            "1/1 [==============================] - 0s 1ms/step - loss: 5.7919 - mae: 5.7919\n",
            "Epoch 295/1000\n",
            "1/1 [==============================] - 0s 2ms/step - loss: 5.7862 - mae: 5.7862\n",
            "Epoch 296/1000\n",
            "1/1 [==============================] - 0s 2ms/step - loss: 5.7806 - mae: 5.7806\n",
            "Epoch 297/1000\n",
            "1/1 [==============================] - 0s 2ms/step - loss: 5.7750 - mae: 5.7750\n",
            "Epoch 298/1000\n",
            "1/1 [==============================] - 0s 1ms/step - loss: 5.7694 - mae: 5.7694\n",
            "Epoch 299/1000\n",
            "1/1 [==============================] - 0s 1ms/step - loss: 5.7637 - mae: 5.7637\n",
            "Epoch 300/1000\n",
            "1/1 [==============================] - 0s 2ms/step - loss: 5.7581 - mae: 5.7581\n",
            "Epoch 301/1000\n",
            "1/1 [==============================] - 0s 2ms/step - loss: 5.7533 - mae: 5.7533\n",
            "Epoch 302/1000\n",
            "1/1 [==============================] - 0s 2ms/step - loss: 5.7487 - mae: 5.7487\n",
            "Epoch 303/1000\n",
            "1/1 [==============================] - 0s 2ms/step - loss: 5.7431 - mae: 5.7431\n",
            "Epoch 304/1000\n",
            "1/1 [==============================] - 0s 2ms/step - loss: 5.7375 - mae: 5.7375\n",
            "Epoch 305/1000\n",
            "1/1 [==============================] - 0s 4ms/step - loss: 5.7319 - mae: 5.7319\n",
            "Epoch 306/1000\n",
            "1/1 [==============================] - 0s 2ms/step - loss: 5.7262 - mae: 5.7262\n",
            "Epoch 307/1000\n",
            "1/1 [==============================] - 0s 2ms/step - loss: 5.7206 - mae: 5.7206\n",
            "Epoch 308/1000\n",
            "1/1 [==============================] - 0s 2ms/step - loss: 5.7150 - mae: 5.7150\n",
            "Epoch 309/1000\n",
            "1/1 [==============================] - 0s 2ms/step - loss: 5.7094 - mae: 5.7094\n",
            "Epoch 310/1000\n",
            "1/1 [==============================] - 0s 1ms/step - loss: 5.7037 - mae: 5.7037\n",
            "Epoch 311/1000\n",
            "1/1 [==============================] - 0s 1ms/step - loss: 5.6981 - mae: 5.6981\n",
            "Epoch 312/1000\n",
            "1/1 [==============================] - 0s 2ms/step - loss: 5.6925 - mae: 5.6925\n",
            "Epoch 313/1000\n",
            "1/1 [==============================] - 0s 1ms/step - loss: 5.6869 - mae: 5.6869\n",
            "Epoch 314/1000\n",
            "1/1 [==============================] - 0s 2ms/step - loss: 5.6812 - mae: 5.6812\n",
            "Epoch 315/1000\n",
            "1/1 [==============================] - 0s 1ms/step - loss: 5.6756 - mae: 5.6756\n",
            "Epoch 316/1000\n",
            "1/1 [==============================] - 0s 1ms/step - loss: 5.6700 - mae: 5.6700\n",
            "Epoch 317/1000\n",
            "1/1 [==============================] - 0s 2ms/step - loss: 5.6644 - mae: 5.6644\n",
            "Epoch 318/1000\n",
            "1/1 [==============================] - 0s 1ms/step - loss: 5.6587 - mae: 5.6587\n",
            "Epoch 319/1000\n",
            "1/1 [==============================] - 0s 2ms/step - loss: 5.6531 - mae: 5.6531\n",
            "Epoch 320/1000\n",
            "1/1 [==============================] - 0s 1ms/step - loss: 5.6475 - mae: 5.6475\n",
            "Epoch 321/1000\n",
            "1/1 [==============================] - 0s 1ms/step - loss: 5.6419 - mae: 5.6419\n",
            "Epoch 322/1000\n",
            "1/1 [==============================] - 0s 1ms/step - loss: 5.6362 - mae: 5.6362\n",
            "Epoch 323/1000\n",
            "1/1 [==============================] - 0s 2ms/step - loss: 5.6306 - mae: 5.6306\n",
            "Epoch 324/1000\n",
            "1/1 [==============================] - 0s 2ms/step - loss: 5.6250 - mae: 5.6250\n",
            "Epoch 325/1000\n",
            "1/1 [==============================] - 0s 1ms/step - loss: 5.6194 - mae: 5.6194\n",
            "Epoch 326/1000\n",
            "1/1 [==============================] - 0s 1ms/step - loss: 5.6137 - mae: 5.6137\n",
            "Epoch 327/1000\n",
            "1/1 [==============================] - 0s 2ms/step - loss: 5.6081 - mae: 5.6081\n",
            "Epoch 328/1000\n",
            "1/1 [==============================] - 0s 1ms/step - loss: 5.6025 - mae: 5.6025\n",
            "Epoch 329/1000\n",
            "1/1 [==============================] - 0s 1ms/step - loss: 5.5969 - mae: 5.5969\n",
            "Epoch 330/1000\n",
            "1/1 [==============================] - 0s 1ms/step - loss: 5.5912 - mae: 5.5912\n",
            "Epoch 331/1000\n",
            "1/1 [==============================] - 0s 1ms/step - loss: 5.5856 - mae: 5.5856\n",
            "Epoch 332/1000\n",
            "1/1 [==============================] - 0s 3ms/step - loss: 5.5800 - mae: 5.5800\n",
            "Epoch 333/1000\n",
            "1/1 [==============================] - 0s 1ms/step - loss: 5.5744 - mae: 5.5744\n",
            "Epoch 334/1000\n",
            "1/1 [==============================] - 0s 1ms/step - loss: 5.5687 - mae: 5.5687\n",
            "Epoch 335/1000\n",
            "1/1 [==============================] - 0s 1ms/step - loss: 5.5631 - mae: 5.5631\n",
            "Epoch 336/1000\n",
            "1/1 [==============================] - 0s 2ms/step - loss: 5.5575 - mae: 5.5575\n",
            "Epoch 337/1000\n",
            "1/1 [==============================] - 0s 1ms/step - loss: 5.5519 - mae: 5.5519\n",
            "Epoch 338/1000\n",
            "1/1 [==============================] - 0s 1ms/step - loss: 5.5462 - mae: 5.5462\n",
            "Epoch 339/1000\n",
            "1/1 [==============================] - 0s 2ms/step - loss: 5.5406 - mae: 5.5406\n",
            "Epoch 340/1000\n",
            "1/1 [==============================] - 0s 2ms/step - loss: 5.5350 - mae: 5.5350\n",
            "Epoch 341/1000\n",
            "1/1 [==============================] - 0s 2ms/step - loss: 5.5294 - mae: 5.5294\n",
            "Epoch 342/1000\n",
            "1/1 [==============================] - 0s 1ms/step - loss: 5.5252 - mae: 5.5252\n",
            "Epoch 343/1000\n",
            "1/1 [==============================] - 0s 1ms/step - loss: 5.5200 - mae: 5.5200\n",
            "Epoch 344/1000\n",
            "1/1 [==============================] - 0s 1ms/step - loss: 5.5144 - mae: 5.5144\n",
            "Epoch 345/1000\n",
            "1/1 [==============================] - 0s 1ms/step - loss: 5.5087 - mae: 5.5087\n",
            "Epoch 346/1000\n",
            "1/1 [==============================] - 0s 2ms/step - loss: 5.5031 - mae: 5.5031\n",
            "Epoch 347/1000\n",
            "1/1 [==============================] - 0s 1ms/step - loss: 5.4975 - mae: 5.4975\n",
            "Epoch 348/1000\n",
            "1/1 [==============================] - 0s 2ms/step - loss: 5.4919 - mae: 5.4919\n",
            "Epoch 349/1000\n",
            "1/1 [==============================] - 0s 2ms/step - loss: 5.4862 - mae: 5.4862\n",
            "Epoch 350/1000\n",
            "1/1 [==============================] - 0s 1ms/step - loss: 5.4806 - mae: 5.4806\n",
            "Epoch 351/1000\n",
            "1/1 [==============================] - 0s 2ms/step - loss: 5.4750 - mae: 5.4750\n",
            "Epoch 352/1000\n",
            "1/1 [==============================] - 0s 5ms/step - loss: 5.4694 - mae: 5.4694\n",
            "Epoch 353/1000\n",
            "1/1 [==============================] - 0s 2ms/step - loss: 5.4637 - mae: 5.4637\n",
            "Epoch 354/1000\n",
            "1/1 [==============================] - 0s 4ms/step - loss: 5.4581 - mae: 5.4581\n",
            "Epoch 355/1000\n",
            "1/1 [==============================] - 0s 1ms/step - loss: 5.4525 - mae: 5.4525\n",
            "Epoch 356/1000\n",
            "1/1 [==============================] - 0s 1ms/step - loss: 5.4469 - mae: 5.4469\n",
            "Epoch 357/1000\n",
            "1/1 [==============================] - 0s 1ms/step - loss: 5.4413 - mae: 5.4413\n",
            "Epoch 358/1000\n",
            "1/1 [==============================] - 0s 3ms/step - loss: 5.4356 - mae: 5.4356\n",
            "Epoch 359/1000\n",
            "1/1 [==============================] - 0s 2ms/step - loss: 5.4300 - mae: 5.4300\n",
            "Epoch 360/1000\n",
            "1/1 [==============================] - 0s 2ms/step - loss: 5.4244 - mae: 5.4244\n",
            "Epoch 361/1000\n",
            "1/1 [==============================] - 0s 1ms/step - loss: 5.4188 - mae: 5.4188\n",
            "Epoch 362/1000\n",
            "1/1 [==============================] - 0s 2ms/step - loss: 5.4131 - mae: 5.4131\n",
            "Epoch 363/1000\n",
            "1/1 [==============================] - 0s 1ms/step - loss: 5.4075 - mae: 5.4075\n",
            "Epoch 364/1000\n",
            "1/1 [==============================] - 0s 2ms/step - loss: 5.4019 - mae: 5.4019\n",
            "Epoch 365/1000\n",
            "1/1 [==============================] - 0s 1ms/step - loss: 5.3963 - mae: 5.3963\n",
            "Epoch 366/1000\n",
            "1/1 [==============================] - 0s 1ms/step - loss: 5.3906 - mae: 5.3906\n",
            "Epoch 367/1000\n",
            "1/1 [==============================] - 0s 2ms/step - loss: 5.3850 - mae: 5.3850\n",
            "Epoch 368/1000\n",
            "1/1 [==============================] - 0s 2ms/step - loss: 5.3794 - mae: 5.3794\n",
            "Epoch 369/1000\n",
            "1/1 [==============================] - 0s 1ms/step - loss: 5.3738 - mae: 5.3738\n",
            "Epoch 370/1000\n",
            "1/1 [==============================] - 0s 2ms/step - loss: 5.3681 - mae: 5.3681\n",
            "Epoch 371/1000\n",
            "1/1 [==============================] - 0s 1ms/step - loss: 5.3625 - mae: 5.3625\n",
            "Epoch 372/1000\n",
            "1/1 [==============================] - 0s 2ms/step - loss: 5.3569 - mae: 5.3569\n",
            "Epoch 373/1000\n",
            "1/1 [==============================] - 0s 1ms/step - loss: 5.3513 - mae: 5.3513\n",
            "Epoch 374/1000\n",
            "1/1 [==============================] - 0s 2ms/step - loss: 5.3456 - mae: 5.3456\n",
            "Epoch 375/1000\n",
            "1/1 [==============================] - 0s 1ms/step - loss: 5.3400 - mae: 5.3400\n",
            "Epoch 376/1000\n",
            "1/1 [==============================] - 0s 2ms/step - loss: 5.3344 - mae: 5.3344\n",
            "Epoch 377/1000\n",
            "1/1 [==============================] - 0s 1ms/step - loss: 5.3288 - mae: 5.3288\n",
            "Epoch 378/1000\n",
            "1/1 [==============================] - 0s 7ms/step - loss: 5.3231 - mae: 5.3231\n",
            "Epoch 379/1000\n",
            "1/1 [==============================] - 0s 6ms/step - loss: 5.3175 - mae: 5.3175\n",
            "Epoch 380/1000\n",
            "1/1 [==============================] - 0s 2ms/step - loss: 5.3119 - mae: 5.3119\n",
            "Epoch 381/1000\n",
            "1/1 [==============================] - 0s 1ms/step - loss: 5.3063 - mae: 5.3063\n",
            "Epoch 382/1000\n",
            "1/1 [==============================] - 0s 6ms/step - loss: 5.3008 - mae: 5.3008\n",
            "Epoch 383/1000\n",
            "1/1 [==============================] - 0s 2ms/step - loss: 5.2969 - mae: 5.2969\n",
            "Epoch 384/1000\n",
            "1/1 [==============================] - 0s 2ms/step - loss: 5.2913 - mae: 5.2913\n",
            "Epoch 385/1000\n",
            "1/1 [==============================] - 0s 1ms/step - loss: 5.2856 - mae: 5.2856\n",
            "Epoch 386/1000\n",
            "1/1 [==============================] - 0s 2ms/step - loss: 5.2800 - mae: 5.2800\n",
            "Epoch 387/1000\n",
            "1/1 [==============================] - 0s 2ms/step - loss: 5.2744 - mae: 5.2744\n",
            "Epoch 388/1000\n",
            "1/1 [==============================] - 0s 1ms/step - loss: 5.2688 - mae: 5.2688\n",
            "Epoch 389/1000\n",
            "1/1 [==============================] - 0s 1ms/step - loss: 5.2631 - mae: 5.2631\n",
            "Epoch 390/1000\n",
            "1/1 [==============================] - 0s 1ms/step - loss: 5.2575 - mae: 5.2575\n",
            "Epoch 391/1000\n",
            "1/1 [==============================] - 0s 2ms/step - loss: 5.2519 - mae: 5.2519\n",
            "Epoch 392/1000\n",
            "1/1 [==============================] - 0s 1ms/step - loss: 5.2463 - mae: 5.2463\n",
            "Epoch 393/1000\n",
            "1/1 [==============================] - 0s 1ms/step - loss: 5.2406 - mae: 5.2406\n",
            "Epoch 394/1000\n",
            "1/1 [==============================] - 0s 1ms/step - loss: 5.2350 - mae: 5.2350\n",
            "Epoch 395/1000\n",
            "1/1 [==============================] - 0s 1ms/step - loss: 5.2294 - mae: 5.2294\n",
            "Epoch 396/1000\n",
            "1/1 [==============================] - 0s 1ms/step - loss: 5.2238 - mae: 5.2238\n",
            "Epoch 397/1000\n",
            "1/1 [==============================] - 0s 1ms/step - loss: 5.2181 - mae: 5.2181\n",
            "Epoch 398/1000\n",
            "1/1 [==============================] - 0s 1ms/step - loss: 5.2125 - mae: 5.2125\n",
            "Epoch 399/1000\n",
            "1/1 [==============================] - 0s 1ms/step - loss: 5.2069 - mae: 5.2069\n",
            "Epoch 400/1000\n",
            "1/1 [==============================] - 0s 1ms/step - loss: 5.2013 - mae: 5.2013\n",
            "Epoch 401/1000\n",
            "1/1 [==============================] - 0s 1ms/step - loss: 5.1956 - mae: 5.1956\n",
            "Epoch 402/1000\n",
            "1/1 [==============================] - 0s 1ms/step - loss: 5.1900 - mae: 5.1900\n",
            "Epoch 403/1000\n",
            "1/1 [==============================] - 0s 1ms/step - loss: 5.1844 - mae: 5.1844\n",
            "Epoch 404/1000\n",
            "1/1 [==============================] - 0s 1ms/step - loss: 5.1788 - mae: 5.1788\n",
            "Epoch 405/1000\n",
            "1/1 [==============================] - 0s 1ms/step - loss: 5.1731 - mae: 5.1731\n",
            "Epoch 406/1000\n",
            "1/1 [==============================] - 0s 1ms/step - loss: 5.1675 - mae: 5.1675\n",
            "Epoch 407/1000\n",
            "1/1 [==============================] - 0s 1ms/step - loss: 5.1619 - mae: 5.1619\n",
            "Epoch 408/1000\n",
            "1/1 [==============================] - 0s 1ms/step - loss: 5.1563 - mae: 5.1563\n",
            "Epoch 409/1000\n",
            "1/1 [==============================] - 0s 2ms/step - loss: 5.1506 - mae: 5.1506\n",
            "Epoch 410/1000\n",
            "1/1 [==============================] - 0s 1ms/step - loss: 5.1450 - mae: 5.1450\n",
            "Epoch 411/1000\n",
            "1/1 [==============================] - 0s 2ms/step - loss: 5.1394 - mae: 5.1394\n",
            "Epoch 412/1000\n",
            "1/1 [==============================] - 0s 1ms/step - loss: 5.1338 - mae: 5.1338\n",
            "Epoch 413/1000\n",
            "1/1 [==============================] - 0s 1ms/step - loss: 5.1281 - mae: 5.1281\n",
            "Epoch 414/1000\n",
            "1/1 [==============================] - 0s 1ms/step - loss: 5.1225 - mae: 5.1225\n",
            "Epoch 415/1000\n",
            "1/1 [==============================] - 0s 1ms/step - loss: 5.1169 - mae: 5.1169\n",
            "Epoch 416/1000\n",
            "1/1 [==============================] - 0s 1ms/step - loss: 5.1113 - mae: 5.1113\n",
            "Epoch 417/1000\n",
            "1/1 [==============================] - 0s 1ms/step - loss: 5.1056 - mae: 5.1056\n",
            "Epoch 418/1000\n",
            "1/1 [==============================] - 0s 1ms/step - loss: 5.1000 - mae: 5.1000\n",
            "Epoch 419/1000\n",
            "1/1 [==============================] - 0s 1ms/step - loss: 5.0944 - mae: 5.0944\n",
            "Epoch 420/1000\n",
            "1/1 [==============================] - 0s 1ms/step - loss: 5.0888 - mae: 5.0888\n",
            "Epoch 421/1000\n",
            "1/1 [==============================] - 0s 7ms/step - loss: 5.0831 - mae: 5.0831\n",
            "Epoch 422/1000\n",
            "1/1 [==============================] - 0s 3ms/step - loss: 5.0775 - mae: 5.0775\n",
            "Epoch 423/1000\n",
            "1/1 [==============================] - 0s 7ms/step - loss: 5.0727 - mae: 5.0727\n",
            "Epoch 424/1000\n",
            "1/1 [==============================] - 0s 1ms/step - loss: 5.0681 - mae: 5.0681\n",
            "Epoch 425/1000\n",
            "1/1 [==============================] - 0s 1ms/step - loss: 5.0625 - mae: 5.0625\n",
            "Epoch 426/1000\n",
            "1/1 [==============================] - 0s 2ms/step - loss: 5.0569 - mae: 5.0569\n",
            "Epoch 427/1000\n",
            "1/1 [==============================] - 0s 1ms/step - loss: 5.0513 - mae: 5.0513\n",
            "Epoch 428/1000\n",
            "1/1 [==============================] - 0s 1ms/step - loss: 5.0456 - mae: 5.0456\n",
            "Epoch 429/1000\n",
            "1/1 [==============================] - 0s 1ms/step - loss: 5.0400 - mae: 5.0400\n",
            "Epoch 430/1000\n",
            "1/1 [==============================] - 0s 1ms/step - loss: 5.0344 - mae: 5.0344\n",
            "Epoch 431/1000\n",
            "1/1 [==============================] - 0s 1ms/step - loss: 5.0288 - mae: 5.0288\n",
            "Epoch 432/1000\n",
            "1/1 [==============================] - 0s 3ms/step - loss: 5.0231 - mae: 5.0231\n",
            "Epoch 433/1000\n",
            "1/1 [==============================] - 0s 2ms/step - loss: 5.0175 - mae: 5.0175\n",
            "Epoch 434/1000\n",
            "1/1 [==============================] - 0s 2ms/step - loss: 5.0119 - mae: 5.0119\n",
            "Epoch 435/1000\n",
            "1/1 [==============================] - 0s 1ms/step - loss: 5.0063 - mae: 5.0063\n",
            "Epoch 436/1000\n",
            "1/1 [==============================] - 0s 6ms/step - loss: 5.0006 - mae: 5.0006\n",
            "Epoch 437/1000\n",
            "1/1 [==============================] - 0s 1ms/step - loss: 4.9950 - mae: 4.9950\n",
            "Epoch 438/1000\n",
            "1/1 [==============================] - 0s 2ms/step - loss: 4.9894 - mae: 4.9894\n",
            "Epoch 439/1000\n",
            "1/1 [==============================] - 0s 1ms/step - loss: 4.9838 - mae: 4.9838\n",
            "Epoch 440/1000\n",
            "1/1 [==============================] - 0s 1ms/step - loss: 4.9781 - mae: 4.9781\n",
            "Epoch 441/1000\n",
            "1/1 [==============================] - 0s 1ms/step - loss: 4.9725 - mae: 4.9725\n",
            "Epoch 442/1000\n",
            "1/1 [==============================] - 0s 1ms/step - loss: 4.9669 - mae: 4.9669\n",
            "Epoch 443/1000\n",
            "1/1 [==============================] - 0s 1ms/step - loss: 4.9613 - mae: 4.9613\n",
            "Epoch 444/1000\n",
            "1/1 [==============================] - 0s 1ms/step - loss: 4.9556 - mae: 4.9556\n",
            "Epoch 445/1000\n",
            "1/1 [==============================] - 0s 1ms/step - loss: 4.9500 - mae: 4.9500\n",
            "Epoch 446/1000\n",
            "1/1 [==============================] - 0s 2ms/step - loss: 4.9444 - mae: 4.9444\n",
            "Epoch 447/1000\n",
            "1/1 [==============================] - 0s 1ms/step - loss: 4.9388 - mae: 4.9388\n",
            "Epoch 448/1000\n",
            "1/1 [==============================] - 0s 1ms/step - loss: 4.9331 - mae: 4.9331\n",
            "Epoch 449/1000\n",
            "1/1 [==============================] - 0s 1ms/step - loss: 4.9275 - mae: 4.9275\n",
            "Epoch 450/1000\n",
            "1/1 [==============================] - 0s 2ms/step - loss: 4.9219 - mae: 4.9219\n",
            "Epoch 451/1000\n",
            "1/1 [==============================] - 0s 2ms/step - loss: 4.9163 - mae: 4.9163\n",
            "Epoch 452/1000\n",
            "1/1 [==============================] - 0s 1ms/step - loss: 4.9106 - mae: 4.9106\n",
            "Epoch 453/1000\n",
            "1/1 [==============================] - 0s 1ms/step - loss: 4.9050 - mae: 4.9050\n",
            "Epoch 454/1000\n",
            "1/1 [==============================] - 0s 1ms/step - loss: 4.8994 - mae: 4.8994\n",
            "Epoch 455/1000\n",
            "1/1 [==============================] - 0s 1ms/step - loss: 4.8938 - mae: 4.8938\n",
            "Epoch 456/1000\n",
            "1/1 [==============================] - 0s 1ms/step - loss: 4.8881 - mae: 4.8881\n",
            "Epoch 457/1000\n",
            "1/1 [==============================] - 0s 7ms/step - loss: 4.8825 - mae: 4.8825\n",
            "Epoch 458/1000\n",
            "1/1 [==============================] - 0s 2ms/step - loss: 4.8769 - mae: 4.8769\n",
            "Epoch 459/1000\n",
            "1/1 [==============================] - 0s 2ms/step - loss: 4.8713 - mae: 4.8713\n",
            "Epoch 460/1000\n",
            "1/1 [==============================] - 0s 2ms/step - loss: 4.8656 - mae: 4.8656\n",
            "Epoch 461/1000\n",
            "1/1 [==============================] - 0s 2ms/step - loss: 4.8600 - mae: 4.8600\n",
            "Epoch 462/1000\n",
            "1/1 [==============================] - 0s 1ms/step - loss: 4.8544 - mae: 4.8544\n",
            "Epoch 463/1000\n",
            "1/1 [==============================] - 0s 1ms/step - loss: 4.8488 - mae: 4.8488\n",
            "Epoch 464/1000\n",
            "1/1 [==============================] - 0s 6ms/step - loss: 4.8445 - mae: 4.8445\n",
            "Epoch 465/1000\n",
            "1/1 [==============================] - 0s 1ms/step - loss: 4.8394 - mae: 4.8394\n",
            "Epoch 466/1000\n",
            "1/1 [==============================] - 0s 2ms/step - loss: 4.8338 - mae: 4.8338\n",
            "Epoch 467/1000\n",
            "1/1 [==============================] - 0s 2ms/step - loss: 4.8281 - mae: 4.8281\n",
            "Epoch 468/1000\n",
            "1/1 [==============================] - 0s 1ms/step - loss: 4.8225 - mae: 4.8225\n",
            "Epoch 469/1000\n",
            "1/1 [==============================] - 0s 959us/step - loss: 4.8169 - mae: 4.8169\n",
            "Epoch 470/1000\n",
            "1/1 [==============================] - 0s 2ms/step - loss: 4.8113 - mae: 4.8113\n",
            "Epoch 471/1000\n",
            "1/1 [==============================] - 0s 1ms/step - loss: 4.8056 - mae: 4.8056\n",
            "Epoch 472/1000\n",
            "1/1 [==============================] - 0s 1ms/step - loss: 4.8000 - mae: 4.8000\n",
            "Epoch 473/1000\n",
            "1/1 [==============================] - 0s 1ms/step - loss: 4.7944 - mae: 4.7944\n",
            "Epoch 474/1000\n",
            "1/1 [==============================] - 0s 1ms/step - loss: 4.7888 - mae: 4.7888\n",
            "Epoch 475/1000\n",
            "1/1 [==============================] - 0s 1ms/step - loss: 4.7831 - mae: 4.7831\n",
            "Epoch 476/1000\n",
            "1/1 [==============================] - 0s 1ms/step - loss: 4.7775 - mae: 4.7775\n",
            "Epoch 477/1000\n",
            "1/1 [==============================] - 0s 1ms/step - loss: 4.7719 - mae: 4.7719\n",
            "Epoch 478/1000\n",
            "1/1 [==============================] - 0s 2ms/step - loss: 4.7663 - mae: 4.7663\n",
            "Epoch 479/1000\n",
            "1/1 [==============================] - 0s 1ms/step - loss: 4.7606 - mae: 4.7606\n",
            "Epoch 480/1000\n",
            "1/1 [==============================] - 0s 1ms/step - loss: 4.7550 - mae: 4.7550\n",
            "Epoch 481/1000\n",
            "1/1 [==============================] - 0s 1ms/step - loss: 4.7494 - mae: 4.7494\n",
            "Epoch 482/1000\n",
            "1/1 [==============================] - 0s 962us/step - loss: 4.7438 - mae: 4.7438\n",
            "Epoch 483/1000\n",
            "1/1 [==============================] - 0s 1ms/step - loss: 4.7381 - mae: 4.7381\n",
            "Epoch 484/1000\n",
            "1/1 [==============================] - 0s 1ms/step - loss: 4.7325 - mae: 4.7325\n",
            "Epoch 485/1000\n",
            "1/1 [==============================] - 0s 952us/step - loss: 4.7269 - mae: 4.7269\n",
            "Epoch 486/1000\n",
            "1/1 [==============================] - 0s 877us/step - loss: 4.7213 - mae: 4.7213\n",
            "Epoch 487/1000\n",
            "1/1 [==============================] - 0s 1ms/step - loss: 4.7156 - mae: 4.7156\n",
            "Epoch 488/1000\n",
            "1/1 [==============================] - 0s 1ms/step - loss: 4.7100 - mae: 4.7100\n",
            "Epoch 489/1000\n",
            "1/1 [==============================] - 0s 1ms/step - loss: 4.7044 - mae: 4.7044\n",
            "Epoch 490/1000\n",
            "1/1 [==============================] - 0s 857us/step - loss: 4.6988 - mae: 4.6988\n",
            "Epoch 491/1000\n",
            "1/1 [==============================] - 0s 1ms/step - loss: 4.6931 - mae: 4.6931\n",
            "Epoch 492/1000\n",
            "1/1 [==============================] - 0s 2ms/step - loss: 4.6875 - mae: 4.6875\n",
            "Epoch 493/1000\n",
            "1/1 [==============================] - 0s 1ms/step - loss: 4.6819 - mae: 4.6819\n",
            "Epoch 494/1000\n",
            "1/1 [==============================] - 0s 1ms/step - loss: 4.6763 - mae: 4.6763\n",
            "Epoch 495/1000\n",
            "1/1 [==============================] - 0s 1ms/step - loss: 4.6706 - mae: 4.6706\n",
            "Epoch 496/1000\n",
            "1/1 [==============================] - 0s 1ms/step - loss: 4.6650 - mae: 4.6650\n",
            "Epoch 497/1000\n",
            "1/1 [==============================] - 0s 2ms/step - loss: 4.6594 - mae: 4.6594\n",
            "Epoch 498/1000\n",
            "1/1 [==============================] - 0s 1ms/step - loss: 4.6538 - mae: 4.6538\n",
            "Epoch 499/1000\n",
            "1/1 [==============================] - 0s 1ms/step - loss: 4.6481 - mae: 4.6481\n",
            "Epoch 500/1000\n",
            "1/1 [==============================] - 0s 5ms/step - loss: 4.6425 - mae: 4.6425\n",
            "Epoch 501/1000\n",
            "1/1 [==============================] - 0s 2ms/step - loss: 4.6369 - mae: 4.6369\n",
            "Epoch 502/1000\n",
            "1/1 [==============================] - 0s 2ms/step - loss: 4.6313 - mae: 4.6313\n",
            "Epoch 503/1000\n",
            "1/1 [==============================] - 0s 2ms/step - loss: 4.6256 - mae: 4.6256\n",
            "Epoch 504/1000\n",
            "1/1 [==============================] - 0s 2ms/step - loss: 4.6202 - mae: 4.6202\n",
            "Epoch 505/1000\n",
            "1/1 [==============================] - 0s 2ms/step - loss: 4.6163 - mae: 4.6163\n",
            "Epoch 506/1000\n",
            "1/1 [==============================] - 0s 2ms/step - loss: 4.6106 - mae: 4.6106\n",
            "Epoch 507/1000\n",
            "1/1 [==============================] - 0s 1ms/step - loss: 4.6050 - mae: 4.6050\n",
            "Epoch 508/1000\n",
            "1/1 [==============================] - 0s 2ms/step - loss: 4.5994 - mae: 4.5994\n",
            "Epoch 509/1000\n",
            "1/1 [==============================] - 0s 2ms/step - loss: 4.5938 - mae: 4.5938\n",
            "Epoch 510/1000\n",
            "1/1 [==============================] - 0s 1ms/step - loss: 4.5881 - mae: 4.5881\n",
            "Epoch 511/1000\n",
            "1/1 [==============================] - 0s 1ms/step - loss: 4.5825 - mae: 4.5825\n",
            "Epoch 512/1000\n",
            "1/1 [==============================] - 0s 1ms/step - loss: 4.5769 - mae: 4.5769\n",
            "Epoch 513/1000\n",
            "1/1 [==============================] - 0s 2ms/step - loss: 4.5713 - mae: 4.5713\n",
            "Epoch 514/1000\n",
            "1/1 [==============================] - 0s 1ms/step - loss: 4.5656 - mae: 4.5656\n",
            "Epoch 515/1000\n",
            "1/1 [==============================] - 0s 1ms/step - loss: 4.5600 - mae: 4.5600\n",
            "Epoch 516/1000\n",
            "1/1 [==============================] - 0s 1ms/step - loss: 4.5544 - mae: 4.5544\n",
            "Epoch 517/1000\n",
            "1/1 [==============================] - 0s 1ms/step - loss: 4.5488 - mae: 4.5488\n",
            "Epoch 518/1000\n",
            "1/1 [==============================] - 0s 2ms/step - loss: 4.5431 - mae: 4.5431\n",
            "Epoch 519/1000\n",
            "1/1 [==============================] - 0s 1ms/step - loss: 4.5375 - mae: 4.5375\n",
            "Epoch 520/1000\n",
            "1/1 [==============================] - 0s 2ms/step - loss: 4.5319 - mae: 4.5319\n",
            "Epoch 521/1000\n",
            "1/1 [==============================] - 0s 2ms/step - loss: 4.5263 - mae: 4.5263\n",
            "Epoch 522/1000\n",
            "1/1 [==============================] - 0s 1ms/step - loss: 4.5206 - mae: 4.5206\n",
            "Epoch 523/1000\n",
            "1/1 [==============================] - 0s 1ms/step - loss: 4.5150 - mae: 4.5150\n",
            "Epoch 524/1000\n",
            "1/1 [==============================] - 0s 1ms/step - loss: 4.5094 - mae: 4.5094\n",
            "Epoch 525/1000\n",
            "1/1 [==============================] - 0s 6ms/step - loss: 4.5038 - mae: 4.5038\n",
            "Epoch 526/1000\n",
            "1/1 [==============================] - 0s 2ms/step - loss: 4.4981 - mae: 4.4981\n",
            "Epoch 527/1000\n",
            "1/1 [==============================] - 0s 2ms/step - loss: 4.4925 - mae: 4.4925\n",
            "Epoch 528/1000\n",
            "1/1 [==============================] - 0s 2ms/step - loss: 4.4869 - mae: 4.4869\n",
            "Epoch 529/1000\n",
            "1/1 [==============================] - 0s 2ms/step - loss: 4.4813 - mae: 4.4813\n",
            "Epoch 530/1000\n",
            "1/1 [==============================] - 0s 2ms/step - loss: 4.4756 - mae: 4.4756\n",
            "Epoch 531/1000\n",
            "1/1 [==============================] - 0s 2ms/step - loss: 4.4700 - mae: 4.4700\n",
            "Epoch 532/1000\n",
            "1/1 [==============================] - 0s 1ms/step - loss: 4.4644 - mae: 4.4644\n",
            "Epoch 533/1000\n",
            "1/1 [==============================] - 0s 1ms/step - loss: 4.4588 - mae: 4.4588\n",
            "Epoch 534/1000\n",
            "1/1 [==============================] - 0s 2ms/step - loss: 4.4531 - mae: 4.4531\n",
            "Epoch 535/1000\n",
            "1/1 [==============================] - 0s 2ms/step - loss: 4.4475 - mae: 4.4475\n",
            "Epoch 536/1000\n",
            "1/1 [==============================] - 0s 1ms/step - loss: 4.4419 - mae: 4.4419\n",
            "Epoch 537/1000\n",
            "1/1 [==============================] - 0s 2ms/step - loss: 4.4363 - mae: 4.4363\n",
            "Epoch 538/1000\n",
            "1/1 [==============================] - 0s 1ms/step - loss: 4.4306 - mae: 4.4306\n",
            "Epoch 539/1000\n",
            "1/1 [==============================] - 0s 1ms/step - loss: 4.4250 - mae: 4.4250\n",
            "Epoch 540/1000\n",
            "1/1 [==============================] - 0s 1ms/step - loss: 4.4194 - mae: 4.4194\n",
            "Epoch 541/1000\n",
            "1/1 [==============================] - 0s 1ms/step - loss: 4.4138 - mae: 4.4138\n",
            "Epoch 542/1000\n",
            "1/1 [==============================] - 0s 1ms/step - loss: 4.4081 - mae: 4.4081\n",
            "Epoch 543/1000\n",
            "1/1 [==============================] - 0s 1ms/step - loss: 4.4025 - mae: 4.4025\n",
            "Epoch 544/1000\n",
            "1/1 [==============================] - 0s 1ms/step - loss: 4.3969 - mae: 4.3969\n",
            "Epoch 545/1000\n",
            "1/1 [==============================] - 0s 1ms/step - loss: 4.3920 - mae: 4.3920\n",
            "Epoch 546/1000\n",
            "1/1 [==============================] - 0s 1ms/step - loss: 4.3875 - mae: 4.3875\n",
            "Epoch 547/1000\n",
            "1/1 [==============================] - 0s 1ms/step - loss: 4.3819 - mae: 4.3819\n",
            "Epoch 548/1000\n",
            "1/1 [==============================] - 0s 1ms/step - loss: 4.3763 - mae: 4.3763\n",
            "Epoch 549/1000\n",
            "1/1 [==============================] - 0s 1ms/step - loss: 4.3706 - mae: 4.3706\n",
            "Epoch 550/1000\n",
            "1/1 [==============================] - 0s 1ms/step - loss: 4.3650 - mae: 4.3650\n",
            "Epoch 551/1000\n",
            "1/1 [==============================] - 0s 1ms/step - loss: 4.3594 - mae: 4.3594\n",
            "Epoch 552/1000\n",
            "1/1 [==============================] - 0s 1ms/step - loss: 4.3538 - mae: 4.3538\n",
            "Epoch 553/1000\n",
            "1/1 [==============================] - 0s 1ms/step - loss: 4.3481 - mae: 4.3481\n",
            "Epoch 554/1000\n",
            "1/1 [==============================] - 0s 1ms/step - loss: 4.3425 - mae: 4.3425\n",
            "Epoch 555/1000\n",
            "1/1 [==============================] - 0s 1ms/step - loss: 4.3369 - mae: 4.3369\n",
            "Epoch 556/1000\n",
            "1/1 [==============================] - 0s 1ms/step - loss: 4.3313 - mae: 4.3313\n",
            "Epoch 557/1000\n",
            "1/1 [==============================] - 0s 1ms/step - loss: 4.3256 - mae: 4.3256\n",
            "Epoch 558/1000\n",
            "1/1 [==============================] - 0s 933us/step - loss: 4.3200 - mae: 4.3200\n",
            "Epoch 559/1000\n",
            "1/1 [==============================] - 0s 1ms/step - loss: 4.3144 - mae: 4.3144\n",
            "Epoch 560/1000\n",
            "1/1 [==============================] - 0s 922us/step - loss: 4.3088 - mae: 4.3088\n",
            "Epoch 561/1000\n",
            "1/1 [==============================] - 0s 1ms/step - loss: 4.3031 - mae: 4.3031\n",
            "Epoch 562/1000\n",
            "1/1 [==============================] - 0s 850us/step - loss: 4.2975 - mae: 4.2975\n",
            "Epoch 563/1000\n",
            "1/1 [==============================] - 0s 857us/step - loss: 4.2919 - mae: 4.2919\n",
            "Epoch 564/1000\n",
            "1/1 [==============================] - 0s 1ms/step - loss: 4.2863 - mae: 4.2863\n",
            "Epoch 565/1000\n",
            "1/1 [==============================] - 0s 1ms/step - loss: 4.2806 - mae: 4.2806\n",
            "Epoch 566/1000\n",
            "1/1 [==============================] - 0s 1ms/step - loss: 4.2750 - mae: 4.2750\n",
            "Epoch 567/1000\n",
            "1/1 [==============================] - 0s 1ms/step - loss: 4.2694 - mae: 4.2694\n",
            "Epoch 568/1000\n",
            "1/1 [==============================] - 0s 9ms/step - loss: 4.2638 - mae: 4.2638\n",
            "Epoch 569/1000\n",
            "1/1 [==============================] - 0s 2ms/step - loss: 4.2581 - mae: 4.2581\n",
            "Epoch 570/1000\n",
            "1/1 [==============================] - 0s 6ms/step - loss: 4.2525 - mae: 4.2525\n",
            "Epoch 571/1000\n",
            "1/1 [==============================] - 0s 2ms/step - loss: 4.2469 - mae: 4.2469\n",
            "Epoch 572/1000\n",
            "1/1 [==============================] - 0s 1ms/step - loss: 4.2413 - mae: 4.2413\n",
            "Epoch 573/1000\n",
            "1/1 [==============================] - 0s 1ms/step - loss: 4.2356 - mae: 4.2356\n",
            "Epoch 574/1000\n",
            "1/1 [==============================] - 0s 2ms/step - loss: 4.2300 - mae: 4.2300\n",
            "Epoch 575/1000\n",
            "1/1 [==============================] - 0s 2ms/step - loss: 4.2244 - mae: 4.2244\n",
            "Epoch 576/1000\n",
            "1/1 [==============================] - 0s 1ms/step - loss: 4.2188 - mae: 4.2188\n",
            "Epoch 577/1000\n",
            "1/1 [==============================] - 0s 1ms/step - loss: 4.2131 - mae: 4.2131\n",
            "Epoch 578/1000\n",
            "1/1 [==============================] - 0s 1ms/step - loss: 4.2075 - mae: 4.2075\n",
            "Epoch 579/1000\n",
            "1/1 [==============================] - 0s 1ms/step - loss: 4.2019 - mae: 4.2019\n",
            "Epoch 580/1000\n",
            "1/1 [==============================] - 0s 1ms/step - loss: 4.1963 - mae: 4.1963\n",
            "Epoch 581/1000\n",
            "1/1 [==============================] - 0s 980us/step - loss: 4.1906 - mae: 4.1906\n",
            "Epoch 582/1000\n",
            "1/1 [==============================] - 0s 889us/step - loss: 4.1850 - mae: 4.1850\n",
            "Epoch 583/1000\n",
            "1/1 [==============================] - 0s 1ms/step - loss: 4.1794 - mae: 4.1794\n",
            "Epoch 584/1000\n",
            "1/1 [==============================] - 0s 1ms/step - loss: 4.1738 - mae: 4.1738\n",
            "Epoch 585/1000\n",
            "1/1 [==============================] - 0s 3ms/step - loss: 4.1681 - mae: 4.1681\n",
            "Epoch 586/1000\n",
            "1/1 [==============================] - 0s 1ms/step - loss: 4.1639 - mae: 4.1639\n",
            "Epoch 587/1000\n",
            "1/1 [==============================] - 0s 1ms/step - loss: 4.1588 - mae: 4.1588\n",
            "Epoch 588/1000\n",
            "1/1 [==============================] - 0s 1ms/step - loss: 4.1531 - mae: 4.1531\n",
            "Epoch 589/1000\n",
            "1/1 [==============================] - 0s 1ms/step - loss: 4.1475 - mae: 4.1475\n",
            "Epoch 590/1000\n",
            "1/1 [==============================] - 0s 897us/step - loss: 4.1419 - mae: 4.1419\n",
            "Epoch 591/1000\n",
            "1/1 [==============================] - 0s 1ms/step - loss: 4.1362 - mae: 4.1362\n",
            "Epoch 592/1000\n",
            "1/1 [==============================] - 0s 856us/step - loss: 4.1306 - mae: 4.1306\n",
            "Epoch 593/1000\n",
            "1/1 [==============================] - 0s 1ms/step - loss: 4.1250 - mae: 4.1250\n",
            "Epoch 594/1000\n",
            "1/1 [==============================] - 0s 1ms/step - loss: 4.1194 - mae: 4.1194\n",
            "Epoch 595/1000\n",
            "1/1 [==============================] - 0s 2ms/step - loss: 4.1137 - mae: 4.1137\n",
            "Epoch 596/1000\n",
            "1/1 [==============================] - 0s 1ms/step - loss: 4.1081 - mae: 4.1081\n",
            "Epoch 597/1000\n",
            "1/1 [==============================] - 0s 1ms/step - loss: 4.1025 - mae: 4.1025\n",
            "Epoch 598/1000\n",
            "1/1 [==============================] - 0s 1ms/step - loss: 4.0969 - mae: 4.0969\n",
            "Epoch 599/1000\n",
            "1/1 [==============================] - 0s 975us/step - loss: 4.0912 - mae: 4.0912\n",
            "Epoch 600/1000\n",
            "1/1 [==============================] - 0s 865us/step - loss: 4.0856 - mae: 4.0856\n",
            "Epoch 601/1000\n",
            "1/1 [==============================] - 0s 1ms/step - loss: 4.0800 - mae: 4.0800\n",
            "Epoch 602/1000\n",
            "1/1 [==============================] - 0s 2ms/step - loss: 4.0744 - mae: 4.0744\n",
            "Epoch 603/1000\n",
            "1/1 [==============================] - 0s 2ms/step - loss: 4.0687 - mae: 4.0687\n",
            "Epoch 604/1000\n",
            "1/1 [==============================] - 0s 1ms/step - loss: 4.0631 - mae: 4.0631\n",
            "Epoch 605/1000\n",
            "1/1 [==============================] - 0s 1ms/step - loss: 4.0575 - mae: 4.0575\n",
            "Epoch 606/1000\n",
            "1/1 [==============================] - 0s 1ms/step - loss: 4.0519 - mae: 4.0519\n",
            "Epoch 607/1000\n",
            "1/1 [==============================] - 0s 10ms/step - loss: 4.0462 - mae: 4.0462\n",
            "Epoch 608/1000\n",
            "1/1 [==============================] - 0s 2ms/step - loss: 4.0406 - mae: 4.0406\n",
            "Epoch 609/1000\n",
            "1/1 [==============================] - 0s 2ms/step - loss: 4.0350 - mae: 4.0350\n",
            "Epoch 610/1000\n",
            "1/1 [==============================] - 0s 2ms/step - loss: 4.0294 - mae: 4.0294\n",
            "Epoch 611/1000\n",
            "1/1 [==============================] - 0s 1ms/step - loss: 4.0237 - mae: 4.0237\n",
            "Epoch 612/1000\n",
            "1/1 [==============================] - 0s 1ms/step - loss: 4.0181 - mae: 4.0181\n",
            "Epoch 613/1000\n",
            "1/1 [==============================] - 0s 1ms/step - loss: 4.0125 - mae: 4.0125\n",
            "Epoch 614/1000\n",
            "1/1 [==============================] - 0s 4ms/step - loss: 4.0069 - mae: 4.0069\n",
            "Epoch 615/1000\n",
            "1/1 [==============================] - 0s 2ms/step - loss: 4.0012 - mae: 4.0012\n",
            "Epoch 616/1000\n",
            "1/1 [==============================] - 0s 1ms/step - loss: 3.9956 - mae: 3.9956\n",
            "Epoch 617/1000\n",
            "1/1 [==============================] - 0s 1ms/step - loss: 3.9900 - mae: 3.9900\n",
            "Epoch 618/1000\n",
            "1/1 [==============================] - 0s 1ms/step - loss: 3.9844 - mae: 3.9844\n",
            "Epoch 619/1000\n",
            "1/1 [==============================] - 0s 1ms/step - loss: 3.9787 - mae: 3.9787\n",
            "Epoch 620/1000\n",
            "1/1 [==============================] - 0s 1ms/step - loss: 3.9731 - mae: 3.9731\n",
            "Epoch 621/1000\n",
            "1/1 [==============================] - 0s 1ms/step - loss: 3.9675 - mae: 3.9675\n",
            "Epoch 622/1000\n",
            "1/1 [==============================] - 0s 1ms/step - loss: 3.9619 - mae: 3.9619\n",
            "Epoch 623/1000\n",
            "1/1 [==============================] - 0s 1ms/step - loss: 3.9562 - mae: 3.9562\n",
            "Epoch 624/1000\n",
            "1/1 [==============================] - 0s 1ms/step - loss: 3.9506 - mae: 3.9506\n",
            "Epoch 625/1000\n",
            "1/1 [==============================] - 0s 1ms/step - loss: 3.9450 - mae: 3.9450\n",
            "Epoch 626/1000\n",
            "1/1 [==============================] - 0s 980us/step - loss: 3.9395 - mae: 3.9395\n",
            "Epoch 627/1000\n",
            "1/1 [==============================] - 0s 1ms/step - loss: 3.9356 - mae: 3.9356\n",
            "Epoch 628/1000\n",
            "1/1 [==============================] - 0s 1ms/step - loss: 3.9300 - mae: 3.9300\n",
            "Epoch 629/1000\n",
            "1/1 [==============================] - 0s 1ms/step - loss: 3.9244 - mae: 3.9244\n",
            "Epoch 630/1000\n",
            "1/1 [==============================] - 0s 1ms/step - loss: 3.9187 - mae: 3.9187\n",
            "Epoch 631/1000\n",
            "1/1 [==============================] - 0s 1ms/step - loss: 3.9131 - mae: 3.9131\n",
            "Epoch 632/1000\n",
            "1/1 [==============================] - 0s 1ms/step - loss: 3.9075 - mae: 3.9075\n",
            "Epoch 633/1000\n",
            "1/1 [==============================] - 0s 1ms/step - loss: 3.9019 - mae: 3.9019\n",
            "Epoch 634/1000\n",
            "1/1 [==============================] - 0s 1ms/step - loss: 3.8962 - mae: 3.8962\n",
            "Epoch 635/1000\n",
            "1/1 [==============================] - 0s 1ms/step - loss: 3.8906 - mae: 3.8906\n",
            "Epoch 636/1000\n",
            "1/1 [==============================] - 0s 1ms/step - loss: 3.8850 - mae: 3.8850\n",
            "Epoch 637/1000\n",
            "1/1 [==============================] - 0s 1ms/step - loss: 3.8794 - mae: 3.8794\n",
            "Epoch 638/1000\n",
            "1/1 [==============================] - 0s 872us/step - loss: 3.8737 - mae: 3.8737\n",
            "Epoch 639/1000\n",
            "1/1 [==============================] - 0s 868us/step - loss: 3.8681 - mae: 3.8681\n",
            "Epoch 640/1000\n",
            "1/1 [==============================] - 0s 875us/step - loss: 3.8625 - mae: 3.8625\n",
            "Epoch 641/1000\n",
            "1/1 [==============================] - 0s 838us/step - loss: 3.8569 - mae: 3.8569\n",
            "Epoch 642/1000\n",
            "1/1 [==============================] - 0s 821us/step - loss: 3.8512 - mae: 3.8512\n",
            "Epoch 643/1000\n",
            "1/1 [==============================] - 0s 797us/step - loss: 3.8456 - mae: 3.8456\n",
            "Epoch 644/1000\n",
            "1/1 [==============================] - 0s 935us/step - loss: 3.8400 - mae: 3.8400\n",
            "Epoch 645/1000\n",
            "1/1 [==============================] - 0s 931us/step - loss: 3.8344 - mae: 3.8344\n",
            "Epoch 646/1000\n",
            "1/1 [==============================] - 0s 973us/step - loss: 3.8287 - mae: 3.8287\n",
            "Epoch 647/1000\n",
            "1/1 [==============================] - 0s 1ms/step - loss: 3.8231 - mae: 3.8231\n",
            "Epoch 648/1000\n",
            "1/1 [==============================] - 0s 1ms/step - loss: 3.8175 - mae: 3.8175\n",
            "Epoch 649/1000\n",
            "1/1 [==============================] - 0s 2ms/step - loss: 3.8119 - mae: 3.8119\n",
            "Epoch 650/1000\n",
            "1/1 [==============================] - 0s 1ms/step - loss: 3.8062 - mae: 3.8062\n",
            "Epoch 651/1000\n",
            "1/1 [==============================] - 0s 1ms/step - loss: 3.8006 - mae: 3.8006\n",
            "Epoch 652/1000\n",
            "1/1 [==============================] - 0s 988us/step - loss: 3.7950 - mae: 3.7950\n",
            "Epoch 653/1000\n",
            "1/1 [==============================] - 0s 947us/step - loss: 3.7894 - mae: 3.7894\n",
            "Epoch 654/1000\n",
            "1/1 [==============================] - 0s 944us/step - loss: 3.7837 - mae: 3.7837\n",
            "Epoch 655/1000\n",
            "1/1 [==============================] - 0s 1ms/step - loss: 3.7781 - mae: 3.7781\n",
            "Epoch 656/1000\n",
            "1/1 [==============================] - 0s 1ms/step - loss: 3.7725 - mae: 3.7725\n",
            "Epoch 657/1000\n",
            "1/1 [==============================] - 0s 1ms/step - loss: 3.7669 - mae: 3.7669\n",
            "Epoch 658/1000\n",
            "1/1 [==============================] - 0s 958us/step - loss: 3.7612 - mae: 3.7612\n",
            "Epoch 659/1000\n",
            "1/1 [==============================] - 0s 1ms/step - loss: 3.7556 - mae: 3.7556\n",
            "Epoch 660/1000\n",
            "1/1 [==============================] - 0s 1ms/step - loss: 3.7500 - mae: 3.7500\n",
            "Epoch 661/1000\n",
            "1/1 [==============================] - 0s 1ms/step - loss: 3.7444 - mae: 3.7444\n",
            "Epoch 662/1000\n",
            "1/1 [==============================] - 0s 1ms/step - loss: 3.7387 - mae: 3.7387\n",
            "Epoch 663/1000\n",
            "1/1 [==============================] - 0s 1ms/step - loss: 3.7331 - mae: 3.7331\n",
            "Epoch 664/1000\n",
            "1/1 [==============================] - 0s 1ms/step - loss: 3.7275 - mae: 3.7275\n",
            "Epoch 665/1000\n",
            "1/1 [==============================] - 0s 1ms/step - loss: 3.7219 - mae: 3.7219\n",
            "Epoch 666/1000\n",
            "1/1 [==============================] - 0s 935us/step - loss: 3.7162 - mae: 3.7162\n",
            "Epoch 667/1000\n",
            "1/1 [==============================] - 0s 877us/step - loss: 3.7114 - mae: 3.7114\n",
            "Epoch 668/1000\n",
            "1/1 [==============================] - 0s 1ms/step - loss: 3.7069 - mae: 3.7069\n",
            "Epoch 669/1000\n",
            "1/1 [==============================] - 0s 910us/step - loss: 3.7012 - mae: 3.7012\n",
            "Epoch 670/1000\n",
            "1/1 [==============================] - 0s 1ms/step - loss: 3.6956 - mae: 3.6956\n",
            "Epoch 671/1000\n",
            "1/1 [==============================] - 0s 1ms/step - loss: 3.6900 - mae: 3.6900\n",
            "Epoch 672/1000\n",
            "1/1 [==============================] - 0s 1ms/step - loss: 3.6844 - mae: 3.6844\n",
            "Epoch 673/1000\n",
            "1/1 [==============================] - 0s 873us/step - loss: 3.6787 - mae: 3.6787\n",
            "Epoch 674/1000\n",
            "1/1 [==============================] - 0s 901us/step - loss: 3.6731 - mae: 3.6731\n",
            "Epoch 675/1000\n",
            "1/1 [==============================] - 0s 913us/step - loss: 3.6675 - mae: 3.6675\n",
            "Epoch 676/1000\n",
            "1/1 [==============================] - 0s 1ms/step - loss: 3.6619 - mae: 3.6619\n",
            "Epoch 677/1000\n",
            "1/1 [==============================] - 0s 809us/step - loss: 3.6562 - mae: 3.6562\n",
            "Epoch 678/1000\n",
            "1/1 [==============================] - 0s 934us/step - loss: 3.6506 - mae: 3.6506\n",
            "Epoch 679/1000\n",
            "1/1 [==============================] - 0s 1ms/step - loss: 3.6450 - mae: 3.6450\n",
            "Epoch 680/1000\n",
            "1/1 [==============================] - 0s 996us/step - loss: 3.6394 - mae: 3.6394\n",
            "Epoch 681/1000\n",
            "1/1 [==============================] - 0s 1ms/step - loss: 3.6337 - mae: 3.6337\n",
            "Epoch 682/1000\n",
            "1/1 [==============================] - 0s 1ms/step - loss: 3.6281 - mae: 3.6281\n",
            "Epoch 683/1000\n",
            "1/1 [==============================] - 0s 1ms/step - loss: 3.6225 - mae: 3.6225\n",
            "Epoch 684/1000\n",
            "1/1 [==============================] - 0s 909us/step - loss: 3.6169 - mae: 3.6169\n",
            "Epoch 685/1000\n",
            "1/1 [==============================] - 0s 979us/step - loss: 3.6112 - mae: 3.6112\n",
            "Epoch 686/1000\n",
            "1/1 [==============================] - 0s 871us/step - loss: 3.6056 - mae: 3.6056\n",
            "Epoch 687/1000\n",
            "1/1 [==============================] - 0s 844us/step - loss: 3.6000 - mae: 3.6000\n",
            "Epoch 688/1000\n",
            "1/1 [==============================] - 0s 917us/step - loss: 3.5944 - mae: 3.5944\n",
            "Epoch 689/1000\n",
            "1/1 [==============================] - 0s 876us/step - loss: 3.5887 - mae: 3.5887\n",
            "Epoch 690/1000\n",
            "1/1 [==============================] - 0s 1ms/step - loss: 3.5831 - mae: 3.5831\n",
            "Epoch 691/1000\n",
            "1/1 [==============================] - 0s 1ms/step - loss: 3.5775 - mae: 3.5775\n",
            "Epoch 692/1000\n",
            "1/1 [==============================] - 0s 867us/step - loss: 3.5719 - mae: 3.5719\n",
            "Epoch 693/1000\n",
            "1/1 [==============================] - 0s 901us/step - loss: 3.5662 - mae: 3.5662\n",
            "Epoch 694/1000\n",
            "1/1 [==============================] - 0s 1ms/step - loss: 3.5606 - mae: 3.5606\n",
            "Epoch 695/1000\n",
            "1/1 [==============================] - 0s 864us/step - loss: 3.5550 - mae: 3.5550\n",
            "Epoch 696/1000\n",
            "1/1 [==============================] - 0s 823us/step - loss: 3.5494 - mae: 3.5494\n",
            "Epoch 697/1000\n",
            "1/1 [==============================] - 0s 867us/step - loss: 3.5437 - mae: 3.5437\n",
            "Epoch 698/1000\n",
            "1/1 [==============================] - 0s 1ms/step - loss: 3.5381 - mae: 3.5381\n",
            "Epoch 699/1000\n",
            "1/1 [==============================] - 0s 933us/step - loss: 3.5325 - mae: 3.5325\n",
            "Epoch 700/1000\n",
            "1/1 [==============================] - 0s 844us/step - loss: 3.5269 - mae: 3.5269\n",
            "Epoch 701/1000\n",
            "1/1 [==============================] - 0s 934us/step - loss: 3.5212 - mae: 3.5212\n",
            "Epoch 702/1000\n",
            "1/1 [==============================] - 0s 932us/step - loss: 3.5156 - mae: 3.5156\n",
            "Epoch 703/1000\n",
            "1/1 [==============================] - 0s 809us/step - loss: 3.5100 - mae: 3.5100\n",
            "Epoch 704/1000\n",
            "1/1 [==============================] - 0s 975us/step - loss: 3.5044 - mae: 3.5044\n",
            "Epoch 705/1000\n",
            "1/1 [==============================] - 0s 1ms/step - loss: 3.4987 - mae: 3.4987\n",
            "Epoch 706/1000\n",
            "1/1 [==============================] - 0s 1ms/step - loss: 3.4931 - mae: 3.4931\n",
            "Epoch 707/1000\n",
            "1/1 [==============================] - 0s 1ms/step - loss: 3.4875 - mae: 3.4875\n",
            "Epoch 708/1000\n",
            "1/1 [==============================] - 0s 945us/step - loss: 3.4833 - mae: 3.4833\n",
            "Epoch 709/1000\n",
            "1/1 [==============================] - 0s 1ms/step - loss: 3.4781 - mae: 3.4781\n",
            "Epoch 710/1000\n",
            "1/1 [==============================] - 0s 1ms/step - loss: 3.4725 - mae: 3.4725\n",
            "Epoch 711/1000\n",
            "1/1 [==============================] - 0s 2ms/step - loss: 3.4669 - mae: 3.4669\n",
            "Epoch 712/1000\n",
            "1/1 [==============================] - 0s 1ms/step - loss: 3.4612 - mae: 3.4612\n",
            "Epoch 713/1000\n",
            "1/1 [==============================] - 0s 1ms/step - loss: 3.4556 - mae: 3.4556\n",
            "Epoch 714/1000\n",
            "1/1 [==============================] - 0s 1ms/step - loss: 3.4500 - mae: 3.4500\n",
            "Epoch 715/1000\n",
            "1/1 [==============================] - 0s 917us/step - loss: 3.4444 - mae: 3.4444\n",
            "Epoch 716/1000\n",
            "1/1 [==============================] - 0s 887us/step - loss: 3.4387 - mae: 3.4387\n",
            "Epoch 717/1000\n",
            "1/1 [==============================] - 0s 958us/step - loss: 3.4331 - mae: 3.4331\n",
            "Epoch 718/1000\n",
            "1/1 [==============================] - 0s 1ms/step - loss: 3.4275 - mae: 3.4275\n",
            "Epoch 719/1000\n",
            "1/1 [==============================] - 0s 1ms/step - loss: 3.4219 - mae: 3.4219\n",
            "Epoch 720/1000\n",
            "1/1 [==============================] - 0s 1ms/step - loss: 3.4162 - mae: 3.4162\n",
            "Epoch 721/1000\n",
            "1/1 [==============================] - 0s 1ms/step - loss: 3.4106 - mae: 3.4106\n",
            "Epoch 722/1000\n",
            "1/1 [==============================] - 0s 1ms/step - loss: 3.4050 - mae: 3.4050\n",
            "Epoch 723/1000\n",
            "1/1 [==============================] - 0s 991us/step - loss: 3.3994 - mae: 3.3994\n",
            "Epoch 724/1000\n",
            "1/1 [==============================] - 0s 1ms/step - loss: 3.3937 - mae: 3.3937\n",
            "Epoch 725/1000\n",
            "1/1 [==============================] - 0s 1ms/step - loss: 3.3881 - mae: 3.3881\n",
            "Epoch 726/1000\n",
            "1/1 [==============================] - 0s 1ms/step - loss: 3.3825 - mae: 3.3825\n",
            "Epoch 727/1000\n",
            "1/1 [==============================] - 0s 934us/step - loss: 3.3769 - mae: 3.3769\n",
            "Epoch 728/1000\n",
            "1/1 [==============================] - 0s 912us/step - loss: 3.3712 - mae: 3.3712\n",
            "Epoch 729/1000\n",
            "1/1 [==============================] - 0s 957us/step - loss: 3.3656 - mae: 3.3656\n",
            "Epoch 730/1000\n",
            "1/1 [==============================] - 0s 932us/step - loss: 3.3600 - mae: 3.3600\n",
            "Epoch 731/1000\n",
            "1/1 [==============================] - 0s 1ms/step - loss: 3.3544 - mae: 3.3544\n",
            "Epoch 732/1000\n",
            "1/1 [==============================] - 0s 1ms/step - loss: 3.3487 - mae: 3.3487\n",
            "Epoch 733/1000\n",
            "1/1 [==============================] - 0s 1ms/step - loss: 3.3431 - mae: 3.3431\n",
            "Epoch 734/1000\n",
            "1/1 [==============================] - 0s 1ms/step - loss: 3.3375 - mae: 3.3375\n",
            "Epoch 735/1000\n",
            "1/1 [==============================] - 0s 1ms/step - loss: 3.3319 - mae: 3.3319\n",
            "Epoch 736/1000\n",
            "1/1 [==============================] - 0s 1ms/step - loss: 3.3262 - mae: 3.3262\n",
            "Epoch 737/1000\n",
            "1/1 [==============================] - 0s 1ms/step - loss: 3.3206 - mae: 3.3206\n",
            "Epoch 738/1000\n",
            "1/1 [==============================] - 0s 1ms/step - loss: 3.3150 - mae: 3.3150\n",
            "Epoch 739/1000\n",
            "1/1 [==============================] - 0s 1ms/step - loss: 3.3094 - mae: 3.3094\n",
            "Epoch 740/1000\n",
            "1/1 [==============================] - 0s 873us/step - loss: 3.3037 - mae: 3.3037\n",
            "Epoch 741/1000\n",
            "1/1 [==============================] - 0s 949us/step - loss: 3.2981 - mae: 3.2981\n",
            "Epoch 742/1000\n",
            "1/1 [==============================] - 0s 1ms/step - loss: 3.2925 - mae: 3.2925\n",
            "Epoch 743/1000\n",
            "1/1 [==============================] - 0s 907us/step - loss: 3.2869 - mae: 3.2869\n",
            "Epoch 744/1000\n",
            "1/1 [==============================] - 0s 870us/step - loss: 3.2812 - mae: 3.2812\n",
            "Epoch 745/1000\n",
            "1/1 [==============================] - 0s 929us/step - loss: 3.2756 - mae: 3.2756\n",
            "Epoch 746/1000\n",
            "1/1 [==============================] - 0s 890us/step - loss: 3.2700 - mae: 3.2700\n",
            "Epoch 747/1000\n",
            "1/1 [==============================] - 0s 880us/step - loss: 3.2644 - mae: 3.2644\n",
            "Epoch 748/1000\n",
            "1/1 [==============================] - 0s 973us/step - loss: 3.2589 - mae: 3.2589\n",
            "Epoch 749/1000\n",
            "1/1 [==============================] - 0s 885us/step - loss: 3.2550 - mae: 3.2550\n",
            "Epoch 750/1000\n",
            "1/1 [==============================] - 0s 1ms/step - loss: 3.2494 - mae: 3.2494\n",
            "Epoch 751/1000\n",
            "1/1 [==============================] - 0s 912us/step - loss: 3.2437 - mae: 3.2437\n",
            "Epoch 752/1000\n",
            "1/1 [==============================] - 0s 1ms/step - loss: 3.2381 - mae: 3.2381\n",
            "Epoch 753/1000\n",
            "1/1 [==============================] - 0s 2ms/step - loss: 3.2325 - mae: 3.2325\n",
            "Epoch 754/1000\n",
            "1/1 [==============================] - 0s 1ms/step - loss: 3.2269 - mae: 3.2269\n",
            "Epoch 755/1000\n",
            "1/1 [==============================] - 0s 1ms/step - loss: 3.2212 - mae: 3.2212\n",
            "Epoch 756/1000\n",
            "1/1 [==============================] - 0s 927us/step - loss: 3.2156 - mae: 3.2156\n",
            "Epoch 757/1000\n",
            "1/1 [==============================] - 0s 1ms/step - loss: 3.2100 - mae: 3.2100\n",
            "Epoch 758/1000\n",
            "1/1 [==============================] - 0s 1ms/step - loss: 3.2044 - mae: 3.2044\n",
            "Epoch 759/1000\n",
            "1/1 [==============================] - 0s 884us/step - loss: 3.1987 - mae: 3.1987\n",
            "Epoch 760/1000\n",
            "1/1 [==============================] - 0s 1ms/step - loss: 3.1931 - mae: 3.1931\n",
            "Epoch 761/1000\n",
            "1/1 [==============================] - 0s 1ms/step - loss: 3.1875 - mae: 3.1875\n",
            "Epoch 762/1000\n",
            "1/1 [==============================] - 0s 1ms/step - loss: 3.1819 - mae: 3.1819\n",
            "Epoch 763/1000\n",
            "1/1 [==============================] - 0s 1ms/step - loss: 3.1762 - mae: 3.1762\n",
            "Epoch 764/1000\n",
            "1/1 [==============================] - 0s 1ms/step - loss: 3.1706 - mae: 3.1706\n",
            "Epoch 765/1000\n",
            "1/1 [==============================] - 0s 1ms/step - loss: 3.1650 - mae: 3.1650\n",
            "Epoch 766/1000\n",
            "1/1 [==============================] - 0s 1ms/step - loss: 3.1594 - mae: 3.1594\n",
            "Epoch 767/1000\n",
            "1/1 [==============================] - 0s 1ms/step - loss: 3.1537 - mae: 3.1537\n",
            "Epoch 768/1000\n",
            "1/1 [==============================] - 0s 978us/step - loss: 3.1481 - mae: 3.1481\n",
            "Epoch 769/1000\n",
            "1/1 [==============================] - 0s 1ms/step - loss: 3.1425 - mae: 3.1425\n",
            "Epoch 770/1000\n",
            "1/1 [==============================] - 0s 1ms/step - loss: 3.1369 - mae: 3.1369\n",
            "Epoch 771/1000\n",
            "1/1 [==============================] - 0s 833us/step - loss: 3.1312 - mae: 3.1312\n",
            "Epoch 772/1000\n",
            "1/1 [==============================] - 0s 833us/step - loss: 3.1256 - mae: 3.1256\n",
            "Epoch 773/1000\n",
            "1/1 [==============================] - 0s 838us/step - loss: 3.1200 - mae: 3.1200\n",
            "Epoch 774/1000\n",
            "1/1 [==============================] - 0s 790us/step - loss: 3.1144 - mae: 3.1144\n",
            "Epoch 775/1000\n",
            "1/1 [==============================] - 0s 829us/step - loss: 3.1087 - mae: 3.1087\n",
            "Epoch 776/1000\n",
            "1/1 [==============================] - 0s 911us/step - loss: 3.1031 - mae: 3.1031\n",
            "Epoch 777/1000\n",
            "1/1 [==============================] - 0s 827us/step - loss: 3.0975 - mae: 3.0975\n",
            "Epoch 778/1000\n",
            "1/1 [==============================] - 0s 1ms/step - loss: 3.0919 - mae: 3.0919\n",
            "Epoch 779/1000\n",
            "1/1 [==============================] - 0s 1ms/step - loss: 3.0862 - mae: 3.0862\n",
            "Epoch 780/1000\n",
            "1/1 [==============================] - 0s 938us/step - loss: 3.0806 - mae: 3.0806\n",
            "Epoch 781/1000\n",
            "1/1 [==============================] - 0s 810us/step - loss: 3.0750 - mae: 3.0750\n",
            "Epoch 782/1000\n",
            "1/1 [==============================] - 0s 1ms/step - loss: 3.0694 - mae: 3.0694\n",
            "Epoch 783/1000\n",
            "1/1 [==============================] - 0s 993us/step - loss: 3.0637 - mae: 3.0637\n",
            "Epoch 784/1000\n",
            "1/1 [==============================] - 0s 882us/step - loss: 3.0581 - mae: 3.0581\n",
            "Epoch 785/1000\n",
            "1/1 [==============================] - 0s 1ms/step - loss: 3.0525 - mae: 3.0525\n",
            "Epoch 786/1000\n",
            "1/1 [==============================] - 0s 852us/step - loss: 3.0468 - mae: 3.0468\n",
            "Epoch 787/1000\n",
            "1/1 [==============================] - 0s 901us/step - loss: 3.0412 - mae: 3.0412\n",
            "Epoch 788/1000\n",
            "1/1 [==============================] - 0s 857us/step - loss: 3.0356 - mae: 3.0356\n",
            "Epoch 789/1000\n",
            "1/1 [==============================] - 0s 903us/step - loss: 3.0308 - mae: 3.0308\n",
            "Epoch 790/1000\n",
            "1/1 [==============================] - 0s 868us/step - loss: 3.0262 - mae: 3.0262\n",
            "Epoch 791/1000\n",
            "1/1 [==============================] - 0s 848us/step - loss: 3.0206 - mae: 3.0206\n",
            "Epoch 792/1000\n",
            "1/1 [==============================] - 0s 994us/step - loss: 3.0150 - mae: 3.0150\n",
            "Epoch 793/1000\n",
            "1/1 [==============================] - 0s 1ms/step - loss: 3.0093 - mae: 3.0093\n",
            "Epoch 794/1000\n",
            "1/1 [==============================] - 0s 976us/step - loss: 3.0037 - mae: 3.0037\n",
            "Epoch 795/1000\n",
            "1/1 [==============================] - 0s 1ms/step - loss: 2.9981 - mae: 2.9981\n",
            "Epoch 796/1000\n",
            "1/1 [==============================] - 0s 1ms/step - loss: 2.9925 - mae: 2.9925\n",
            "Epoch 797/1000\n",
            "1/1 [==============================] - 0s 855us/step - loss: 2.9868 - mae: 2.9868\n",
            "Epoch 798/1000\n",
            "1/1 [==============================] - 0s 869us/step - loss: 2.9812 - mae: 2.9812\n",
            "Epoch 799/1000\n",
            "1/1 [==============================] - 0s 886us/step - loss: 2.9756 - mae: 2.9756\n",
            "Epoch 800/1000\n",
            "1/1 [==============================] - 0s 868us/step - loss: 2.9700 - mae: 2.9700\n",
            "Epoch 801/1000\n",
            "1/1 [==============================] - 0s 843us/step - loss: 2.9643 - mae: 2.9643\n",
            "Epoch 802/1000\n",
            "1/1 [==============================] - 0s 832us/step - loss: 2.9587 - mae: 2.9587\n",
            "Epoch 803/1000\n",
            "1/1 [==============================] - 0s 884us/step - loss: 2.9531 - mae: 2.9531\n",
            "Epoch 804/1000\n",
            "1/1 [==============================] - 0s 868us/step - loss: 2.9475 - mae: 2.9475\n",
            "Epoch 805/1000\n",
            "1/1 [==============================] - 0s 856us/step - loss: 2.9418 - mae: 2.9418\n",
            "Epoch 806/1000\n",
            "1/1 [==============================] - 0s 860us/step - loss: 2.9362 - mae: 2.9362\n",
            "Epoch 807/1000\n",
            "1/1 [==============================] - 0s 844us/step - loss: 2.9306 - mae: 2.9306\n",
            "Epoch 808/1000\n",
            "1/1 [==============================] - 0s 858us/step - loss: 2.9250 - mae: 2.9250\n",
            "Epoch 809/1000\n",
            "1/1 [==============================] - 0s 1ms/step - loss: 2.9193 - mae: 2.9193\n",
            "Epoch 810/1000\n",
            "1/1 [==============================] - 0s 1ms/step - loss: 2.9137 - mae: 2.9137\n",
            "Epoch 811/1000\n",
            "1/1 [==============================] - 0s 926us/step - loss: 2.9081 - mae: 2.9081\n",
            "Epoch 812/1000\n",
            "1/1 [==============================] - 0s 975us/step - loss: 2.9025 - mae: 2.9025\n",
            "Epoch 813/1000\n",
            "1/1 [==============================] - 0s 1ms/step - loss: 2.8968 - mae: 2.8968\n",
            "Epoch 814/1000\n",
            "1/1 [==============================] - 0s 1ms/step - loss: 2.8912 - mae: 2.8912\n",
            "Epoch 815/1000\n",
            "1/1 [==============================] - 0s 1ms/step - loss: 2.8856 - mae: 2.8856\n",
            "Epoch 816/1000\n",
            "1/1 [==============================] - 0s 1ms/step - loss: 2.8800 - mae: 2.8800\n",
            "Epoch 817/1000\n",
            "1/1 [==============================] - 0s 1ms/step - loss: 2.8743 - mae: 2.8743\n",
            "Epoch 818/1000\n",
            "1/1 [==============================] - 0s 1ms/step - loss: 2.8687 - mae: 2.8687\n",
            "Epoch 819/1000\n",
            "1/1 [==============================] - 0s 1ms/step - loss: 2.8631 - mae: 2.8631\n",
            "Epoch 820/1000\n",
            "1/1 [==============================] - 0s 1ms/step - loss: 2.8575 - mae: 2.8575\n",
            "Epoch 821/1000\n",
            "1/1 [==============================] - 0s 1ms/step - loss: 2.8518 - mae: 2.8518\n",
            "Epoch 822/1000\n",
            "1/1 [==============================] - 0s 1ms/step - loss: 2.8462 - mae: 2.8462\n",
            "Epoch 823/1000\n",
            "1/1 [==============================] - 0s 1ms/step - loss: 2.8406 - mae: 2.8406\n",
            "Epoch 824/1000\n",
            "1/1 [==============================] - 0s 901us/step - loss: 2.8350 - mae: 2.8350\n",
            "Epoch 825/1000\n",
            "1/1 [==============================] - 0s 1ms/step - loss: 2.8293 - mae: 2.8293\n",
            "Epoch 826/1000\n",
            "1/1 [==============================] - 0s 947us/step - loss: 2.8237 - mae: 2.8237\n",
            "Epoch 827/1000\n",
            "1/1 [==============================] - 0s 1ms/step - loss: 2.8181 - mae: 2.8181\n",
            "Epoch 828/1000\n",
            "1/1 [==============================] - 0s 912us/step - loss: 2.8125 - mae: 2.8125\n",
            "Epoch 829/1000\n",
            "1/1 [==============================] - 0s 1ms/step - loss: 2.8068 - mae: 2.8068\n",
            "Epoch 830/1000\n",
            "1/1 [==============================] - 0s 860us/step - loss: 2.8026 - mae: 2.8026\n",
            "Epoch 831/1000\n",
            "1/1 [==============================] - 0s 1ms/step - loss: 2.7975 - mae: 2.7975\n",
            "Epoch 832/1000\n",
            "1/1 [==============================] - 0s 1ms/step - loss: 2.7918 - mae: 2.7918\n",
            "Epoch 833/1000\n",
            "1/1 [==============================] - 0s 1ms/step - loss: 2.7862 - mae: 2.7862\n",
            "Epoch 834/1000\n",
            "1/1 [==============================] - 0s 1ms/step - loss: 2.7806 - mae: 2.7806\n",
            "Epoch 835/1000\n",
            "1/1 [==============================] - 0s 1ms/step - loss: 2.7750 - mae: 2.7750\n",
            "Epoch 836/1000\n",
            "1/1 [==============================] - 0s 1ms/step - loss: 2.7693 - mae: 2.7693\n",
            "Epoch 837/1000\n",
            "1/1 [==============================] - 0s 1ms/step - loss: 2.7637 - mae: 2.7637\n",
            "Epoch 838/1000\n",
            "1/1 [==============================] - 0s 1ms/step - loss: 2.7581 - mae: 2.7581\n",
            "Epoch 839/1000\n",
            "1/1 [==============================] - 0s 1ms/step - loss: 2.7525 - mae: 2.7525\n",
            "Epoch 840/1000\n",
            "1/1 [==============================] - 0s 909us/step - loss: 2.7468 - mae: 2.7468\n",
            "Epoch 841/1000\n",
            "1/1 [==============================] - 0s 1ms/step - loss: 2.7412 - mae: 2.7412\n",
            "Epoch 842/1000\n",
            "1/1 [==============================] - 0s 1ms/step - loss: 2.7356 - mae: 2.7356\n",
            "Epoch 843/1000\n",
            "1/1 [==============================] - 0s 1ms/step - loss: 2.7300 - mae: 2.7300\n",
            "Epoch 844/1000\n",
            "1/1 [==============================] - 0s 1ms/step - loss: 2.7243 - mae: 2.7243\n",
            "Epoch 845/1000\n",
            "1/1 [==============================] - 0s 900us/step - loss: 2.7187 - mae: 2.7187\n",
            "Epoch 846/1000\n",
            "1/1 [==============================] - 0s 1ms/step - loss: 2.7131 - mae: 2.7131\n",
            "Epoch 847/1000\n",
            "1/1 [==============================] - 0s 1ms/step - loss: 2.7075 - mae: 2.7075\n",
            "Epoch 848/1000\n",
            "1/1 [==============================] - 0s 1ms/step - loss: 2.7018 - mae: 2.7018\n",
            "Epoch 849/1000\n",
            "1/1 [==============================] - 0s 1ms/step - loss: 2.6962 - mae: 2.6962\n",
            "Epoch 850/1000\n",
            "1/1 [==============================] - 0s 1ms/step - loss: 2.6906 - mae: 2.6906\n",
            "Epoch 851/1000\n",
            "1/1 [==============================] - 0s 1ms/step - loss: 2.6850 - mae: 2.6850\n",
            "Epoch 852/1000\n",
            "1/1 [==============================] - 0s 920us/step - loss: 2.6793 - mae: 2.6793\n",
            "Epoch 853/1000\n",
            "1/1 [==============================] - 0s 1ms/step - loss: 2.6737 - mae: 2.6737\n",
            "Epoch 854/1000\n",
            "1/1 [==============================] - 0s 1ms/step - loss: 2.6681 - mae: 2.6681\n",
            "Epoch 855/1000\n",
            "1/1 [==============================] - 0s 1ms/step - loss: 2.6625 - mae: 2.6625\n",
            "Epoch 856/1000\n",
            "1/1 [==============================] - 0s 1ms/step - loss: 2.6568 - mae: 2.6568\n",
            "Epoch 857/1000\n",
            "1/1 [==============================] - 0s 1ms/step - loss: 2.6512 - mae: 2.6512\n",
            "Epoch 858/1000\n",
            "1/1 [==============================] - 0s 954us/step - loss: 2.6456 - mae: 2.6456\n",
            "Epoch 859/1000\n",
            "1/1 [==============================] - 0s 959us/step - loss: 2.6400 - mae: 2.6400\n",
            "Epoch 860/1000\n",
            "1/1 [==============================] - 0s 1ms/step - loss: 2.6343 - mae: 2.6343\n",
            "Epoch 861/1000\n",
            "1/1 [==============================] - 0s 1ms/step - loss: 2.6287 - mae: 2.6287\n",
            "Epoch 862/1000\n",
            "1/1 [==============================] - 0s 1ms/step - loss: 2.6231 - mae: 2.6231\n",
            "Epoch 863/1000\n",
            "1/1 [==============================] - 0s 1ms/step - loss: 2.6175 - mae: 2.6175\n",
            "Epoch 864/1000\n",
            "1/1 [==============================] - 0s 1ms/step - loss: 2.6118 - mae: 2.6118\n",
            "Epoch 865/1000\n",
            "1/1 [==============================] - 0s 1ms/step - loss: 2.6062 - mae: 2.6062\n",
            "Epoch 866/1000\n",
            "1/1 [==============================] - 0s 1ms/step - loss: 2.6006 - mae: 2.6006\n",
            "Epoch 867/1000\n",
            "1/1 [==============================] - 0s 1ms/step - loss: 2.5950 - mae: 2.5950\n",
            "Epoch 868/1000\n",
            "1/1 [==============================] - 0s 892us/step - loss: 2.5893 - mae: 2.5893\n",
            "Epoch 869/1000\n",
            "1/1 [==============================] - 0s 872us/step - loss: 2.5837 - mae: 2.5837\n",
            "Epoch 870/1000\n",
            "1/1 [==============================] - 0s 1ms/step - loss: 2.5783 - mae: 2.5783\n",
            "Epoch 871/1000\n",
            "1/1 [==============================] - 0s 892us/step - loss: 2.5743 - mae: 2.5743\n",
            "Epoch 872/1000\n",
            "1/1 [==============================] - 0s 943us/step - loss: 2.5687 - mae: 2.5687\n",
            "Epoch 873/1000\n",
            "1/1 [==============================] - 0s 873us/step - loss: 2.5631 - mae: 2.5631\n",
            "Epoch 874/1000\n",
            "1/1 [==============================] - 0s 1ms/step - loss: 2.5575 - mae: 2.5575\n",
            "Epoch 875/1000\n",
            "1/1 [==============================] - 0s 1ms/step - loss: 2.5518 - mae: 2.5518\n",
            "Epoch 876/1000\n",
            "1/1 [==============================] - 0s 893us/step - loss: 2.5462 - mae: 2.5462\n",
            "Epoch 877/1000\n",
            "1/1 [==============================] - 0s 849us/step - loss: 2.5406 - mae: 2.5406\n",
            "Epoch 878/1000\n",
            "1/1 [==============================] - 0s 1ms/step - loss: 2.5350 - mae: 2.5350\n",
            "Epoch 879/1000\n",
            "1/1 [==============================] - 0s 962us/step - loss: 2.5293 - mae: 2.5293\n",
            "Epoch 880/1000\n",
            "1/1 [==============================] - 0s 865us/step - loss: 2.5237 - mae: 2.5237\n",
            "Epoch 881/1000\n",
            "1/1 [==============================] - 0s 887us/step - loss: 2.5181 - mae: 2.5181\n",
            "Epoch 882/1000\n",
            "1/1 [==============================] - 0s 854us/step - loss: 2.5125 - mae: 2.5125\n",
            "Epoch 883/1000\n",
            "1/1 [==============================] - 0s 946us/step - loss: 2.5068 - mae: 2.5068\n",
            "Epoch 884/1000\n",
            "1/1 [==============================] - 0s 911us/step - loss: 2.5012 - mae: 2.5012\n",
            "Epoch 885/1000\n",
            "1/1 [==============================] - 0s 848us/step - loss: 2.4956 - mae: 2.4956\n",
            "Epoch 886/1000\n",
            "1/1 [==============================] - 0s 862us/step - loss: 2.4900 - mae: 2.4900\n",
            "Epoch 887/1000\n",
            "1/1 [==============================] - 0s 824us/step - loss: 2.4843 - mae: 2.4843\n",
            "Epoch 888/1000\n",
            "1/1 [==============================] - 0s 816us/step - loss: 2.4787 - mae: 2.4787\n",
            "Epoch 889/1000\n",
            "1/1 [==============================] - 0s 930us/step - loss: 2.4731 - mae: 2.4731\n",
            "Epoch 890/1000\n",
            "1/1 [==============================] - 0s 796us/step - loss: 2.4675 - mae: 2.4675\n",
            "Epoch 891/1000\n",
            "1/1 [==============================] - 0s 859us/step - loss: 2.4618 - mae: 2.4618\n",
            "Epoch 892/1000\n",
            "1/1 [==============================] - 0s 1ms/step - loss: 2.4562 - mae: 2.4562\n",
            "Epoch 893/1000\n",
            "1/1 [==============================] - 0s 860us/step - loss: 2.4506 - mae: 2.4506\n",
            "Epoch 894/1000\n",
            "1/1 [==============================] - 0s 802us/step - loss: 2.4450 - mae: 2.4450\n",
            "Epoch 895/1000\n",
            "1/1 [==============================] - 0s 977us/step - loss: 2.4393 - mae: 2.4393\n",
            "Epoch 896/1000\n",
            "1/1 [==============================] - 0s 944us/step - loss: 2.4337 - mae: 2.4337\n",
            "Epoch 897/1000\n",
            "1/1 [==============================] - 0s 845us/step - loss: 2.4281 - mae: 2.4281\n",
            "Epoch 898/1000\n",
            "1/1 [==============================] - 0s 833us/step - loss: 2.4225 - mae: 2.4225\n",
            "Epoch 899/1000\n",
            "1/1 [==============================] - 0s 1ms/step - loss: 2.4168 - mae: 2.4168\n",
            "Epoch 900/1000\n",
            "1/1 [==============================] - 0s 958us/step - loss: 2.4112 - mae: 2.4112\n",
            "Epoch 901/1000\n",
            "1/1 [==============================] - 0s 817us/step - loss: 2.4056 - mae: 2.4056\n",
            "Epoch 902/1000\n",
            "1/1 [==============================] - 0s 1ms/step - loss: 2.4000 - mae: 2.4000\n",
            "Epoch 903/1000\n",
            "1/1 [==============================] - 0s 1ms/step - loss: 2.3943 - mae: 2.3943\n",
            "Epoch 904/1000\n",
            "1/1 [==============================] - 0s 1ms/step - loss: 2.3887 - mae: 2.3887\n",
            "Epoch 905/1000\n",
            "1/1 [==============================] - 0s 1ms/step - loss: 2.3831 - mae: 2.3831\n",
            "Epoch 906/1000\n",
            "1/1 [==============================] - 0s 914us/step - loss: 2.3775 - mae: 2.3775\n",
            "Epoch 907/1000\n",
            "1/1 [==============================] - 0s 870us/step - loss: 2.3718 - mae: 2.3718\n",
            "Epoch 908/1000\n",
            "1/1 [==============================] - 0s 1ms/step - loss: 2.3662 - mae: 2.3662\n",
            "Epoch 909/1000\n",
            "1/1 [==============================] - 0s 841us/step - loss: 2.3606 - mae: 2.3606\n",
            "Epoch 910/1000\n",
            "1/1 [==============================] - 0s 1ms/step - loss: 2.3550 - mae: 2.3550\n",
            "Epoch 911/1000\n",
            "1/1 [==============================] - 0s 869us/step - loss: 2.3501 - mae: 2.3501\n",
            "Epoch 912/1000\n",
            "1/1 [==============================] - 0s 1ms/step - loss: 2.3456 - mae: 2.3456\n",
            "Epoch 913/1000\n",
            "1/1 [==============================] - 0s 835us/step - loss: 2.3400 - mae: 2.3400\n",
            "Epoch 914/1000\n",
            "1/1 [==============================] - 0s 837us/step - loss: 2.3343 - mae: 2.3343\n",
            "Epoch 915/1000\n",
            "1/1 [==============================] - 0s 788us/step - loss: 2.3287 - mae: 2.3287\n",
            "Epoch 916/1000\n",
            "1/1 [==============================] - 0s 883us/step - loss: 2.3231 - mae: 2.3231\n",
            "Epoch 917/1000\n",
            "1/1 [==============================] - 0s 966us/step - loss: 2.3175 - mae: 2.3175\n",
            "Epoch 918/1000\n",
            "1/1 [==============================] - 0s 832us/step - loss: 2.3118 - mae: 2.3118\n",
            "Epoch 919/1000\n",
            "1/1 [==============================] - 0s 1ms/step - loss: 2.3062 - mae: 2.3062\n",
            "Epoch 920/1000\n",
            "1/1 [==============================] - 0s 802us/step - loss: 2.3006 - mae: 2.3006\n",
            "Epoch 921/1000\n",
            "1/1 [==============================] - 0s 1ms/step - loss: 2.2950 - mae: 2.2950\n",
            "Epoch 922/1000\n",
            "1/1 [==============================] - 0s 1ms/step - loss: 2.2893 - mae: 2.2893\n",
            "Epoch 923/1000\n",
            "1/1 [==============================] - 0s 881us/step - loss: 2.2837 - mae: 2.2837\n",
            "Epoch 924/1000\n",
            "1/1 [==============================] - 0s 844us/step - loss: 2.2781 - mae: 2.2781\n",
            "Epoch 925/1000\n",
            "1/1 [==============================] - 0s 918us/step - loss: 2.2725 - mae: 2.2725\n",
            "Epoch 926/1000\n",
            "1/1 [==============================] - 0s 1ms/step - loss: 2.2668 - mae: 2.2668\n",
            "Epoch 927/1000\n",
            "1/1 [==============================] - 0s 882us/step - loss: 2.2612 - mae: 2.2612\n",
            "Epoch 928/1000\n",
            "1/1 [==============================] - 0s 786us/step - loss: 2.2556 - mae: 2.2556\n",
            "Epoch 929/1000\n",
            "1/1 [==============================] - 0s 1ms/step - loss: 2.2500 - mae: 2.2500\n",
            "Epoch 930/1000\n",
            "1/1 [==============================] - 0s 1ms/step - loss: 2.2443 - mae: 2.2443\n",
            "Epoch 931/1000\n",
            "1/1 [==============================] - 0s 1ms/step - loss: 2.2387 - mae: 2.2387\n",
            "Epoch 932/1000\n",
            "1/1 [==============================] - 0s 1ms/step - loss: 2.2331 - mae: 2.2331\n",
            "Epoch 933/1000\n",
            "1/1 [==============================] - 0s 1ms/step - loss: 2.2275 - mae: 2.2275\n",
            "Epoch 934/1000\n",
            "1/1 [==============================] - 0s 1ms/step - loss: 2.2218 - mae: 2.2218\n",
            "Epoch 935/1000\n",
            "1/1 [==============================] - 0s 1ms/step - loss: 2.2162 - mae: 2.2162\n",
            "Epoch 936/1000\n",
            "1/1 [==============================] - 0s 1ms/step - loss: 2.2106 - mae: 2.2106\n",
            "Epoch 937/1000\n",
            "1/1 [==============================] - 0s 1ms/step - loss: 2.2050 - mae: 2.2050\n",
            "Epoch 938/1000\n",
            "1/1 [==============================] - 0s 1ms/step - loss: 2.1993 - mae: 2.1993\n",
            "Epoch 939/1000\n",
            "1/1 [==============================] - 0s 1ms/step - loss: 2.1937 - mae: 2.1937\n",
            "Epoch 940/1000\n",
            "1/1 [==============================] - 0s 1ms/step - loss: 2.1881 - mae: 2.1881\n",
            "Epoch 941/1000\n",
            "1/1 [==============================] - 0s 917us/step - loss: 2.1825 - mae: 2.1825\n",
            "Epoch 942/1000\n",
            "1/1 [==============================] - 0s 1ms/step - loss: 2.1768 - mae: 2.1768\n",
            "Epoch 943/1000\n",
            "1/1 [==============================] - 0s 1ms/step - loss: 2.1712 - mae: 2.1712\n",
            "Epoch 944/1000\n",
            "1/1 [==============================] - 0s 1ms/step - loss: 2.1656 - mae: 2.1656\n",
            "Epoch 945/1000\n",
            "1/1 [==============================] - 0s 1ms/step - loss: 2.1600 - mae: 2.1600\n",
            "Epoch 946/1000\n",
            "1/1 [==============================] - 0s 1ms/step - loss: 2.1543 - mae: 2.1543\n",
            "Epoch 947/1000\n",
            "1/1 [==============================] - 0s 991us/step - loss: 2.1487 - mae: 2.1487\n",
            "Epoch 948/1000\n",
            "1/1 [==============================] - 0s 903us/step - loss: 2.1431 - mae: 2.1431\n",
            "Epoch 949/1000\n",
            "1/1 [==============================] - 0s 886us/step - loss: 2.1375 - mae: 2.1375\n",
            "Epoch 950/1000\n",
            "1/1 [==============================] - 0s 1ms/step - loss: 2.1318 - mae: 2.1318\n",
            "Epoch 951/1000\n",
            "1/1 [==============================] - 0s 1ms/step - loss: 2.1262 - mae: 2.1262\n",
            "Epoch 952/1000\n",
            "1/1 [==============================] - 0s 948us/step - loss: 2.1220 - mae: 2.1220\n",
            "Epoch 953/1000\n",
            "1/1 [==============================] - 0s 1ms/step - loss: 2.1168 - mae: 2.1168\n",
            "Epoch 954/1000\n",
            "1/1 [==============================] - 0s 1ms/step - loss: 2.1112 - mae: 2.1112\n",
            "Epoch 955/1000\n",
            "1/1 [==============================] - 0s 1ms/step - loss: 2.1056 - mae: 2.1056\n",
            "Epoch 956/1000\n",
            "1/1 [==============================] - 0s 1ms/step - loss: 2.1000 - mae: 2.1000\n",
            "Epoch 957/1000\n",
            "1/1 [==============================] - 0s 1ms/step - loss: 2.0943 - mae: 2.0943\n",
            "Epoch 958/1000\n",
            "1/1 [==============================] - 0s 1ms/step - loss: 2.0887 - mae: 2.0887\n",
            "Epoch 959/1000\n",
            "1/1 [==============================] - 0s 1ms/step - loss: 2.0831 - mae: 2.0831\n",
            "Epoch 960/1000\n",
            "1/1 [==============================] - 0s 1ms/step - loss: 2.0775 - mae: 2.0775\n",
            "Epoch 961/1000\n",
            "1/1 [==============================] - 0s 1ms/step - loss: 2.0718 - mae: 2.0718\n",
            "Epoch 962/1000\n",
            "1/1 [==============================] - 0s 1ms/step - loss: 2.0662 - mae: 2.0662\n",
            "Epoch 963/1000\n",
            "1/1 [==============================] - 0s 1ms/step - loss: 2.0606 - mae: 2.0606\n",
            "Epoch 964/1000\n",
            "1/1 [==============================] - 0s 1ms/step - loss: 2.0550 - mae: 2.0550\n",
            "Epoch 965/1000\n",
            "1/1 [==============================] - 0s 1ms/step - loss: 2.0493 - mae: 2.0493\n",
            "Epoch 966/1000\n",
            "1/1 [==============================] - 0s 1ms/step - loss: 2.0437 - mae: 2.0437\n",
            "Epoch 967/1000\n",
            "1/1 [==============================] - 0s 975us/step - loss: 2.0381 - mae: 2.0381\n",
            "Epoch 968/1000\n",
            "1/1 [==============================] - 0s 1ms/step - loss: 2.0325 - mae: 2.0325\n",
            "Epoch 969/1000\n",
            "1/1 [==============================] - 0s 933us/step - loss: 2.0268 - mae: 2.0268\n",
            "Epoch 970/1000\n",
            "1/1 [==============================] - 0s 949us/step - loss: 2.0212 - mae: 2.0212\n",
            "Epoch 971/1000\n",
            "1/1 [==============================] - 0s 950us/step - loss: 2.0156 - mae: 2.0156\n",
            "Epoch 972/1000\n",
            "1/1 [==============================] - 0s 903us/step - loss: 2.0100 - mae: 2.0100\n",
            "Epoch 973/1000\n",
            "1/1 [==============================] - 0s 873us/step - loss: 2.0043 - mae: 2.0043\n",
            "Epoch 974/1000\n",
            "1/1 [==============================] - 0s 870us/step - loss: 1.9987 - mae: 1.9987\n",
            "Epoch 975/1000\n",
            "1/1 [==============================] - 0s 918us/step - loss: 1.9931 - mae: 1.9931\n",
            "Epoch 976/1000\n",
            "1/1 [==============================] - 0s 1ms/step - loss: 1.9875 - mae: 1.9875\n",
            "Epoch 977/1000\n",
            "1/1 [==============================] - 0s 1ms/step - loss: 1.9818 - mae: 1.9818\n",
            "Epoch 978/1000\n",
            "1/1 [==============================] - 0s 1ms/step - loss: 1.9762 - mae: 1.9762\n",
            "Epoch 979/1000\n",
            "1/1 [==============================] - 0s 847us/step - loss: 1.9706 - mae: 1.9706\n",
            "Epoch 980/1000\n",
            "1/1 [==============================] - 0s 866us/step - loss: 1.9649 - mae: 1.9649\n",
            "Epoch 981/1000\n",
            "1/1 [==============================] - 0s 886us/step - loss: 1.9593 - mae: 1.9593\n",
            "Epoch 982/1000\n",
            "1/1 [==============================] - 0s 909us/step - loss: 1.9537 - mae: 1.9537\n",
            "Epoch 983/1000\n",
            "1/1 [==============================] - 0s 991us/step - loss: 1.9481 - mae: 1.9481\n",
            "Epoch 984/1000\n",
            "1/1 [==============================] - 0s 1ms/step - loss: 1.9424 - mae: 1.9424\n",
            "Epoch 985/1000\n",
            "1/1 [==============================] - 0s 880us/step - loss: 1.9368 - mae: 1.9368\n",
            "Epoch 986/1000\n",
            "1/1 [==============================] - 0s 834us/step - loss: 1.9312 - mae: 1.9312\n",
            "Epoch 987/1000\n",
            "1/1 [==============================] - 0s 1ms/step - loss: 1.9256 - mae: 1.9256\n",
            "Epoch 988/1000\n",
            "1/1 [==============================] - 0s 1ms/step - loss: 1.9199 - mae: 1.9199\n",
            "Epoch 989/1000\n",
            "1/1 [==============================] - 0s 899us/step - loss: 1.9143 - mae: 1.9143\n",
            "Epoch 990/1000\n",
            "1/1 [==============================] - 0s 871us/step - loss: 1.9087 - mae: 1.9087\n",
            "Epoch 991/1000\n",
            "1/1 [==============================] - 0s 933us/step - loss: 1.9031 - mae: 1.9031\n",
            "Epoch 992/1000\n",
            "1/1 [==============================] - 0s 827us/step - loss: 1.8976 - mae: 1.8976\n",
            "Epoch 993/1000\n",
            "1/1 [==============================] - 0s 788us/step - loss: 1.8937 - mae: 1.8937\n",
            "Epoch 994/1000\n",
            "1/1 [==============================] - 0s 1ms/step - loss: 1.8881 - mae: 1.8881\n",
            "Epoch 995/1000\n",
            "1/1 [==============================] - 0s 852us/step - loss: 1.8824 - mae: 1.8824\n",
            "Epoch 996/1000\n",
            "1/1 [==============================] - 0s 841us/step - loss: 1.8768 - mae: 1.8768\n",
            "Epoch 997/1000\n",
            "1/1 [==============================] - 0s 836us/step - loss: 1.8712 - mae: 1.8712\n",
            "Epoch 998/1000\n",
            "1/1 [==============================] - 0s 822us/step - loss: 1.8656 - mae: 1.8656\n",
            "Epoch 999/1000\n",
            "1/1 [==============================] - 0s 882us/step - loss: 1.8599 - mae: 1.8599\n",
            "Epoch 1000/1000\n",
            "1/1 [==============================] - 0s 846us/step - loss: 1.8543 - mae: 1.8543\n"
          ]
        },
        {
          "data": {
            "text/plain": [
              "<tensorflow.python.keras.callbacks.History at 0x7f0ad00f0580>"
            ]
          },
          "execution_count": 11,
          "metadata": {},
          "output_type": "execute_result"
        }
      ],
      "source": [
        "# Set random seed\n",
        "tf.random.set_seed(42)\n",
        "\n",
        "# Create a model (same as above)\n",
        "model = tf.keras.Sequential([\n",
        "  tf.keras.layers.Dense(1)\n",
        "])\n",
        "\n",
        "# Compile model (same as above)\n",
        "model.compile(loss=tf.keras.losses.mae,\n",
        "              optimizer=tf.keras.optimizers.SGD(),\n",
        "              metrics=[\"mae\"])\n",
        "\n",
        "# Fit model (this time we'll train for longer)\n",
        "model.fit(X, y, epochs=1000) # train for 100 epochs not 10"
      ]
    },
    {
      "cell_type": "markdown",
      "metadata": {
        "id": "1CIKSm7filgj"
      },
      "source": [
        "You might've noticed the loss value decrease from before (and keep decreasing as the number of epochs gets higher). \n",
        "\n",
        "What do you think this means for when we make a prediction with our model?\n",
        "\n",
        "How about we try predict on 17.0 again?"
      ]
    },
    {
      "cell_type": "code",
      "execution_count": 12,
      "metadata": {
        "colab": {
          "base_uri": "https://localhost:8080/"
        },
        "id": "_YcacZsfi4zZ",
        "outputId": "75cf2818-b564-4b4a-ffb0-3aa2ba5022bf"
      },
      "outputs": [
        {
          "data": {
            "text/plain": [
              "(<tf.Tensor: shape=(8,), dtype=float32, numpy=array([-7., -4., -1.,  2.,  5.,  8., 11., 14.], dtype=float32)>,\n",
              " <tf.Tensor: shape=(8,), dtype=float32, numpy=array([ 3.,  6.,  9., 12., 15., 18., 21., 24.], dtype=float32)>)"
            ]
          },
          "execution_count": 12,
          "metadata": {},
          "output_type": "execute_result"
        }
      ],
      "source": [
        "# Remind ourselves of what X and y are\n",
        "X, y"
      ]
    },
    {
      "cell_type": "code",
      "execution_count": 13,
      "metadata": {
        "colab": {
          "base_uri": "https://localhost:8080/"
        },
        "id": "e6k5V08ZivNO",
        "outputId": "9809e4b0-a1de-4969-da75-23d48064f0f9"
      },
      "outputs": [
        {
          "data": {
            "text/plain": [
              "array([[27.97857]], dtype=float32)"
            ]
          },
          "execution_count": 13,
          "metadata": {},
          "output_type": "execute_result"
        }
      ],
      "source": [
        "# Try and predict what y would be if X was 17.0\n",
        "model.predict([17.0]) # the right answer is 27.0 (y = X + 10)"
      ]
    },
    {
      "cell_type": "markdown",
      "metadata": {
        "id": "sYi5V8ZYi_dy"
      },
      "source": [
        "Much better! \n",
        "\n",
        "We got closer this time. But we could still be better.\n",
        "\n",
        "Now we've trained a model, how could we evaluate it?"
      ]
    },
    {
      "cell_type": "markdown",
      "metadata": {
        "id": "HvC98q_h6zvG"
      },
      "source": [
        "## Evaluating a model \n",
        "\n",
        "A typical workflow you'll go through when building neural networks is:\n",
        "\n",
        "```\n",
        "Build a model -> evaluate it -> build (tweak) a model -> evaulate it -> build (tweak) a model -> evaluate it...\n",
        "```\n",
        "\n",
        "The tweaking comes from maybe not building a model from scratch but adjusting an existing one.\n",
        "\n",
        "### Visualize, visualize, visualize\n",
        "\n",
        "When it comes to evaluation, you'll want to remember the words: \"visualize, visualize, visualize.\" \n",
        "\n",
        "This is because you're probably better looking at something (doing) than you are thinking about something.\n",
        "\n",
        "It's a good idea to visualize:\n",
        "* **The data** - what data are you working with? What does it look like?\n",
        "* **The model itself** - what does the architecture look like? What are the different shapes?\n",
        "* **The training of a model** - how does a model perform while it learns?\n",
        "* **The predictions of a model** - how do the predictions of a model line up against the ground truth (the original labels)?\n",
        "\n",
        "Let's start by visualizing the model.\n",
        "\n",
        "But first, we'll create a little bit of a bigger dataset and a new model we can use (it'll be the same as before, but the more practice the better).\n"
      ]
    },
    {
      "cell_type": "code",
      "execution_count": 14,
      "metadata": {
        "colab": {
          "base_uri": "https://localhost:8080/"
        },
        "id": "srxuqbeYopns",
        "outputId": "2a243d17-4fbd-489a-b861-bd7a56511437"
      },
      "outputs": [
        {
          "data": {
            "text/plain": [
              "array([-100,  -96,  -92,  -88,  -84,  -80,  -76,  -72,  -68,  -64,  -60,\n",
              "        -56,  -52,  -48,  -44,  -40,  -36,  -32,  -28,  -24,  -20,  -16,\n",
              "        -12,   -8,   -4,    0,    4,    8,   12,   16,   20,   24,   28,\n",
              "         32,   36,   40,   44,   48,   52,   56,   60,   64,   68,   72,\n",
              "         76,   80,   84,   88,   92,   96])"
            ]
          },
          "execution_count": 14,
          "metadata": {},
          "output_type": "execute_result"
        }
      ],
      "source": [
        "# Make a bigger dataset\n",
        "X = np.arange(-100, 100, 4)\n",
        "X"
      ]
    },
    {
      "cell_type": "code",
      "execution_count": 15,
      "metadata": {
        "colab": {
          "base_uri": "https://localhost:8080/"
        },
        "id": "pQcC0nSko3kJ",
        "outputId": "ef472020-6e83-45da-986f-eb4072f94b35"
      },
      "outputs": [
        {
          "data": {
            "text/plain": [
              "array([-90, -86, -82, -78, -74, -70, -66, -62, -58, -54, -50, -46, -42,\n",
              "       -38, -34, -30, -26, -22, -18, -14, -10,  -6,  -2,   2,   6,  10,\n",
              "        14,  18,  22,  26,  30,  34,  38,  42,  46,  50,  54,  58,  62,\n",
              "        66,  70,  74,  78,  82,  86,  90,  94,  98, 102, 106])"
            ]
          },
          "execution_count": 15,
          "metadata": {},
          "output_type": "execute_result"
        }
      ],
      "source": [
        "# Make labels for the dataset (adhering to the same pattern as before)\n",
        "y = np.arange(-90, 110, 4)\n",
        "y"
      ]
    },
    {
      "cell_type": "markdown",
      "metadata": {
        "id": "KNIw5tgGpKjb"
      },
      "source": [
        "Since $y=X+10$, we could make the labels like so:"
      ]
    },
    {
      "cell_type": "code",
      "execution_count": 16,
      "metadata": {
        "colab": {
          "base_uri": "https://localhost:8080/"
        },
        "id": "ACgbmrAOpJwW",
        "outputId": "bb561d4d-1bb1-479e-ae3e-a82cc96e95a3"
      },
      "outputs": [
        {
          "data": {
            "text/plain": [
              "array([-90, -86, -82, -78, -74, -70, -66, -62, -58, -54, -50, -46, -42,\n",
              "       -38, -34, -30, -26, -22, -18, -14, -10,  -6,  -2,   2,   6,  10,\n",
              "        14,  18,  22,  26,  30,  34,  38,  42,  46,  50,  54,  58,  62,\n",
              "        66,  70,  74,  78,  82,  86,  90,  94,  98, 102, 106])"
            ]
          },
          "execution_count": 16,
          "metadata": {},
          "output_type": "execute_result"
        }
      ],
      "source": [
        "# Same result as above\n",
        "y = X + 10\n",
        "y"
      ]
    },
    {
      "cell_type": "markdown",
      "metadata": {
        "id": "ax3MnQDupeBp"
      },
      "source": [
        "## Split data into training/test set\n",
        "\n",
        "One of the other most common and important steps in a machine learning project is creating a training and test set (and when required, a validation set).\n",
        "\n",
        "Each set serves a specific purpose:\n",
        "* **Training set** - the model learns from this data, which is typically 70-80% of the total data available (like the course materials you study during the semester).\n",
        "* **Validation set** - the model gets tuned on this data, which is typically 10-15% of the total data available (like the practice exam you take before the final exam).\n",
        "* **Test set** - the model gets evaluated on this data to test what it has learned, it's typically 10-15% of the total data available (like the final exam you take at the end of the semester).\n",
        "\n",
        "For now, we'll just use a training and test set, this means we'll have a dataset for our model to learn on as well as be evaluated on.\n",
        "\n",
        "We can create them by splitting our `X` and `y` arrays.\n",
        "\n",
        "> 🔑 **Note:** When dealing with real-world data, this step is typically done right at the start of a project (the test set should always be kept separate from all other data). We want our model to learn on training data and then evaluate it on test data to get an indication of how well it **generalizes** to unseen examples."
      ]
    },
    {
      "cell_type": "code",
      "execution_count": 17,
      "metadata": {
        "colab": {
          "base_uri": "https://localhost:8080/"
        },
        "id": "5G0RDMnZrgvK",
        "outputId": "1da59eba-48b5-4b8f-a925-9537e68621fb"
      },
      "outputs": [
        {
          "data": {
            "text/plain": [
              "50"
            ]
          },
          "execution_count": 17,
          "metadata": {},
          "output_type": "execute_result"
        }
      ],
      "source": [
        "# Check how many samples we have\n",
        "len(X)"
      ]
    },
    {
      "cell_type": "code",
      "execution_count": 18,
      "metadata": {
        "colab": {
          "base_uri": "https://localhost:8080/"
        },
        "id": "4Q9ptcQkrGfO",
        "outputId": "7eda8251-08ea-4ded-99fc-f7be6a3c4f24"
      },
      "outputs": [
        {
          "data": {
            "text/plain": [
              "(40, 10)"
            ]
          },
          "execution_count": 18,
          "metadata": {},
          "output_type": "execute_result"
        }
      ],
      "source": [
        "# Split data into train and test sets\n",
        "X_train = X[:40] # first 40 examples (80% of data)\n",
        "y_train = y[:40]\n",
        "\n",
        "X_test = X[40:] # last 10 examples (20% of data)\n",
        "y_test = y[40:]\n",
        "\n",
        "len(X_train), len(X_test)"
      ]
    },
    {
      "cell_type": "markdown",
      "metadata": {
        "id": "Rz2cIdECsLH5"
      },
      "source": [
        "## Visualizing the data\n",
        "\n",
        "Now we've got our training and test data, it's a good idea to visualize it.\n",
        "\n",
        "Let's plot it with some nice colours to differentiate what's what."
      ]
    },
    {
      "cell_type": "code",
      "execution_count": 19,
      "metadata": {
        "colab": {
          "base_uri": "https://localhost:8080/",
          "height": 428
        },
        "id": "os30CXBHsOAH",
        "outputId": "94949999-9146-45c1-f721-d92315ba4cda"
      },
      "outputs": [
        {
          "data": {
            "image/png": "[encoded data removed]",
            "text/plain": [
              "<Figure size 720x504 with 1 Axes>"
            ]
          },
          "metadata": {
            "needs_background": "light"
          },
          "output_type": "display_data"
        }
      ],
      "source": [
        "plt.figure(figsize=(10, 7))\n",
        "# Plot training data in blue\n",
        "plt.scatter(X_train, y_train, c='b', label='Training data')\n",
        "# Plot test data in green\n",
        "plt.scatter(X_test, y_test, c='g', label='Testing data')\n",
        "# Show the legend\n",
        "plt.legend();"
      ]
    },
    {
      "cell_type": "markdown",
      "metadata": {
        "id": "cxRcHZFgtS_B"
      },
      "source": [
        "Beautiful! Any time you can visualize your data, your model, your anything, it's a good idea. \n",
        "\n",
        "With this graph in mind, what we'll be trying to do is build a model which learns the pattern in the blue dots (`X_train`) to draw the green dots (`X_test`).\n",
        "\n",
        "Time to build a model. We'll make the exact same one from before (the one we trained for longer)."
      ]
    },
    {
      "cell_type": "code",
      "execution_count": 20,
      "metadata": {
        "id": "4qpe0eSStSm-"
      },
      "outputs": [],
      "source": [
        "# Set random seed\n",
        "tf.random.set_seed(42)\n",
        "\n",
        "# Create a model (same as above)\n",
        "model = tf.keras.Sequential([\n",
        "  tf.keras.layers.Dense(1)\n",
        "])\n",
        "\n",
        "# Compile model (same as above)\n",
        "model.compile(loss=tf.keras.losses.mae,\n",
        "              optimizer=tf.keras.optimizers.SGD(),\n",
        "              metrics=[\"mae\"])\n",
        "\n",
        "# Fit model (same as above)\n",
        "#model.fit(X_train, y_train, epochs=100) # commented out on purpose (not fitting it just yet)"
      ]
    },
    {
      "cell_type": "markdown",
      "metadata": {
        "id": "hc2RHCCfqlAc"
      },
      "source": [
        "## Visualizing the model\n",
        "\n",
        "After you've built a model, you might want to take a look at it (especially if you haven't built many before).\n",
        "\n",
        "You can take a look at the layers and shapes of your model by calling [`summary()`](https://www.tensorflow.org/api_docs/python/tf/keras/Model#summary) on it.\n",
        "\n",
        "> 🔑 **Note:** Visualizing a model is particularly helpful when you run into input and output shape mismatches."
      ]
    },
    {
      "cell_type": "code",
      "execution_count": 21,
      "metadata": {
        "colab": {
          "base_uri": "https://localhost:8080/",
          "height": 414
        },
        "id": "OlgJj0cFwChH",
        "outputId": "af3d8f0f-67ed-4b30-dc32-6083224ff847"
      },
      "outputs": [
        {
          "ename": "ValueError",
          "evalue": "This model has not yet been built. Build the model first by calling `build()` or calling `fit()` with some data, or specify an `input_shape` argument in the first layer(s) for automatic build.",
          "output_type": "error",
          "traceback": [
            "\u001b[0;31m---------------------------------------------------------------------------\u001b[0m",
            "\u001b[0;31mValueError\u001b[0m                                Traceback (most recent call last)",
            "\u001b[0;32m/tmp/ipykernel_10753/2120490204.py\u001b[0m in \u001b[0;36m<module>\u001b[0;34m\u001b[0m\n\u001b[1;32m      1\u001b[0m \u001b[0;31m# Doesn't work (model not fit/built)\u001b[0m\u001b[0;34m\u001b[0m\u001b[0;34m\u001b[0m\u001b[0;34m\u001b[0m\u001b[0m\n\u001b[0;32m----> 2\u001b[0;31m \u001b[0mmodel\u001b[0m\u001b[0;34m.\u001b[0m\u001b[0msummary\u001b[0m\u001b[0;34m(\u001b[0m\u001b[0;34m)\u001b[0m\u001b[0;34m\u001b[0m\u001b[0;34m\u001b[0m\u001b[0m\n\u001b[0m",
            "\u001b[0;32m~/.local/lib/python3.8/site-packages/tensorflow/python/keras/engine/training.py\u001b[0m in \u001b[0;36msummary\u001b[0;34m(self, line_length, positions, print_fn)\u001b[0m\n\u001b[1;32m   2475\u001b[0m     \"\"\"\n\u001b[1;32m   2476\u001b[0m     \u001b[0;32mif\u001b[0m \u001b[0;32mnot\u001b[0m \u001b[0mself\u001b[0m\u001b[0;34m.\u001b[0m\u001b[0mbuilt\u001b[0m\u001b[0;34m:\u001b[0m\u001b[0;34m\u001b[0m\u001b[0;34m\u001b[0m\u001b[0m\n\u001b[0;32m-> 2477\u001b[0;31m       raise ValueError('This model has not yet been built. '\n\u001b[0m\u001b[1;32m   2478\u001b[0m                        \u001b[0;34m'Build the model first by calling `build()` or calling '\u001b[0m\u001b[0;34m\u001b[0m\u001b[0;34m\u001b[0m\u001b[0m\n\u001b[1;32m   2479\u001b[0m                        \u001b[0;34m'`fit()` with some data, or specify '\u001b[0m\u001b[0;34m\u001b[0m\u001b[0;34m\u001b[0m\u001b[0m\n",
            "\u001b[0;31mValueError\u001b[0m: This model has not yet been built. Build the model first by calling `build()` or calling `fit()` with some data, or specify an `input_shape` argument in the first layer(s) for automatic build."
          ]
        }
      ],
      "source": [
        "# Doesn't work (model not fit/built)\n",
        "model.summary()"
      ]
    },
    {
      "cell_type": "markdown",
      "metadata": {
        "id": "SJj6KLe8xsyF"
      },
      "source": [
        "Ahh, the cell above errors because we haven't fit our built our model.\n",
        "\n",
        "We also haven't told it what input shape it should be expecting.\n",
        "\n",
        "Remember above, how we discussed the input shape was just one number?\n",
        "\n",
        "We can let our model know the input shape of our data using the `input_shape` parameter to the first layer (usually if `input_shape` isn't defined, Keras tries to figure it out automatically)."
      ]
    },
    {
      "cell_type": "code",
      "execution_count": null,
      "metadata": {
        "id": "zMXKFtFBuWgJ"
      },
      "outputs": [],
      "source": [
        "# Set random seed\n",
        "tf.random.set_seed(42)\n",
        "\n",
        "# Create a model (same as above)\n",
        "model = tf.keras.Sequential([\n",
        "  tf.keras.layers.Dense(1, input_shape=[1]) # define the input_shape to our model\n",
        "])\n",
        "\n",
        "# Compile model (same as above)\n",
        "model.compile(loss=tf.keras.losses.mae,\n",
        "              optimizer=tf.keras.optimizers.SGD(),\n",
        "              metrics=[\"mae\"])"
      ]
    },
    {
      "cell_type": "code",
      "execution_count": null,
      "metadata": {
        "colab": {
          "base_uri": "https://localhost:8080/"
        },
        "id": "24Q325x2yCoi",
        "outputId": "004adec4-1f35-443a-fd9a-2dab44166849"
      },
      "outputs": [
        {
          "name": "stdout",
          "output_type": "stream",
          "text": [
            "Model: \"sequential_11\"\n",
            "_________________________________________________________________\n",
            "Layer (type)                 Output Shape              Param #   \n",
            "=================================================================\n",
            "dense_28 (Dense)             (None, 1)                 2         \n",
            "=================================================================\n",
            "Total params: 2\n",
            "Trainable params: 2\n",
            "Non-trainable params: 0\n",
            "_________________________________________________________________\n"
          ]
        }
      ],
      "source": [
        "# This will work after specifying the input shape\n",
        "model.summary()"
      ]
    },
    {
      "cell_type": "markdown",
      "metadata": {
        "id": "jdurWKlryl6b"
      },
      "source": [
        "Calling `summary()` on our model shows us the layers it contains, the output shape and the number of parameters.\n",
        "* **Total params** - total number of parameters in the model.\n",
        "* **Trainable parameters** - these are the parameters (patterns) the model can update as it trains.\n",
        "* **Non-trainable parameters** - these parameters aren't updated during training (this is typical when you bring in the already learned patterns from other models during transfer learning).\n",
        "\n",
        "> 📖 **Resource:** For a more in-depth overview of the trainable parameters within a layer, check out [MIT's introduction to deep learning video](https://youtu.be/njKP3FqW3Sk).\n",
        "\n",
        "> 🛠 **Exercise:** Try playing around with the number of hidden units in the `Dense` layer (e.g. `Dense(2)`, `Dense(3)`). How does this change the Total/Trainable params? Investigate what's causing the change.\n",
        "\n",
        "For now, all you need to think about these parameters is that their learnable patterns in the data.\n",
        "\n",
        "Let's fit our model to the training data."
      ]
    },
    {
      "cell_type": "code",
      "execution_count": null,
      "metadata": {
        "colab": {
          "base_uri": "https://localhost:8080/"
        },
        "id": "-Kywg4q9u051",
        "outputId": "4189a7c7-d929-4a1f-cda2-ab29be6843e4"
      },
      "outputs": [
        {
          "data": {
            "text/plain": [
              "<tensorflow.python.keras.callbacks.History at 0x7f92d199b220>"
            ]
          },
          "execution_count": 84,
          "metadata": {},
          "output_type": "execute_result"
        }
      ],
      "source": [
        "# Fit the model to the training data\n",
        "model.fit(X_train, y_train, epochs=100, verbose=0) # verbose controls how much gets output"
      ]
    },
    {
      "cell_type": "code",
      "execution_count": null,
      "metadata": {
        "colab": {
          "base_uri": "https://localhost:8080/"
        },
        "id": "-jWuOwj961ri",
        "outputId": "72a950ec-fb60-400c-a711-138ea93b041a"
      },
      "outputs": [
        {
          "name": "stdout",
          "output_type": "stream",
          "text": [
            "Model: \"sequential_11\"\n",
            "_________________________________________________________________\n",
            "Layer (type)                 Output Shape              Param #   \n",
            "=================================================================\n",
            "dense_28 (Dense)             (None, 1)                 2         \n",
            "=================================================================\n",
            "Total params: 2\n",
            "Trainable params: 2\n",
            "Non-trainable params: 0\n",
            "_________________________________________________________________\n"
          ]
        }
      ],
      "source": [
        "# Check the model summary\n",
        "model.summary()"
      ]
    },
    {
      "cell_type": "markdown",
      "metadata": {
        "id": "RrrkHEkMYh5A"
      },
      "source": [
        "Alongside summary, you can also view a 2D plot of the model using [`plot_model()`](https://www.tensorflow.org/api_docs/python/tf/keras/utils/plot_model)."
      ]
    },
    {
      "cell_type": "code",
      "execution_count": null,
      "metadata": {
        "colab": {
          "base_uri": "https://localhost:8080/",
          "height": 201
        },
        "id": "liIg5WqDfdK4",
        "outputId": "3d79c635-0cf8-4617-8a91-c79293c69933"
      },
      "outputs": [
        {
          "name": "stdout",
          "output_type": "stream",
          "text": [
            "('You must install pydot (`pip install pydot`) and install graphviz (see instructions at https://graphviz.gitlab.io/download/) ', 'for plot_model/model_to_dot to work.')\n"
          ]
        }
      ],
      "source": [
        "from tensorflow.keras.utils import plot_model\n",
        "\n",
        "plot_model(model, show_shapes=True)"
      ]
    },
    {
      "cell_type": "markdown",
      "metadata": {
        "id": "ygw7V8OVYxQS"
      },
      "source": [
        "In our case, the model we used only has an input and an output but visualizing more complicated models can be very helpful for debugging."
      ]
    },
    {
      "cell_type": "markdown",
      "metadata": {
        "id": "gebj2eptqwg8"
      },
      "source": [
        "## Visualizing the predictions\n",
        "\n",
        "Now we've got a trained model, let's visualize some predictions.\n",
        "\n",
        "To visualize predictions, it's always a good idea to plot them against the ground truth labels.\n",
        "\n",
        "Often you'll see this in the form of `y_test` vs. `y_pred` (ground truth vs. predictions).\n",
        "\n",
        "First, we'll make some predictions on the test data (`X_test`), remember the model has never seen the test data."
      ]
    },
    {
      "cell_type": "code",
      "execution_count": null,
      "metadata": {
        "id": "RRzj7LJMYftb"
      },
      "outputs": [
        {
          "name": "stdout",
          "output_type": "stream",
          "text": [
            "WARNING:tensorflow:5 out of the last 5 calls to <function Model.make_predict_function.<locals>.predict_function at 0x7f92d1a4c670> triggered tf.function retracing. Tracing is expensive and the excessive number of tracings could be due to (1) creating @tf.function repeatedly in a loop, (2) passing tensors with different shapes, (3) passing Python objects instead of tensors. For (1), please define your @tf.function outside of the loop. For (2), @tf.function has experimental_relax_shapes=True option that relaxes argument shapes that can avoid unnecessary retracing. For (3), please refer to https://www.tensorflow.org/guide/function#controlling_retracing and https://www.tensorflow.org/api_docs/python/tf/function for  more details.\n"
          ]
        }
      ],
      "source": [
        "# Make predictions\n",
        "y_preds = model.predict(X_test)"
      ]
    },
    {
      "cell_type": "code",
      "execution_count": null,
      "metadata": {
        "colab": {
          "base_uri": "https://localhost:8080/"
        },
        "id": "_hKpW-KOZiAW",
        "outputId": "2d625913-c5ef-4f0d-b1d5-6bf60fdb3460"
      },
      "outputs": [
        {
          "data": {
            "text/plain": [
              "array([[53.57109 ],\n",
              "       [57.05633 ],\n",
              "       [60.541573],\n",
              "       [64.02681 ],\n",
              "       [67.512054],\n",
              "       [70.99729 ],\n",
              "       [74.48254 ],\n",
              "       [77.96777 ],\n",
              "       [81.45301 ],\n",
              "       [84.938255]], dtype=float32)"
            ]
          },
          "execution_count": 88,
          "metadata": {},
          "output_type": "execute_result"
        }
      ],
      "source": [
        "# View the predictions\n",
        "y_preds"
      ]
    },
    {
      "cell_type": "markdown",
      "metadata": {
        "id": "aPRaFncaZnT-"
      },
      "source": [
        "Okay, we get a list of numbers but how do these compare to the ground truth labels?\n",
        "\n",
        "Let's build a plotting function to find out.\n",
        "\n",
        "> 🔑 **Note:** If you think you're going to be visualizing something a lot, it's a good idea to functionize it so you can use it later."
      ]
    },
    {
      "cell_type": "code",
      "execution_count": null,
      "metadata": {
        "id": "56euC69rZvNJ"
      },
      "outputs": [],
      "source": [
        "def plot_predictions(train_data=X_train, \n",
        "                     train_labels=y_train, \n",
        "                     test_data=X_test, \n",
        "                     test_labels=y_test, \n",
        "                     predictions=y_preds):\n",
        "  \"\"\"\n",
        "  Plots training data, test data and compares predictions.\n",
        "  \"\"\"\n",
        "  plt.figure(figsize=(10, 7))\n",
        "  # Plot training data in blue\n",
        "  plt.scatter(train_data, train_labels, c=\"b\", label=\"Training data\")\n",
        "  # Plot test data in green\n",
        "  plt.scatter(test_data, test_labels, c=\"g\", label=\"Testing data\")\n",
        "  # Plot the predictions in red (predictions were made on the test data)\n",
        "  plt.scatter(test_data, predictions, c=\"r\", label=\"Predictions\")\n",
        "  # Show the legend\n",
        "  plt.legend();"
      ]
    },
    {
      "cell_type": "code",
      "execution_count": null,
      "metadata": {
        "colab": {
          "base_uri": "https://localhost:8080/",
          "height": 428
        },
        "id": "Fug5_B6Ab7Ah",
        "outputId": "4d672d63-80b7-420a-bcc0-7e9d5b901c7e"
      },
      "outputs": [
        {
          "data": {
            "image/png": "[encoded data removed]",
            "text/plain": [
              "<Figure size 720x504 with 1 Axes>"
            ]
          },
          "metadata": {
            "needs_background": "light"
          },
          "output_type": "display_data"
        }
      ],
      "source": [
        "plot_predictions(train_data=X_train,\n",
        "                 train_labels=y_train,\n",
        "                 test_data=X_test,\n",
        "                 test_labels=y_test,\n",
        "                 predictions=y_preds)"
      ]
    },
    {
      "cell_type": "markdown",
      "metadata": {
        "id": "H63NPcgPcwZV"
      },
      "source": [
        "From the plot we can see our predictions aren't totally outlandish but they definitely aren't anything special either."
      ]
    },
    {
      "cell_type": "markdown",
      "metadata": {
        "id": "orAfIWOrgRDA"
      },
      "source": [
        "## Evaluating predictions\n",
        "\n",
        "Alongisde visualizations, evaulation metrics are your alternative best option for evaluating your model.\n",
        "\n",
        "Depending on the problem you're working on, different models have different evaluation metrics. \n",
        "\n",
        "Two of the main metrics used for regression problems are:\n",
        "* **Mean absolute error (MAE)** - the mean difference between each of the predictions.\n",
        "* **Mean squared error (MSE)** - the squared mean difference between of the predictions (use if larger errors are more detrimental than smaller errors).\n",
        "\n",
        "The lower each of these values, the better.\n",
        "\n",
        "You can also use [`model.evaluate()`](https://www.tensorflow.org/api_docs/python/tf/keras/Model#evaluate) which will return the loss of the model as well as any metrics setup during the compile step."
      ]
    },
    {
      "cell_type": "code",
      "execution_count": null,
      "metadata": {
        "colab": {
          "base_uri": "https://localhost:8080/"
        },
        "id": "DPgTdF3ddxiY",
        "outputId": "be305e32-46c6-46b7-ec56-868d4ef17a6b"
      },
      "outputs": [
        {
          "name": "stdout",
          "output_type": "stream",
          "text": [
            "1/1 [==============================] - 0s 76ms/step - loss: 18.7453 - mae: 18.7453\n"
          ]
        },
        {
          "data": {
            "text/plain": [
              "[18.74532699584961, 18.74532699584961]"
            ]
          },
          "execution_count": 91,
          "metadata": {},
          "output_type": "execute_result"
        }
      ],
      "source": [
        "# Evaluate the model on the test set\n",
        "model.evaluate(X_test, y_test)"
      ]
    },
    {
      "cell_type": "markdown",
      "metadata": {
        "id": "DAXIRyVzegFd"
      },
      "source": [
        "In our case, since we used MAE for the loss function as well as MAE for the metrics, `model.evaulate()` returns them both.\n",
        "\n",
        "TensorFlow also has built in functions for MSE and MAE.\n",
        "\n",
        "For many evaluation functions, the premise is the same: compare predictions to the ground truth labels."
      ]
    },
    {
      "cell_type": "code",
      "execution_count": null,
      "metadata": {
        "colab": {
          "base_uri": "https://localhost:8080/"
        },
        "id": "gqoMQ0dJeD2S",
        "outputId": "d18078fe-6a35-4465-d77d-68151a2134c5"
      },
      "outputs": [
        {
          "data": {
            "text/plain": [
              "<tf.Tensor: shape=(10,), dtype=float32, numpy=\n",
              "array([34.42891 , 30.943668, 27.45843 , 23.97319 , 20.487946, 17.202168,\n",
              "       14.510478, 12.419336, 11.018796, 10.212349], dtype=float32)>"
            ]
          },
          "execution_count": 92,
          "metadata": {},
          "output_type": "execute_result"
        }
      ],
      "source": [
        "# Calculate the mean absolute error\n",
        "mae = tf.metrics.mean_absolute_error(y_true=y_test, \n",
        "                                     y_pred=y_preds)\n",
        "mae"
      ]
    },
    {
      "cell_type": "markdown",
      "metadata": {
        "id": "7pYp3XNYfkyC"
      },
      "source": [
        "Huh? That's strange, MAE should be a single output.\n",
        "\n",
        "Instead, we get 10 values.\n",
        "\n",
        "This is because our `y_test` and `y_preds` tensors are different shapes."
      ]
    },
    {
      "cell_type": "code",
      "execution_count": null,
      "metadata": {
        "colab": {
          "base_uri": "https://localhost:8080/"
        },
        "id": "zeUHwOc2gIV4",
        "outputId": "2c83e0f4-4ba0-4f8c-ba44-4a9effe82743"
      },
      "outputs": [
        {
          "data": {
            "text/plain": [
              "array([ 70,  74,  78,  82,  86,  90,  94,  98, 102, 106])"
            ]
          },
          "execution_count": 93,
          "metadata": {},
          "output_type": "execute_result"
        }
      ],
      "source": [
        "# Check the test label tensor values\n",
        "y_test"
      ]
    },
    {
      "cell_type": "code",
      "execution_count": null,
      "metadata": {
        "colab": {
          "base_uri": "https://localhost:8080/"
        },
        "id": "3aJwlTxugPyc",
        "outputId": "8db8cd49-d1b8-49b4-b48c-ac56e0ec8a5a"
      },
      "outputs": [
        {
          "data": {
            "text/plain": [
              "array([[53.57109 ],\n",
              "       [57.05633 ],\n",
              "       [60.541573],\n",
              "       [64.02681 ],\n",
              "       [67.512054],\n",
              "       [70.99729 ],\n",
              "       [74.48254 ],\n",
              "       [77.96777 ],\n",
              "       [81.45301 ],\n",
              "       [84.938255]], dtype=float32)"
            ]
          },
          "execution_count": 94,
          "metadata": {},
          "output_type": "execute_result"
        }
      ],
      "source": [
        "# Check the predictions tensor values (notice the extra square brackets)\n",
        "y_preds"
      ]
    },
    {
      "cell_type": "code",
      "execution_count": null,
      "metadata": {
        "colab": {
          "base_uri": "https://localhost:8080/"
        },
        "id": "xolZ-lmge_ES",
        "outputId": "c4658cbf-5176-4499-8fae-1c2f3baee7c5"
      },
      "outputs": [
        {
          "data": {
            "text/plain": [
              "((10,), (10, 1))"
            ]
          },
          "execution_count": 95,
          "metadata": {},
          "output_type": "execute_result"
        }
      ],
      "source": [
        "# Check the tensor shapes\n",
        "y_test.shape, y_preds.shape"
      ]
    },
    {
      "cell_type": "markdown",
      "metadata": {
        "id": "eW1qleu5gHyZ"
      },
      "source": [
        "Remember how we discussed dealing with different input and output shapes is one the most common issues you'll come across, this is one of those times.\n",
        "\n",
        "But not to worry.\n",
        "\n",
        "We can fix it using [`squeeze()`](https://www.tensorflow.org/api_docs/python/tf/squeeze), it'll remove the the `1` dimension from our `y_preds` tensor, making it the same shape as `y_test`.\n",
        "\n",
        "> 🔑 **Note:** If you're comparing two tensors, it's important to make sure they're the right shape(s) (you won't always have to manipulate the shapes, but always be on the look out, *many* errors are the result of mismatched tensors, especially mismatched input and output shapes)."
      ]
    },
    {
      "cell_type": "code",
      "execution_count": null,
      "metadata": {
        "colab": {
          "base_uri": "https://localhost:8080/"
        },
        "id": "tVtMyw70g4aF",
        "outputId": "29dc2bac-aaba-4330-a07e-0806a312ee57"
      },
      "outputs": [
        {
          "data": {
            "text/plain": [
              "(10, 1)"
            ]
          },
          "execution_count": 96,
          "metadata": {},
          "output_type": "execute_result"
        }
      ],
      "source": [
        "# Shape before squeeze()\n",
        "y_preds.shape"
      ]
    },
    {
      "cell_type": "code",
      "execution_count": null,
      "metadata": {
        "colab": {
          "base_uri": "https://localhost:8080/"
        },
        "id": "qnYaBnCng-Nq",
        "outputId": "04e26605-2304-4596-ada3-01a2199f2575"
      },
      "outputs": [
        {
          "data": {
            "text/plain": [
              "(10,)"
            ]
          },
          "execution_count": 97,
          "metadata": {},
          "output_type": "execute_result"
        }
      ],
      "source": [
        "# Shape after squeeze()\n",
        "y_preds.squeeze().shape"
      ]
    },
    {
      "cell_type": "code",
      "execution_count": null,
      "metadata": {
        "colab": {
          "base_uri": "https://localhost:8080/"
        },
        "id": "HxvVeD64hEX8",
        "outputId": "25168925-e44f-4bbc-f6d3-c90495f7898a"
      },
      "outputs": [
        {
          "data": {
            "text/plain": [
              "(array([ 70,  74,  78,  82,  86,  90,  94,  98, 102, 106]),\n",
              " array([53.57109 , 57.05633 , 60.541573, 64.02681 , 67.512054, 70.99729 ,\n",
              "        74.48254 , 77.96777 , 81.45301 , 84.938255], dtype=float32))"
            ]
          },
          "execution_count": 98,
          "metadata": {},
          "output_type": "execute_result"
        }
      ],
      "source": [
        "# What do they look like?\n",
        "y_test, y_preds.squeeze()"
      ]
    },
    {
      "cell_type": "markdown",
      "metadata": {
        "id": "mfUCIeHyhLk7"
      },
      "source": [
        "Okay, now we know how to make our `y_test` and `y_preds` tenors the same shape, let's use our evaluation metrics."
      ]
    },
    {
      "cell_type": "code",
      "execution_count": null,
      "metadata": {
        "colab": {
          "base_uri": "https://localhost:8080/"
        },
        "id": "TvjY6GIJvXBO",
        "outputId": "00569a5a-3fea-4f28-d433-ca625e0b3c48"
      },
      "outputs": [
        {
          "data": {
            "text/plain": [
              "<tf.Tensor: shape=(), dtype=float32, numpy=18.745327>"
            ]
          },
          "execution_count": 99,
          "metadata": {},
          "output_type": "execute_result"
        }
      ],
      "source": [
        "# Calcuate the MAE\n",
        "mae = tf.metrics.mean_absolute_error(y_true=y_test, \n",
        "                                     y_pred=y_preds.squeeze()) # use squeeze() to make same shape\n",
        "mae"
      ]
    },
    {
      "cell_type": "code",
      "execution_count": null,
      "metadata": {
        "colab": {
          "base_uri": "https://localhost:8080/"
        },
        "id": "EwA9nGJzvbMT",
        "outputId": "562af788-a539-442c-86a5-d5753c252705"
      },
      "outputs": [
        {
          "data": {
            "text/plain": [
              "<tf.Tensor: shape=(), dtype=float32, numpy=353.57336>"
            ]
          },
          "execution_count": 100,
          "metadata": {},
          "output_type": "execute_result"
        }
      ],
      "source": [
        "# Calculate the MSE\n",
        "mse = tf.metrics.mean_squared_error(y_true=y_test,\n",
        "                                    y_pred=y_preds.squeeze())\n",
        "mse"
      ]
    },
    {
      "cell_type": "markdown",
      "metadata": {
        "id": "X06oo_CIjPbL"
      },
      "source": [
        "We can also calculate the MAE using pure TensorFlow functions."
      ]
    },
    {
      "cell_type": "code",
      "execution_count": null,
      "metadata": {
        "colab": {
          "base_uri": "https://localhost:8080/"
        },
        "id": "YxiD6-QBYSzd",
        "outputId": "02f83e09-754b-4244-ce49-bb896dbcf5b1"
      },
      "outputs": [
        {
          "data": {
            "text/plain": [
              "<tf.Tensor: shape=(), dtype=float64, numpy=18.745327377319335>"
            ]
          },
          "execution_count": 101,
          "metadata": {},
          "output_type": "execute_result"
        }
      ],
      "source": [
        "# Returns the same as tf.metrics.mean_absolute_error()\n",
        "tf.reduce_mean(tf.abs(y_test-y_preds.squeeze()))"
      ]
    },
    {
      "cell_type": "markdown",
      "metadata": {
        "id": "rmEho4lYofOa"
      },
      "source": [
        "Again, it's a good idea to functionize anything you think you might use over again (or find yourself using over and over again).\n",
        "\n",
        "Let's make functions for our evaluation metrics."
      ]
    },
    {
      "cell_type": "code",
      "execution_count": null,
      "metadata": {
        "id": "bs1Z2jgNol5f"
      },
      "outputs": [],
      "source": [
        "def mae(y_test, y_pred):\n",
        "  \"\"\"\n",
        "  Calculuates mean absolute error between y_test and y_preds.\n",
        "  \"\"\"\n",
        "  return tf.metrics.mean_absolute_error(y_test,\n",
        "                                        y_pred)\n",
        "  \n",
        "def mse(y_test, y_pred):\n",
        "  \"\"\"\n",
        "  Calculates mean squared error between y_test and y_preds.\n",
        "  \"\"\"\n",
        "  return tf.metrics.mean_squared_error(y_test,\n",
        "                                       y_pred)"
      ]
    },
    {
      "cell_type": "markdown",
      "metadata": {
        "id": "zub5zK7bcl40"
      },
      "source": [
        "## Running experiments to improve a model\n",
        "\n",
        "After seeing the evaluation metrics and the predictions your model makes, it's likely you'll want to improve it.\n",
        "\n",
        "Again, there are many different ways you can do this, but 3 of the main ones are:\n",
        "1. **Get more data** - get more examples for your model to train on (more opportunities to learn patterns).\n",
        "2. **Make your model larger (use a more complex model)** - this might come in the form of more layers or more hidden units in each layer.\n",
        "3. **Train for longer** - give your model more of a chance to find the patterns in the data.\n",
        "\n",
        "Since we created our dataset, we could easily make more data but this isn't always the case when you're working with real-world datasets.\n",
        "\n",
        "So let's take a look at how we can improve our model using 2 and 3.\n",
        "\n",
        "To do so, we'll build 3 models and compare their results:\n",
        "1. `model_1` - same as original model, 1 layer, trained for 100 epochs.\n",
        "2. `model_2` - 2 layers, trained for 100 epochs.\n",
        "3. `model_3` - 2 layers, trained for 500 epochs.\n",
        "\n",
        "**Build `model_1`**"
      ]
    },
    {
      "cell_type": "code",
      "execution_count": null,
      "metadata": {
        "colab": {
          "base_uri": "https://localhost:8080/"
        },
        "id": "StVHIIM9csyS",
        "outputId": "43adbb02-32c7-45a0-d8e0-f40a26bca4f9"
      },
      "outputs": [
        {
          "name": "stdout",
          "output_type": "stream",
          "text": [
            "Epoch 1/100\n",
            "2/2 [==============================] - 0s 2ms/step - loss: 15.9024 - mae: 15.9024\n",
            "Epoch 2/100\n",
            "2/2 [==============================] - 0s 1ms/step - loss: 11.2837 - mae: 11.2837\n",
            "Epoch 3/100\n",
            "2/2 [==============================] - 0s 2ms/step - loss: 11.1075 - mae: 11.1075\n",
            "Epoch 4/100\n",
            "2/2 [==============================] - 0s 1ms/step - loss: 9.2990 - mae: 9.2990\n",
            "Epoch 5/100\n",
            "2/2 [==============================] - 0s 5ms/step - loss: 10.1677 - mae: 10.1677\n",
            "Epoch 6/100\n",
            "2/2 [==============================] - 0s 8ms/step - loss: 9.4303 - mae: 9.4303\n",
            "Epoch 7/100\n",
            "2/2 [==============================] - 0s 5ms/step - loss: 8.5704 - mae: 8.5704\n",
            "Epoch 8/100\n",
            "2/2 [==============================] - 0s 7ms/step - loss: 9.0442 - mae: 9.0442\n",
            "Epoch 9/100\n",
            "2/2 [==============================] - 0s 2ms/step - loss: 18.7517 - mae: 18.7517\n",
            "Epoch 10/100\n",
            "2/2 [==============================] - 0s 2ms/step - loss: 10.1142 - mae: 10.1142\n",
            "Epoch 11/100\n",
            "2/2 [==============================] - 0s 1ms/step - loss: 8.3980 - mae: 8.3980\n",
            "Epoch 12/100\n",
            "2/2 [==============================] - 0s 2ms/step - loss: 10.6639 - mae: 10.6639\n",
            "Epoch 13/100\n",
            "2/2 [==============================] - 0s 1ms/step - loss: 9.7977 - mae: 9.7977\n",
            "Epoch 14/100\n",
            "2/2 [==============================] - 0s 1ms/step - loss: 16.0103 - mae: 16.0103\n",
            "Epoch 15/100\n",
            "2/2 [==============================] - 0s 1ms/step - loss: 11.4068 - mae: 11.4068\n",
            "Epoch 16/100\n",
            "2/2 [==============================] - 0s 1ms/step - loss: 8.5393 - mae: 8.5393\n",
            "Epoch 17/100\n",
            "2/2 [==============================] - 0s 1ms/step - loss: 13.6348 - mae: 13.6348\n",
            "Epoch 18/100\n",
            "2/2 [==============================] - 0s 1ms/step - loss: 11.4629 - mae: 11.4629\n",
            "Epoch 19/100\n",
            "2/2 [==============================] - 0s 1ms/step - loss: 17.9148 - mae: 17.9148\n",
            "Epoch 20/100\n",
            "2/2 [==============================] - 0s 1ms/step - loss: 15.0494 - mae: 15.0494\n",
            "Epoch 21/100\n",
            "2/2 [==============================] - 0s 1ms/step - loss: 11.0216 - mae: 11.0216\n",
            "Epoch 22/100\n",
            "2/2 [==============================] - 0s 1ms/step - loss: 8.1558 - mae: 8.1558\n",
            "Epoch 23/100\n",
            "2/2 [==============================] - 0s 880us/step - loss: 9.5138 - mae: 9.5138\n",
            "Epoch 24/100\n",
            "2/2 [==============================] - 0s 1ms/step - loss: 7.6617 - mae: 7.6617\n",
            "Epoch 25/100\n",
            "2/2 [==============================] - 0s 1ms/step - loss: 13.1859 - mae: 13.1859\n",
            "Epoch 26/100\n",
            "2/2 [==============================] - 0s 1ms/step - loss: 16.4211 - mae: 16.4211\n",
            "Epoch 27/100\n",
            "2/2 [==============================] - 0s 2ms/step - loss: 13.1660 - mae: 13.1660\n",
            "Epoch 28/100\n",
            "2/2 [==============================] - 0s 1ms/step - loss: 14.2559 - mae: 14.2559\n",
            "Epoch 29/100\n",
            "2/2 [==============================] - 0s 1ms/step - loss: 10.0670 - mae: 10.0670\n",
            "Epoch 30/100\n",
            "2/2 [==============================] - 0s 1ms/step - loss: 16.3409 - mae: 16.3409\n",
            "Epoch 31/100\n",
            "2/2 [==============================] - 0s 3ms/step - loss: 23.6444 - mae: 23.6444\n",
            "Epoch 32/100\n",
            "2/2 [==============================] - 0s 1ms/step - loss: 7.6215 - mae: 7.6215\n",
            "Epoch 33/100\n",
            "2/2 [==============================] - 0s 1ms/step - loss: 9.3221 - mae: 9.3221\n",
            "Epoch 34/100\n",
            "2/2 [==============================] - 0s 1ms/step - loss: 13.7313 - mae: 13.7313\n",
            "Epoch 35/100\n",
            "2/2 [==============================] - 0s 2ms/step - loss: 11.1276 - mae: 11.1276\n",
            "Epoch 36/100\n",
            "2/2 [==============================] - 0s 1ms/step - loss: 13.3222 - mae: 13.3222\n",
            "Epoch 37/100\n",
            "2/2 [==============================] - 0s 1ms/step - loss: 9.4763 - mae: 9.4763\n",
            "Epoch 38/100\n",
            "2/2 [==============================] - 0s 979us/step - loss: 10.1381 - mae: 10.1381\n",
            "Epoch 39/100\n",
            "2/2 [==============================] - 0s 1ms/step - loss: 10.1793 - mae: 10.1793\n",
            "Epoch 40/100\n",
            "2/2 [==============================] - 0s 1ms/step - loss: 10.9137 - mae: 10.9137\n",
            "Epoch 41/100\n",
            "2/2 [==============================] - 0s 1ms/step - loss: 7.9063 - mae: 7.9063\n",
            "Epoch 42/100\n",
            "2/2 [==============================] - 0s 1ms/step - loss: 10.0914 - mae: 10.0914\n",
            "Epoch 43/100\n",
            "2/2 [==============================] - 0s 1ms/step - loss: 8.7006 - mae: 8.7006\n",
            "Epoch 44/100\n",
            "2/2 [==============================] - 0s 1ms/step - loss: 12.2046 - mae: 12.2046\n",
            "Epoch 45/100\n",
            "2/2 [==============================] - 0s 2ms/step - loss: 13.7970 - mae: 13.7970\n",
            "Epoch 46/100\n",
            "2/2 [==============================] - 0s 1ms/step - loss: 8.4687 - mae: 8.4687\n",
            "Epoch 47/100\n",
            "2/2 [==============================] - 0s 1ms/step - loss: 9.1330 - mae: 9.1330\n",
            "Epoch 48/100\n",
            "2/2 [==============================] - 0s 1ms/step - loss: 10.6190 - mae: 10.6190\n",
            "Epoch 49/100\n",
            "2/2 [==============================] - 0s 921us/step - loss: 7.7503 - mae: 7.7503\n",
            "Epoch 50/100\n",
            "2/2 [==============================] - 0s 1ms/step - loss: 9.5407 - mae: 9.5407\n",
            "Epoch 51/100\n",
            "2/2 [==============================] - 0s 1ms/step - loss: 9.1584 - mae: 9.1584\n",
            "Epoch 52/100\n",
            "2/2 [==============================] - 0s 1ms/step - loss: 16.3630 - mae: 16.3630\n",
            "Epoch 53/100\n",
            "2/2 [==============================] - 0s 1ms/step - loss: 14.1299 - mae: 14.1299\n",
            "Epoch 54/100\n",
            "2/2 [==============================] - 0s 883us/step - loss: 21.1247 - mae: 21.1247\n",
            "Epoch 55/100\n",
            "2/2 [==============================] - 0s 1ms/step - loss: 16.3961 - mae: 16.3961\n",
            "Epoch 56/100\n",
            "2/2 [==============================] - 0s 1ms/step - loss: 9.9806 - mae: 9.9806\n",
            "Epoch 57/100\n",
            "2/2 [==============================] - 0s 1ms/step - loss: 9.9606 - mae: 9.9606\n",
            "Epoch 58/100\n",
            "2/2 [==============================] - 0s 1ms/step - loss: 9.2209 - mae: 9.2209\n",
            "Epoch 59/100\n",
            "2/2 [==============================] - 0s 1ms/step - loss: 8.4239 - mae: 8.4239\n",
            "Epoch 60/100\n",
            "2/2 [==============================] - 0s 1ms/step - loss: 9.4869 - mae: 9.4869\n",
            "Epoch 61/100\n",
            "2/2 [==============================] - 0s 1ms/step - loss: 11.4354 - mae: 11.4354\n",
            "Epoch 62/100\n",
            "2/2 [==============================] - 0s 1ms/step - loss: 11.6887 - mae: 11.6887\n",
            "Epoch 63/100\n",
            "2/2 [==============================] - 0s 1ms/step - loss: 7.0838 - mae: 7.0838\n",
            "Epoch 64/100\n",
            "2/2 [==============================] - 0s 1ms/step - loss: 16.9675 - mae: 16.9675\n",
            "Epoch 65/100\n",
            "2/2 [==============================] - 0s 1ms/step - loss: 12.4599 - mae: 12.4599\n",
            "Epoch 66/100\n",
            "2/2 [==============================] - 0s 1ms/step - loss: 13.0184 - mae: 13.0184\n",
            "Epoch 67/100\n",
            "2/2 [==============================] - 0s 1ms/step - loss: 8.0600 - mae: 8.0600\n",
            "Epoch 68/100\n",
            "2/2 [==============================] - 0s 1ms/step - loss: 10.1888 - mae: 10.1888\n",
            "Epoch 69/100\n",
            "2/2 [==============================] - 0s 1ms/step - loss: 12.3633 - mae: 12.3633\n",
            "Epoch 70/100\n",
            "2/2 [==============================] - 0s 1ms/step - loss: 9.0516 - mae: 9.0516\n",
            "Epoch 71/100\n",
            "2/2 [==============================] - 0s 1ms/step - loss: 10.0378 - mae: 10.0378\n",
            "Epoch 72/100\n",
            "2/2 [==============================] - 0s 1ms/step - loss: 10.0516 - mae: 10.0516\n",
            "Epoch 73/100\n",
            "2/2 [==============================] - 0s 1ms/step - loss: 12.6151 - mae: 12.6151\n",
            "Epoch 74/100\n",
            "2/2 [==============================] - 0s 1ms/step - loss: 10.3819 - mae: 10.3819\n",
            "Epoch 75/100\n",
            "2/2 [==============================] - 0s 1ms/step - loss: 9.7229 - mae: 9.7229\n",
            "Epoch 76/100\n",
            "2/2 [==============================] - 0s 1ms/step - loss: 11.2252 - mae: 11.2252\n",
            "Epoch 77/100\n",
            "2/2 [==============================] - 0s 1ms/step - loss: 8.3642 - mae: 8.3642\n",
            "Epoch 78/100\n",
            "2/2 [==============================] - 0s 1ms/step - loss: 9.1274 - mae: 9.1274\n",
            "Epoch 79/100\n",
            "2/2 [==============================] - 0s 979us/step - loss: 19.5039 - mae: 19.5039\n",
            "Epoch 80/100\n",
            "2/2 [==============================] - 0s 3ms/step - loss: 14.8945 - mae: 14.8945\n",
            "Epoch 81/100\n",
            "2/2 [==============================] - 0s 1ms/step - loss: 9.0034 - mae: 9.0034\n",
            "Epoch 82/100\n",
            "2/2 [==============================] - 0s 1ms/step - loss: 13.0206 - mae: 13.0206\n",
            "Epoch 83/100\n",
            "2/2 [==============================] - 0s 1ms/step - loss: 7.9299 - mae: 7.9299\n",
            "Epoch 84/100\n",
            "2/2 [==============================] - 0s 1ms/step - loss: 7.6872 - mae: 7.6872\n",
            "Epoch 85/100\n",
            "2/2 [==============================] - 0s 1ms/step - loss: 10.0328 - mae: 10.0328\n",
            "Epoch 86/100\n",
            "2/2 [==============================] - 0s 941us/step - loss: 9.2433 - mae: 9.2433\n",
            "Epoch 87/100\n",
            "2/2 [==============================] - 0s 1ms/step - loss: 12.0209 - mae: 12.0209\n",
            "Epoch 88/100\n",
            "2/2 [==============================] - 0s 1ms/step - loss: 10.6389 - mae: 10.6389\n",
            "Epoch 89/100\n",
            "2/2 [==============================] - 0s 1ms/step - loss: 7.2667 - mae: 7.2667\n",
            "Epoch 90/100\n",
            "2/2 [==============================] - 0s 979us/step - loss: 12.7786 - mae: 12.7786\n",
            "Epoch 91/100\n",
            "2/2 [==============================] - 0s 1ms/step - loss: 7.3481 - mae: 7.3481\n",
            "Epoch 92/100\n",
            "2/2 [==============================] - 0s 1ms/step - loss: 7.7175 - mae: 7.7175\n",
            "Epoch 93/100\n",
            "2/2 [==============================] - 0s 949us/step - loss: 7.1263 - mae: 7.1263\n",
            "Epoch 94/100\n",
            "2/2 [==============================] - 0s 997us/step - loss: 12.6190 - mae: 12.6190\n",
            "Epoch 95/100\n",
            "2/2 [==============================] - 0s 1ms/step - loss: 10.0912 - mae: 10.0912\n",
            "Epoch 96/100\n",
            "2/2 [==============================] - 0s 924us/step - loss: 9.3558 - mae: 9.3558\n",
            "Epoch 97/100\n",
            "2/2 [==============================] - 0s 1ms/step - loss: 12.6834 - mae: 12.6834\n",
            "Epoch 98/100\n",
            "2/2 [==============================] - 0s 1ms/step - loss: 8.6762 - mae: 8.6762\n",
            "Epoch 99/100\n",
            "2/2 [==============================] - 0s 1ms/step - loss: 9.4693 - mae: 9.4693\n",
            "Epoch 100/100\n",
            "2/2 [==============================] - 0s 976us/step - loss: 8.7067 - mae: 8.7067\n"
          ]
        },
        {
          "data": {
            "text/plain": [
              "<tensorflow.python.keras.callbacks.History at 0x7f93a917beb0>"
            ]
          },
          "execution_count": 103,
          "metadata": {},
          "output_type": "execute_result"
        }
      ],
      "source": [
        "# Set random seed\n",
        "tf.random.set_seed(42)\n",
        "\n",
        "# Replicate original model\n",
        "model_1 = tf.keras.Sequential([\n",
        "  tf.keras.layers.Dense(1)\n",
        "])\n",
        "\n",
        "# Compile the model\n",
        "model_1.compile(loss=tf.keras.losses.mae,\n",
        "                optimizer=tf.keras.optimizers.SGD(),\n",
        "                metrics=['mae'])\n",
        "\n",
        "# Fit the model\n",
        "model_1.fit(X_train, y_train, epochs=100)"
      ]
    },
    {
      "cell_type": "code",
      "execution_count": null,
      "metadata": {
        "colab": {
          "base_uri": "https://localhost:8080/",
          "height": 428
        },
        "id": "A-Da56xspOrY",
        "outputId": "c3d54795-1607-474f-a2ca-065cd3eb8d5c"
      },
      "outputs": [
        {
          "name": "stdout",
          "output_type": "stream",
          "text": [
            "WARNING:tensorflow:6 out of the last 6 calls to <function Model.make_predict_function.<locals>.predict_function at 0x7f93a9168940> triggered tf.function retracing. Tracing is expensive and the excessive number of tracings could be due to (1) creating @tf.function repeatedly in a loop, (2) passing tensors with different shapes, (3) passing Python objects instead of tensors. For (1), please define your @tf.function outside of the loop. For (2), @tf.function has experimental_relax_shapes=True option that relaxes argument shapes that can avoid unnecessary retracing. For (3), please refer to https://www.tensorflow.org/guide/function#controlling_retracing and https://www.tensorflow.org/api_docs/python/tf/function for  more details.\n"
          ]
        },
        {
          "data": {
            "image/png": "[encoded data removed]",
            "text/plain": [
              "<Figure size 720x504 with 1 Axes>"
            ]
          },
          "metadata": {
            "needs_background": "light"
          },
          "output_type": "display_data"
        }
      ],
      "source": [
        "# Make and plot predictions for model_1\n",
        "y_preds_1 = model_1.predict(X_test)\n",
        "plot_predictions(predictions=y_preds_1)"
      ]
    },
    {
      "cell_type": "code",
      "execution_count": null,
      "metadata": {
        "colab": {
          "base_uri": "https://localhost:8080/"
        },
        "id": "EXxHBAtHoSh2",
        "outputId": "374608b9-155f-4252-c9ad-c32e0ac1306b"
      },
      "outputs": [
        {
          "data": {
            "text/plain": [
              "(18.745327, 353.57336)"
            ]
          },
          "execution_count": 105,
          "metadata": {},
          "output_type": "execute_result"
        }
      ],
      "source": [
        "# Calculate model_1 metrics\n",
        "mae_1 = mae(y_test, y_preds_1.squeeze()).numpy()\n",
        "mse_1 = mse(y_test, y_preds_1.squeeze()).numpy()\n",
        "mae_1, mse_1"
      ]
    },
    {
      "cell_type": "markdown",
      "metadata": {
        "id": "XXELOpdBrE9_"
      },
      "source": [
        "**Build `model_2`**\n",
        "\n",
        "This time we'll add an extra dense layer (so now our model will have 2 layers) whilst keeping everything else the same."
      ]
    },
    {
      "cell_type": "code",
      "execution_count": null,
      "metadata": {
        "colab": {
          "base_uri": "https://localhost:8080/"
        },
        "id": "05vcgEP3rEFi",
        "outputId": "efcfdc73-7e52-4f92-c9be-f0a9705bb8b4"
      },
      "outputs": [
        {
          "data": {
            "text/plain": [
              "<tensorflow.python.keras.callbacks.History at 0x7f92ab74f820>"
            ]
          },
          "execution_count": 106,
          "metadata": {},
          "output_type": "execute_result"
        }
      ],
      "source": [
        "# Set random seed\n",
        "tf.random.set_seed(42)\n",
        "\n",
        "# Replicate model_1 and add an extra layer\n",
        "model_2 = tf.keras.Sequential([\n",
        "  tf.keras.layers.Dense(1),\n",
        "  tf.keras.layers.Dense(1) # add a second layer\n",
        "])\n",
        "\n",
        "# Compile the model\n",
        "model_2.compile(loss=tf.keras.losses.mae,\n",
        "                optimizer=tf.keras.optimizers.SGD(),\n",
        "                metrics=['mae'])\n",
        "\n",
        "# Fit the model\n",
        "model_2.fit(X_train, y_train, epochs=100, verbose=0) # set verbose to 0 for less output"
      ]
    },
    {
      "cell_type": "code",
      "execution_count": null,
      "metadata": {
        "colab": {
          "base_uri": "https://localhost:8080/",
          "height": 465
        },
        "id": "9xCbDcoDraux",
        "outputId": "ab90da58-ae1e-4639-b210-9dfee04d8426"
      },
      "outputs": [
        {
          "data": {
            "image/png": "[encoded data removed]",
            "text/plain": [
              "<Figure size 720x504 with 1 Axes>"
            ]
          },
          "metadata": {
            "needs_background": "light"
          },
          "output_type": "display_data"
        }
      ],
      "source": [
        "# Make and plot predictions for model_2\n",
        "y_preds_2 = model_2.predict(X_test)\n",
        "plot_predictions(predictions=y_preds_2)"
      ]
    },
    {
      "cell_type": "markdown",
      "metadata": {
        "id": "GxMYu5Frri6o"
      },
      "source": [
        "Woah, that's looking better already! And all it took was an extra layer."
      ]
    },
    {
      "cell_type": "code",
      "execution_count": null,
      "metadata": {
        "colab": {
          "base_uri": "https://localhost:8080/"
        },
        "id": "9LnPuGaBrcrP",
        "outputId": "2d2f9761-fca9-4da2-a470-d2194d3edf35"
      },
      "outputs": [
        {
          "data": {
            "text/plain": [
              "(1.9097328, 5.45877)"
            ]
          },
          "execution_count": 108,
          "metadata": {},
          "output_type": "execute_result"
        }
      ],
      "source": [
        "# Calculate model_2 metrics\n",
        "mae_2 = mae(y_test, y_preds_2.squeeze()).numpy()\n",
        "mse_2 = mse(y_test, y_preds_2.squeeze()).numpy()\n",
        "mae_2, mse_2"
      ]
    },
    {
      "cell_type": "markdown",
      "metadata": {
        "id": "R8i9yfQGrwHx"
      },
      "source": [
        "**Build `model_3`**\n",
        "\n",
        "For our 3rd model, we'll keep everything the same as `model_2` except this time we'll train for longer (500 epochs instead of 100).\n",
        "\n",
        "This will give our model more of a chance to learn the patterns in the data."
      ]
    },
    {
      "cell_type": "code",
      "execution_count": null,
      "metadata": {
        "colab": {
          "base_uri": "https://localhost:8080/"
        },
        "id": "ABGwQFsbrvUS",
        "outputId": "8b839e0e-df92-4308-da5a-2e65984b99c6"
      },
      "outputs": [
        {
          "data": {
            "text/plain": [
              "<tensorflow.python.keras.callbacks.History at 0x7f93a8f30130>"
            ]
          },
          "execution_count": 109,
          "metadata": {},
          "output_type": "execute_result"
        }
      ],
      "source": [
        "# Set random seed\n",
        "tf.random.set_seed(42)\n",
        "\n",
        "# Replicate model_2\n",
        "model_3 = tf.keras.Sequential([\n",
        "  tf.keras.layers.Dense(1),\n",
        "  tf.keras.layers.Dense(1)\n",
        "])\n",
        "\n",
        "# Compile the model\n",
        "model_3.compile(loss=tf.keras.losses.mae,\n",
        "                optimizer=tf.keras.optimizers.SGD(),\n",
        "                metrics=['mae'])\n",
        "\n",
        "# Fit the model (this time for 500 epochs, not 100)\n",
        "model_3.fit(X_train, y_train, epochs=500, verbose=0) # set verbose to 0 for less output"
      ]
    },
    {
      "cell_type": "code",
      "execution_count": null,
      "metadata": {
        "colab": {
          "base_uri": "https://localhost:8080/",
          "height": 465
        },
        "id": "jEz4bVmasbFk",
        "outputId": "37b79c36-ae29-494a-a90a-95300857ad7a"
      },
      "outputs": [
        {
          "data": {
            "image/png": "[encoded data removed]",
            "text/plain": [
              "<Figure size 720x504 with 1 Axes>"
            ]
          },
          "metadata": {
            "needs_background": "light"
          },
          "output_type": "display_data"
        }
      ],
      "source": [
        "# Make and plot predictions for model_3\n",
        "y_preds_3 = model_3.predict(X_test)\n",
        "plot_predictions(predictions=y_preds_3)"
      ]
    },
    {
      "cell_type": "markdown",
      "metadata": {
        "id": "38Ki8ZHcsztG"
      },
      "source": [
        "Strange, we trained for longer but our model performed worse?\n",
        "\n",
        "As it turns out, our model might've trained too long and has thus resulted in worse results (we'll see ways to prevent training for too long later on)."
      ]
    },
    {
      "cell_type": "code",
      "execution_count": null,
      "metadata": {
        "colab": {
          "base_uri": "https://localhost:8080/"
        },
        "id": "BPTUcFe4sbfk",
        "outputId": "fac9412b-1c17-4def-bac4-9098ba9d409d"
      },
      "outputs": [
        {
          "data": {
            "text/plain": [
              "(68.68784, 4804.469)"
            ]
          },
          "execution_count": 111,
          "metadata": {},
          "output_type": "execute_result"
        }
      ],
      "source": [
        "# Calculate model_3 metrics\n",
        "mae_3 = mae(y_test, y_preds_3.squeeze()).numpy()\n",
        "mse_3 = mse(y_test, y_preds_3.squeeze()).numpy()\n",
        "mae_3, mse_3"
      ]
    },
    {
      "cell_type": "markdown",
      "metadata": {
        "id": "UPEeM3UsrxGB"
      },
      "source": [
        "## Comparing results\n",
        "\n",
        "Now we've got results for 3 similar but slightly different results, let's compare them."
      ]
    },
    {
      "cell_type": "code",
      "execution_count": null,
      "metadata": {
        "id": "mw5RZk-BqLZd"
      },
      "outputs": [],
      "source": [
        "model_results = [[\"model_1\", mae_1, mse_1],\n",
        "                 [\"model_2\", mae_2, mse_2],\n",
        "                 [\"model_3\", mae_3, mae_3]]"
      ]
    },
    {
      "cell_type": "code",
      "execution_count": null,
      "metadata": {
        "colab": {
          "base_uri": "https://localhost:8080/",
          "height": 136
        },
        "id": "Ip7bKH83p5X0",
        "outputId": "0ca9c01f-d6f7-4a15-b0be-a7c497e076eb"
      },
      "outputs": [
        {
          "data": {
            "text/html": [
              "<div>\n",
              "<style scoped>\n",
              "    .dataframe tbody tr th:only-of-type {\n",
              "        vertical-align: middle;\n",
              "    }\n",
              "\n",
              "    .dataframe tbody tr th {\n",
              "        vertical-align: top;\n",
              "    }\n",
              "\n",
              "    .dataframe thead th {\n",
              "        text-align: right;\n",
              "    }\n",
              "</style>\n",
              "<table border=\"1\" class=\"dataframe\">\n",
              "  <thead>\n",
              "    <tr style=\"text-align: right;\">\n",
              "      <th></th>\n",
              "      <th>model</th>\n",
              "      <th>mae</th>\n",
              "      <th>mse</th>\n",
              "    </tr>\n",
              "  </thead>\n",
              "  <tbody>\n",
              "    <tr>\n",
              "      <th>0</th>\n",
              "      <td>model_1</td>\n",
              "      <td>18.745327</td>\n",
              "      <td>353.573364</td>\n",
              "    </tr>\n",
              "    <tr>\n",
              "      <th>1</th>\n",
              "      <td>model_2</td>\n",
              "      <td>1.909733</td>\n",
              "      <td>5.458770</td>\n",
              "    </tr>\n",
              "    <tr>\n",
              "      <th>2</th>\n",
              "      <td>model_3</td>\n",
              "      <td>68.687843</td>\n",
              "      <td>68.687843</td>\n",
              "    </tr>\n",
              "  </tbody>\n",
              "</table>\n",
              "</div>"
            ],
            "text/plain": [
              "     model        mae         mse\n",
              "0  model_1  18.745327  353.573364\n",
              "1  model_2   1.909733    5.458770\n",
              "2  model_3  68.687843   68.687843"
            ]
          },
          "execution_count": 113,
          "metadata": {},
          "output_type": "execute_result"
        }
      ],
      "source": [
        "import pandas as pd\n",
        "all_results = pd.DataFrame(model_results, columns=[\"model\", \"mae\", \"mse\"])\n",
        "all_results"
      ]
    },
    {
      "cell_type": "markdown",
      "metadata": {
        "id": "o_AtUiwuuLGo"
      },
      "source": [
        "From our experiments, it looks like `model_2` performed the best.\n",
        "\n",
        "And now, you might be thinking, \"wow, comparing models is tedious...\" and it definitely can be, we've only compared 3 models here. \n",
        "\n",
        "But this is part of what machine learning modelling is about, trying many different combinations of models and seeing which performs best.\n",
        "\n",
        "Each model you build is a small experiment. \n",
        "\n",
        "> 🔑 **Note:** One of your main goals should be to minimize the time between your experiments. The more experiments you do, the more things you'll figure out which don't work and in turn, get closer to figuring out what does work. Remember the machine learning practitioner's motto: \"experiment, experiment, experiment\".\n",
        "\n",
        "Another thing you'll also find is what you thought may work (such as training a model for longer) may not always work and the exact opposite is also often the case.\n",
        "\n",
        "## Tracking your experiments\n",
        "\n",
        "One really good habit to get into is tracking your modelling experiments to see which perform better than others.\n",
        "\n",
        "We've done a simple version of this above (keeping the results in different variables).\n",
        "\n",
        "> 📖 **Resource:** But as you build more models, you'll want to look into using tools such as:\n",
        "* [**TensorBoard**](https://tensorboard.dev/) - a component of the TensorFlow library to help track modelling experiments (we'll see this later).\n",
        "* [**Weights & Biases**](https://www.wandb.com/) - a tool for tracking all kinds of machine learning experiments (the good news for Weights & Biases is it plugs into TensorBoard)."
      ]
    },
    {
      "cell_type": "markdown",
      "metadata": {
        "id": "Fe5DgNbX6192"
      },
      "source": [
        "## Saving a model\n",
        "\n",
        "Once you've trained a model and found one which performs to your liking, you'll probably want to save it for use elsewhere (like a web application or mobile device).\n",
        "\n",
        "You can save a TensorFlow/Keras model using [`model.save()`](https://www.tensorflow.org/tutorials/keras/save_and_load#save_the_entire_model).\n",
        "\n",
        "There are two ways to save a model in TensorFlow:\n",
        "1. The [SavedModel format](https://www.tensorflow.org/tutorials/keras/save_and_load#savedmodel_format) (default).\n",
        "2. The [HDF5 format](https://www.tensorflow.org/tutorials/keras/save_and_load#hdf5_format).\n",
        "\n",
        "The main difference between the two is the SavedModel is automatically able to save custom objects (such as special layers) without additional modifications when loading the model back in.\n",
        "\n",
        "Which one should you use?\n",
        "\n",
        "It depends on your situation but the SavedModel format will suffice most of the time.\n",
        "\n",
        "Both methods use the same method call."
      ]
    },
    {
      "cell_type": "code",
      "execution_count": null,
      "metadata": {
        "colab": {
          "base_uri": "https://localhost:8080/"
        },
        "id": "gg0jD2cUoPsg",
        "outputId": "302b7457-0b55-4418-a2e5-e1e448d3e050"
      },
      "outputs": [
        {
          "name": "stdout",
          "output_type": "stream",
          "text": [
            "INFO:tensorflow:Assets written to: best_model_SavedModel_format/assets\n"
          ]
        },
        {
          "name": "stderr",
          "output_type": "stream",
          "text": [
            "2021-11-03 17:03:01.412190: W tensorflow/python/util/util.cc:348] Sets are not currently considered sequences, but this may change in the future, so consider avoiding using them.\n"
          ]
        }
      ],
      "source": [
        "# Save a model using the SavedModel format\n",
        "model_2.save('best_model_SavedModel_format')"
      ]
    },
    {
      "cell_type": "code",
      "execution_count": null,
      "metadata": {
        "colab": {
          "base_uri": "https://localhost:8080/"
        },
        "id": "dsCpDYrU7D1j",
        "outputId": "b111ce11-a64a-40f3-8901-4273713447db"
      },
      "outputs": [
        {
          "name": "stdout",
          "output_type": "stream",
          "text": [
            "assets\tkeras_metadata.pb  saved_model.pb  variables\n"
          ]
        }
      ],
      "source": [
        "# Check it out - outputs a protobuf binary file (.pb) as well as other files\n",
        "!ls best_model_SavedModel_format"
      ]
    },
    {
      "cell_type": "markdown",
      "metadata": {
        "id": "NGKmWco_SOEU"
      },
      "source": [
        "Now let's save the model in the HDF5 format, we'll use the same method but with a different filename."
      ]
    },
    {
      "cell_type": "code",
      "execution_count": null,
      "metadata": {
        "id": "97J6GJMBSM2j"
      },
      "outputs": [],
      "source": [
        "# Save a model using the HDF5 format\n",
        "model_2.save(\"best_model_HDF5_format.h5\") # note the addition of '.h5' on the end"
      ]
    },
    {
      "cell_type": "code",
      "execution_count": null,
      "metadata": {
        "colab": {
          "base_uri": "https://localhost:8080/"
        },
        "id": "vB7TmsSGSjdv",
        "outputId": "47447b90-93cf-430f-b338-9549a4c7a80e"
      },
      "outputs": [
        {
          "name": "stdout",
          "output_type": "stream",
          "text": [
            "best_model_HDF5_format.h5\n"
          ]
        }
      ],
      "source": [
        "# Check it out\n",
        "!ls best_model_HDF5_format.h5"
      ]
    },
    {
      "cell_type": "markdown",
      "metadata": {
        "id": "OGA02tY97EUI"
      },
      "source": [
        "## Loading a model\n",
        "\n",
        "We can load a saved model using the [`load_model()`](https://www.tensorflow.org/api_docs/python/tf/keras/models/load_model) method.\n",
        "\n",
        "Loading a model for the different formats (SavedModel and HDF5) is the same (as long as the pathnames to the particuluar formats are correct)."
      ]
    },
    {
      "cell_type": "code",
      "execution_count": null,
      "metadata": {
        "colab": {
          "base_uri": "https://localhost:8080/"
        },
        "id": "FzyLIWfs7Fvh",
        "outputId": "e75e4be0-9031-492a-82b1-df9813dbfa9e"
      },
      "outputs": [
        {
          "name": "stdout",
          "output_type": "stream",
          "text": [
            "Model: \"sequential_13\"\n",
            "_________________________________________________________________\n",
            "Layer (type)                 Output Shape              Param #   \n",
            "=================================================================\n",
            "dense_30 (Dense)             (None, 1)                 2         \n",
            "_________________________________________________________________\n",
            "dense_31 (Dense)             (None, 1)                 2         \n",
            "=================================================================\n",
            "Total params: 4\n",
            "Trainable params: 4\n",
            "Non-trainable params: 0\n",
            "_________________________________________________________________\n"
          ]
        }
      ],
      "source": [
        "# Load a model from the SavedModel format\n",
        "loaded_saved_model = tf.keras.models.load_model(\"best_model_SavedModel_format\")\n",
        "loaded_saved_model.summary()"
      ]
    },
    {
      "cell_type": "markdown",
      "metadata": {
        "id": "MfGO0dCQTeQh"
      },
      "source": [
        "Now let's test it out."
      ]
    },
    {
      "cell_type": "code",
      "execution_count": null,
      "metadata": {
        "colab": {
          "base_uri": "https://localhost:8080/"
        },
        "id": "7rehN8ZxTy43",
        "outputId": "21f5abf1-d4d0-4724-f0c4-af6b36adab66"
      },
      "outputs": [
        {
          "data": {
            "text/plain": [
              "True"
            ]
          },
          "execution_count": 119,
          "metadata": {},
          "output_type": "execute_result"
        }
      ],
      "source": [
        "# Compare model_2 with the SavedModel version (should return True)\n",
        "model_2_preds = model_2.predict(X_test)\n",
        "saved_model_preds = loaded_saved_model.predict(X_test)\n",
        "mae(y_test, saved_model_preds.squeeze()).numpy() == mae(y_test, model_2_preds.squeeze()).numpy()"
      ]
    },
    {
      "cell_type": "markdown",
      "metadata": {
        "id": "prjkfX6rUZ6a"
      },
      "source": [
        "Loading in from the HDF5 is much the same."
      ]
    },
    {
      "cell_type": "code",
      "execution_count": null,
      "metadata": {
        "colab": {
          "base_uri": "https://localhost:8080/"
        },
        "id": "dQfx-bWKUfRQ",
        "outputId": "4ed850bd-6f03-4278-c1ec-e81c5ea2c3c3"
      },
      "outputs": [
        {
          "name": "stdout",
          "output_type": "stream",
          "text": [
            "Model: \"sequential_9\"\n",
            "_________________________________________________________________\n",
            "Layer (type)                 Output Shape              Param #   \n",
            "=================================================================\n",
            "dense_9 (Dense)              (None, 1)                 2         \n",
            "_________________________________________________________________\n",
            "dense_10 (Dense)             (None, 1)                 2         \n",
            "=================================================================\n",
            "Total params: 4\n",
            "Trainable params: 4\n",
            "Non-trainable params: 0\n",
            "_________________________________________________________________\n"
          ]
        }
      ],
      "source": [
        "# Load a model from the HDF5 format\n",
        "loaded_h5_model = tf.keras.models.load_model(\"best_model_HDF5_format.h5\")\n",
        "loaded_h5_model.summary()"
      ]
    },
    {
      "cell_type": "code",
      "execution_count": null,
      "metadata": {
        "colab": {
          "base_uri": "https://localhost:8080/"
        },
        "id": "L0kT91h-Uru-",
        "outputId": "5968cbb9-26f3-436d-9f05-70d5f00f6a7f"
      },
      "outputs": [
        {
          "name": "stdout",
          "output_type": "stream",
          "text": [
            "WARNING:tensorflow:8 out of the last 9 calls to <function Model.make_predict_function.<locals>.predict_function at 0x7fa239732e18> triggered tf.function retracing. Tracing is expensive and the excessive number of tracings could be due to (1) creating @tf.function repeatedly in a loop, (2) passing tensors with different shapes, (3) passing Python objects instead of tensors. For (1), please define your @tf.function outside of the loop. For (2), @tf.function has experimental_relax_shapes=True option that relaxes argument shapes that can avoid unnecessary retracing. For (3), please refer to https://www.tensorflow.org/tutorials/customization/performance#python_or_tensor_args and https://www.tensorflow.org/api_docs/python/tf/function for  more details.\n"
          ]
        },
        {
          "data": {
            "text/plain": [
              "True"
            ]
          },
          "execution_count": 72,
          "metadata": {
            "tags": []
          },
          "output_type": "execute_result"
        }
      ],
      "source": [
        "# Compare model_2 with the loaded HDF5 version (should return True)\n",
        "h5_model_preds = loaded_h5_model.predict(X_test)\n",
        "mae(y_test, h5_model_preds.squeeze()).numpy() == mae(y_test, model_2_preds.squeeze()).numpy()"
      ]
    },
    {
      "cell_type": "markdown",
      "metadata": {
        "id": "ABtsYBDtr5Zz"
      },
      "source": [
        "## Downloading a model (from Google Colab)\n",
        "\n",
        "Say you wanted to get your model from Google Colab to your local machine, you can do one of the following things:\n",
        "* Right click on the file in the files pane and click 'download'.\n",
        "* Use the code below."
      ]
    },
    {
      "cell_type": "code",
      "execution_count": null,
      "metadata": {
        "colab": {
          "base_uri": "https://localhost:8080/",
          "height": 17
        },
        "id": "JV0onjIIr9XC",
        "outputId": "4e668bb6-298d-429c-f250-5f8bf7c69e03"
      },
      "outputs": [
        {
          "data": {
            "application/javascript": "\n    async function download(id, filename, size) {\n      if (!google.colab.kernel.accessAllowed) {\n        return;\n      }\n      const div = document.createElement('div');\n      const label = document.createElement('label');\n      label.textContent = `Downloading \"${filename}\": `;\n      div.appendChild(label);\n      const progress = document.createElement('progress');\n      progress.max = size;\n      div.appendChild(progress);\n      document.body.appendChild(div);\n\n      const buffers = [];\n      let downloaded = 0;\n\n      const channel = await google.colab.kernel.comms.open(id);\n      // Send a message to notify the kernel that we're ready.\n      channel.send({})\n\n      for await (const message of channel.messages) {\n        // Send a message to notify the kernel that we're ready.\n        channel.send({})\n        if (message.buffers) {\n          for (const buffer of message.buffers) {\n            buffers.push(buffer);\n            downloaded += buffer.byteLength;\n            progress.value = downloaded;\n          }\n        }\n      }\n      const blob = new Blob(buffers, {type: 'application/binary'});\n      const a = document.createElement('a');\n      a.href = window.URL.createObjectURL(blob);\n      a.download = filename;\n      div.appendChild(a);\n      a.click();\n      div.remove();\n    }\n  ",
            "text/plain": [
              "<IPython.core.display.Javascript object>"
            ]
          },
          "metadata": {
            "tags": []
          },
          "output_type": "display_data"
        },
        {
          "data": {
            "application/javascript": "download(\"download_7f8c246d-bbe4-41e2-bdbe-3f77d19d21c5\", \"best_model_HDF5_format.h5\", 16960)",
            "text/plain": [
              "<IPython.core.display.Javascript object>"
            ]
          },
          "metadata": {
            "tags": []
          },
          "output_type": "display_data"
        }
      ],
      "source": [
        "# Download the model (or any file) from Google Colab\n",
        "from google.colab import files\n",
        "files.download(\"best_model_HDF5_format.h5\")"
      ]
    },
    {
      "cell_type": "markdown",
      "metadata": {
        "id": "7xpVdMtKw6X4"
      },
      "source": [
        "## A larger example\n",
        "\n",
        "Alright, we've seen the fundamentals of building neural network regression models in TensorFlow.\n",
        "\n",
        "Let's step it up a notch and build a model for a more feature rich datase.\n",
        "\n",
        "More specifically we're going to try predict the cost of medical insurance for individuals based on a number of different parameters such as, `age`, `sex`, `bmi`, `children`, `smoking_status` and `residential_region`.\n",
        "\n",
        "To do, we'll leverage the pubically available [Medical Cost dataset](https://www.kaggle.com/mirichoi0218/insurance) available from Kaggle and [hosted on GitHub](https://github.com/stedy/Machine-Learning-with-R-datasets/blob/master/insurance.csv).\n",
        "\n",
        "> 🔑 **Note:** When learning machine learning paradigms, you'll often go through a series of foundational techniques and then practice them by working with open-source datasets and examples. Just as we're doing now, learn foundations, put them to work with different problems. Every time you work on something new, it's a good idea to search for something like \"problem X example with Python/TensorFlow\" where you substitute X for your problem."
      ]
    },
    {
      "cell_type": "code",
      "execution_count": null,
      "metadata": {
        "id": "WWK1LBxapgc2"
      },
      "outputs": [],
      "source": [
        "# Import required libraries\n",
        "import tensorflow as tf\n",
        "import pandas as pd\n",
        "import matplotlib.pyplot as plt"
      ]
    },
    {
      "cell_type": "code",
      "execution_count": null,
      "metadata": {
        "id": "JrnTr5N9blFo"
      },
      "outputs": [],
      "source": [
        "# Read in the insurance dataset\n",
        "insurance = pd.read_csv(\"https://raw.githubusercontent.com/stedy/Machine-Learning-with-R-datasets/master/insurance.csv\")"
      ]
    },
    {
      "cell_type": "code",
      "execution_count": null,
      "metadata": {
        "colab": {
          "base_uri": "https://localhost:8080/",
          "height": 195
        },
        "id": "QtXPN7cfb4Nm",
        "outputId": "39cf3114-3a57-4ad3-cab9-4d55728064c9"
      },
      "outputs": [
        {
          "data": {
            "text/html": [
              "<div>\n",
              "<style scoped>\n",
              "    .dataframe tbody tr th:only-of-type {\n",
              "        vertical-align: middle;\n",
              "    }\n",
              "\n",
              "    .dataframe tbody tr th {\n",
              "        vertical-align: top;\n",
              "    }\n",
              "\n",
              "    .dataframe thead th {\n",
              "        text-align: right;\n",
              "    }\n",
              "</style>\n",
              "<table border=\"1\" class=\"dataframe\">\n",
              "  <thead>\n",
              "    <tr style=\"text-align: right;\">\n",
              "      <th></th>\n",
              "      <th>age</th>\n",
              "      <th>sex</th>\n",
              "      <th>bmi</th>\n",
              "      <th>children</th>\n",
              "      <th>smoker</th>\n",
              "      <th>region</th>\n",
              "      <th>charges</th>\n",
              "    </tr>\n",
              "  </thead>\n",
              "  <tbody>\n",
              "    <tr>\n",
              "      <th>0</th>\n",
              "      <td>19</td>\n",
              "      <td>female</td>\n",
              "      <td>27.900</td>\n",
              "      <td>0</td>\n",
              "      <td>yes</td>\n",
              "      <td>southwest</td>\n",
              "      <td>16884.92400</td>\n",
              "    </tr>\n",
              "    <tr>\n",
              "      <th>1</th>\n",
              "      <td>18</td>\n",
              "      <td>male</td>\n",
              "      <td>33.770</td>\n",
              "      <td>1</td>\n",
              "      <td>no</td>\n",
              "      <td>southeast</td>\n",
              "      <td>1725.55230</td>\n",
              "    </tr>\n",
              "    <tr>\n",
              "      <th>2</th>\n",
              "      <td>28</td>\n",
              "      <td>male</td>\n",
              "      <td>33.000</td>\n",
              "      <td>3</td>\n",
              "      <td>no</td>\n",
              "      <td>southeast</td>\n",
              "      <td>4449.46200</td>\n",
              "    </tr>\n",
              "    <tr>\n",
              "      <th>3</th>\n",
              "      <td>33</td>\n",
              "      <td>male</td>\n",
              "      <td>22.705</td>\n",
              "      <td>0</td>\n",
              "      <td>no</td>\n",
              "      <td>northwest</td>\n",
              "      <td>21984.47061</td>\n",
              "    </tr>\n",
              "    <tr>\n",
              "      <th>4</th>\n",
              "      <td>32</td>\n",
              "      <td>male</td>\n",
              "      <td>28.880</td>\n",
              "      <td>0</td>\n",
              "      <td>no</td>\n",
              "      <td>northwest</td>\n",
              "      <td>3866.85520</td>\n",
              "    </tr>\n",
              "  </tbody>\n",
              "</table>\n",
              "</div>"
            ],
            "text/plain": [
              "   age     sex     bmi  children smoker     region      charges\n",
              "0   19  female  27.900         0    yes  southwest  16884.92400\n",
              "1   18    male  33.770         1     no  southeast   1725.55230\n",
              "2   28    male  33.000         3     no  southeast   4449.46200\n",
              "3   33    male  22.705         0     no  northwest  21984.47061\n",
              "4   32    male  28.880         0     no  northwest   3866.85520"
            ]
          },
          "execution_count": 122,
          "metadata": {},
          "output_type": "execute_result"
        }
      ],
      "source": [
        "# Check out the insurance dataset\n",
        "insurance.head()"
      ]
    },
    {
      "cell_type": "markdown",
      "metadata": {
        "id": "s55oIsYv0KkZ"
      },
      "source": [
        "We're going to have to turn the non-numerical columns into numbers (because a neural network can't handle non-numerical inputs).\n",
        "\n",
        "To do so, we'll use the [`get_dummies()`](https://pandas.pydata.org/pandas-docs/stable/reference/api/pandas.get_dummies.html) method in pandas.\n",
        "\n",
        "It converts categorical variables (like the `sex`, `smoker` and `region` columns) into numerical variables using one-hot encoding."
      ]
    },
    {
      "cell_type": "code",
      "execution_count": null,
      "metadata": {
        "colab": {
          "base_uri": "https://localhost:8080/",
          "height": 215
        },
        "id": "MqM_BmPkdon8",
        "outputId": "a1456aaa-4d07-4c24-bf9d-5b3a7777647f"
      },
      "outputs": [
        {
          "data": {
            "text/html": [
              "<div>\n",
              "<style scoped>\n",
              "    .dataframe tbody tr th:only-of-type {\n",
              "        vertical-align: middle;\n",
              "    }\n",
              "\n",
              "    .dataframe tbody tr th {\n",
              "        vertical-align: top;\n",
              "    }\n",
              "\n",
              "    .dataframe thead th {\n",
              "        text-align: right;\n",
              "    }\n",
              "</style>\n",
              "<table border=\"1\" class=\"dataframe\">\n",
              "  <thead>\n",
              "    <tr style=\"text-align: right;\">\n",
              "      <th></th>\n",
              "      <th>age</th>\n",
              "      <th>bmi</th>\n",
              "      <th>children</th>\n",
              "      <th>charges</th>\n",
              "      <th>sex_female</th>\n",
              "      <th>sex_male</th>\n",
              "      <th>smoker_no</th>\n",
              "      <th>smoker_yes</th>\n",
              "      <th>region_northeast</th>\n",
              "      <th>region_northwest</th>\n",
              "      <th>region_southeast</th>\n",
              "      <th>region_southwest</th>\n",
              "    </tr>\n",
              "  </thead>\n",
              "  <tbody>\n",
              "    <tr>\n",
              "      <th>0</th>\n",
              "      <td>19</td>\n",
              "      <td>27.900</td>\n",
              "      <td>0</td>\n",
              "      <td>16884.92400</td>\n",
              "      <td>1</td>\n",
              "      <td>0</td>\n",
              "      <td>0</td>\n",
              "      <td>1</td>\n",
              "      <td>0</td>\n",
              "      <td>0</td>\n",
              "      <td>0</td>\n",
              "      <td>1</td>\n",
              "    </tr>\n",
              "    <tr>\n",
              "      <th>1</th>\n",
              "      <td>18</td>\n",
              "      <td>33.770</td>\n",
              "      <td>1</td>\n",
              "      <td>1725.55230</td>\n",
              "      <td>0</td>\n",
              "      <td>1</td>\n",
              "      <td>1</td>\n",
              "      <td>0</td>\n",
              "      <td>0</td>\n",
              "      <td>0</td>\n",
              "      <td>1</td>\n",
              "      <td>0</td>\n",
              "    </tr>\n",
              "    <tr>\n",
              "      <th>2</th>\n",
              "      <td>28</td>\n",
              "      <td>33.000</td>\n",
              "      <td>3</td>\n",
              "      <td>4449.46200</td>\n",
              "      <td>0</td>\n",
              "      <td>1</td>\n",
              "      <td>1</td>\n",
              "      <td>0</td>\n",
              "      <td>0</td>\n",
              "      <td>0</td>\n",
              "      <td>1</td>\n",
              "      <td>0</td>\n",
              "    </tr>\n",
              "    <tr>\n",
              "      <th>3</th>\n",
              "      <td>33</td>\n",
              "      <td>22.705</td>\n",
              "      <td>0</td>\n",
              "      <td>21984.47061</td>\n",
              "      <td>0</td>\n",
              "      <td>1</td>\n",
              "      <td>1</td>\n",
              "      <td>0</td>\n",
              "      <td>0</td>\n",
              "      <td>1</td>\n",
              "      <td>0</td>\n",
              "      <td>0</td>\n",
              "    </tr>\n",
              "    <tr>\n",
              "      <th>4</th>\n",
              "      <td>32</td>\n",
              "      <td>28.880</td>\n",
              "      <td>0</td>\n",
              "      <td>3866.85520</td>\n",
              "      <td>0</td>\n",
              "      <td>1</td>\n",
              "      <td>1</td>\n",
              "      <td>0</td>\n",
              "      <td>0</td>\n",
              "      <td>1</td>\n",
              "      <td>0</td>\n",
              "      <td>0</td>\n",
              "    </tr>\n",
              "  </tbody>\n",
              "</table>\n",
              "</div>"
            ],
            "text/plain": [
              "   age     bmi  children      charges  sex_female  sex_male  smoker_no  \\\n",
              "0   19  27.900         0  16884.92400           1         0          0   \n",
              "1   18  33.770         1   1725.55230           0         1          1   \n",
              "2   28  33.000         3   4449.46200           0         1          1   \n",
              "3   33  22.705         0  21984.47061           0         1          1   \n",
              "4   32  28.880         0   3866.85520           0         1          1   \n",
              "\n",
              "   smoker_yes  region_northeast  region_northwest  region_southeast  \\\n",
              "0           1                 0                 0                 0   \n",
              "1           0                 0                 0                 1   \n",
              "2           0                 0                 0                 1   \n",
              "3           0                 0                 1                 0   \n",
              "4           0                 0                 1                 0   \n",
              "\n",
              "   region_southwest  \n",
              "0                 1  \n",
              "1                 0  \n",
              "2                 0  \n",
              "3                 0  \n",
              "4                 0  "
            ]
          },
          "execution_count": 123,
          "metadata": {},
          "output_type": "execute_result"
        }
      ],
      "source": [
        "# Turn all categories into numbers\n",
        "insurance_one_hot = pd.get_dummies(insurance)\n",
        "insurance_one_hot.head() # view the converted columns"
      ]
    },
    {
      "cell_type": "markdown",
      "metadata": {
        "id": "zOHoPzgqgZPq"
      },
      "source": [
        "Now we'll split data into features (`X`) and labels (`y`)."
      ]
    },
    {
      "cell_type": "code",
      "execution_count": null,
      "metadata": {
        "id": "W_EGj3FxhkAb"
      },
      "outputs": [],
      "source": [
        "# Create X & y values\n",
        "X = insurance_one_hot.drop(\"charges\", axis=1)\n",
        "y = insurance_one_hot[\"charges\"]"
      ]
    },
    {
      "cell_type": "code",
      "execution_count": null,
      "metadata": {
        "colab": {
          "base_uri": "https://localhost:8080/",
          "height": 215
        },
        "id": "-QQFJmDn5ATV",
        "outputId": "b02a4f32-1be8-4983-8741-d3d90d078cf1"
      },
      "outputs": [
        {
          "data": {
            "text/html": [
              "<div>\n",
              "<style scoped>\n",
              "    .dataframe tbody tr th:only-of-type {\n",
              "        vertical-align: middle;\n",
              "    }\n",
              "\n",
              "    .dataframe tbody tr th {\n",
              "        vertical-align: top;\n",
              "    }\n",
              "\n",
              "    .dataframe thead th {\n",
              "        text-align: right;\n",
              "    }\n",
              "</style>\n",
              "<table border=\"1\" class=\"dataframe\">\n",
              "  <thead>\n",
              "    <tr style=\"text-align: right;\">\n",
              "      <th></th>\n",
              "      <th>age</th>\n",
              "      <th>bmi</th>\n",
              "      <th>children</th>\n",
              "      <th>sex_female</th>\n",
              "      <th>sex_male</th>\n",
              "      <th>smoker_no</th>\n",
              "      <th>smoker_yes</th>\n",
              "      <th>region_northeast</th>\n",
              "      <th>region_northwest</th>\n",
              "      <th>region_southeast</th>\n",
              "      <th>region_southwest</th>\n",
              "    </tr>\n",
              "  </thead>\n",
              "  <tbody>\n",
              "    <tr>\n",
              "      <th>0</th>\n",
              "      <td>19</td>\n",
              "      <td>27.900</td>\n",
              "      <td>0</td>\n",
              "      <td>1</td>\n",
              "      <td>0</td>\n",
              "      <td>0</td>\n",
              "      <td>1</td>\n",
              "      <td>0</td>\n",
              "      <td>0</td>\n",
              "      <td>0</td>\n",
              "      <td>1</td>\n",
              "    </tr>\n",
              "    <tr>\n",
              "      <th>1</th>\n",
              "      <td>18</td>\n",
              "      <td>33.770</td>\n",
              "      <td>1</td>\n",
              "      <td>0</td>\n",
              "      <td>1</td>\n",
              "      <td>1</td>\n",
              "      <td>0</td>\n",
              "      <td>0</td>\n",
              "      <td>0</td>\n",
              "      <td>1</td>\n",
              "      <td>0</td>\n",
              "    </tr>\n",
              "    <tr>\n",
              "      <th>2</th>\n",
              "      <td>28</td>\n",
              "      <td>33.000</td>\n",
              "      <td>3</td>\n",
              "      <td>0</td>\n",
              "      <td>1</td>\n",
              "      <td>1</td>\n",
              "      <td>0</td>\n",
              "      <td>0</td>\n",
              "      <td>0</td>\n",
              "      <td>1</td>\n",
              "      <td>0</td>\n",
              "    </tr>\n",
              "    <tr>\n",
              "      <th>3</th>\n",
              "      <td>33</td>\n",
              "      <td>22.705</td>\n",
              "      <td>0</td>\n",
              "      <td>0</td>\n",
              "      <td>1</td>\n",
              "      <td>1</td>\n",
              "      <td>0</td>\n",
              "      <td>0</td>\n",
              "      <td>1</td>\n",
              "      <td>0</td>\n",
              "      <td>0</td>\n",
              "    </tr>\n",
              "    <tr>\n",
              "      <th>4</th>\n",
              "      <td>32</td>\n",
              "      <td>28.880</td>\n",
              "      <td>0</td>\n",
              "      <td>0</td>\n",
              "      <td>1</td>\n",
              "      <td>1</td>\n",
              "      <td>0</td>\n",
              "      <td>0</td>\n",
              "      <td>1</td>\n",
              "      <td>0</td>\n",
              "      <td>0</td>\n",
              "    </tr>\n",
              "  </tbody>\n",
              "</table>\n",
              "</div>"
            ],
            "text/plain": [
              "   age     bmi  children  sex_female  sex_male  smoker_no  smoker_yes  \\\n",
              "0   19  27.900         0           1         0          0           1   \n",
              "1   18  33.770         1           0         1          1           0   \n",
              "2   28  33.000         3           0         1          1           0   \n",
              "3   33  22.705         0           0         1          1           0   \n",
              "4   32  28.880         0           0         1          1           0   \n",
              "\n",
              "   region_northeast  region_northwest  region_southeast  region_southwest  \n",
              "0                 0                 0                 0                 1  \n",
              "1                 0                 0                 1                 0  \n",
              "2                 0                 0                 1                 0  \n",
              "3                 0                 1                 0                 0  \n",
              "4                 0                 1                 0                 0  "
            ]
          },
          "execution_count": 125,
          "metadata": {},
          "output_type": "execute_result"
        }
      ],
      "source": [
        "# View features\n",
        "X.head()"
      ]
    },
    {
      "cell_type": "code",
      "execution_count": null,
      "metadata": {},
      "outputs": [
        {
          "data": {
            "text/plain": [
              "0    16884.92400\n",
              "1     1725.55230\n",
              "2     4449.46200\n",
              "3    21984.47061\n",
              "4     3866.85520\n",
              "Name: charges, dtype: float64"
            ]
          },
          "execution_count": 126,
          "metadata": {},
          "output_type": "execute_result"
        }
      ],
      "source": [
        "y.head()"
      ]
    },
    {
      "cell_type": "markdown",
      "metadata": {
        "id": "kudhkM-0giS1"
      },
      "source": [
        "And create training and test sets. We could do this manually, but to make it easier, we'll leverage the already available [`train_test_split`](https://scikit-learn.org/stable/modules/generated/sklearn.model_selection.train_test_split.html) function available from Scikit-Learn."
      ]
    },
    {
      "cell_type": "code",
      "execution_count": null,
      "metadata": {
        "id": "WPGZGk0jhxCZ"
      },
      "outputs": [],
      "source": [
        "# Create training and test sets\n",
        "from sklearn.model_selection import train_test_split\n",
        "X_train, X_test, y_train, y_test = train_test_split(X, \n",
        "                                                    y, \n",
        "                                                    test_size=0.2, \n",
        "                                                    random_state=42) # set random state for reproducible splits"
      ]
    },
    {
      "cell_type": "markdown",
      "metadata": {
        "id": "W8wEC0FPglnN"
      },
      "source": [
        "Now we can build and fit a model (we'll make it the same as `model_2`)."
      ]
    },
    {
      "cell_type": "code",
      "execution_count": null,
      "metadata": {
        "id": "OCXTmz6oh_T6"
      },
      "outputs": [
        {
          "name": "stdout",
          "output_type": "stream",
          "text": [
            "Epoch 1/100\n",
            "34/34 [==============================] - 0s 402us/step - loss: 8868.5928 - mae: 8868.5928\n",
            "Epoch 2/100\n",
            "34/34 [==============================] - 0s 446us/step - loss: 7887.1606 - mae: 7887.1606\n",
            "Epoch 3/100\n",
            "34/34 [==============================] - 0s 456us/step - loss: 7537.0947 - mae: 7537.0947\n",
            "Epoch 4/100\n",
            "34/34 [==============================] - 0s 476us/step - loss: 7859.4346 - mae: 7859.4346\n",
            "Epoch 5/100\n",
            "34/34 [==============================] - 0s 462us/step - loss: 7639.6699 - mae: 7639.6699\n",
            "Epoch 6/100\n",
            "34/34 [==============================] - 0s 464us/step - loss: 7578.0850 - mae: 7578.0850\n",
            "Epoch 7/100\n",
            "34/34 [==============================] - 0s 455us/step - loss: 7514.6162 - mae: 7514.6162\n",
            "Epoch 8/100\n",
            "34/34 [==============================] - 0s 464us/step - loss: 7694.1343 - mae: 7694.1343\n",
            "Epoch 9/100\n",
            "34/34 [==============================] - 0s 473us/step - loss: 7595.9141 - mae: 7595.9141\n",
            "Epoch 10/100\n",
            "34/34 [==============================] - 0s 445us/step - loss: 7735.9126 - mae: 7735.9126\n",
            "Epoch 11/100\n",
            "34/34 [==============================] - 0s 487us/step - loss: 7444.4194 - mae: 7444.4194\n",
            "Epoch 12/100\n",
            "34/34 [==============================] - 0s 469us/step - loss: 7678.0332 - mae: 7678.0332\n",
            "Epoch 13/100\n",
            "34/34 [==============================] - 0s 489us/step - loss: 7681.5850 - mae: 7681.5850\n",
            "Epoch 14/100\n",
            "34/34 [==============================] - 0s 545us/step - loss: 7702.2866 - mae: 7702.2866\n",
            "Epoch 15/100\n",
            "34/34 [==============================] - 0s 491us/step - loss: 7585.8950 - mae: 7585.8950\n",
            "Epoch 16/100\n",
            "34/34 [==============================] - 0s 483us/step - loss: 7689.5396 - mae: 7689.5396\n",
            "Epoch 17/100\n",
            "34/34 [==============================] - 0s 481us/step - loss: 7509.2061 - mae: 7509.2061\n",
            "Epoch 18/100\n",
            "34/34 [==============================] - 0s 505us/step - loss: 7695.0103 - mae: 7695.0103\n",
            "Epoch 19/100\n",
            "34/34 [==============================] - 0s 494us/step - loss: 7669.3755 - mae: 7669.3755\n",
            "Epoch 20/100\n",
            "34/34 [==============================] - 0s 610us/step - loss: 7901.1372 - mae: 7901.1372\n",
            "Epoch 21/100\n",
            "34/34 [==============================] - 0s 444us/step - loss: 7552.4844 - mae: 7552.4844\n",
            "Epoch 22/100\n",
            "34/34 [==============================] - 0s 527us/step - loss: 7844.9980 - mae: 7844.9980\n",
            "Epoch 23/100\n",
            "34/34 [==============================] - 0s 508us/step - loss: 7642.2520 - mae: 7642.2520\n",
            "Epoch 24/100\n",
            "34/34 [==============================] - 0s 452us/step - loss: 7515.3101 - mae: 7515.3101\n",
            "Epoch 25/100\n",
            "34/34 [==============================] - 0s 491us/step - loss: 7678.3530 - mae: 7678.3530\n",
            "Epoch 26/100\n",
            "34/34 [==============================] - 0s 469us/step - loss: 7653.0293 - mae: 7653.0293\n",
            "Epoch 27/100\n",
            "34/34 [==============================] - 0s 471us/step - loss: 7559.5474 - mae: 7559.5474\n",
            "Epoch 28/100\n",
            "34/34 [==============================] - 0s 446us/step - loss: 7459.9419 - mae: 7459.9419\n",
            "Epoch 29/100\n",
            "34/34 [==============================] - 0s 542us/step - loss: 7618.6201 - mae: 7618.6201\n",
            "Epoch 30/100\n",
            "34/34 [==============================] - 0s 614us/step - loss: 7628.6255 - mae: 7628.6255\n",
            "Epoch 31/100\n",
            "34/34 [==============================] - 0s 570us/step - loss: 7540.4922 - mae: 7540.4922\n",
            "Epoch 32/100\n",
            "34/34 [==============================] - 0s 573us/step - loss: 7486.0186 - mae: 7486.0186\n",
            "Epoch 33/100\n",
            "34/34 [==============================] - 0s 907us/step - loss: 7418.6636 - mae: 7418.6636\n",
            "Epoch 34/100\n",
            "34/34 [==============================] - 0s 814us/step - loss: 7480.7334 - mae: 7480.7334\n",
            "Epoch 35/100\n",
            "34/34 [==============================] - 0s 632us/step - loss: 7615.3125 - mae: 7615.3125\n",
            "Epoch 36/100\n",
            "34/34 [==============================] - 0s 718us/step - loss: 7566.7925 - mae: 7566.7925\n",
            "Epoch 37/100\n",
            "34/34 [==============================] - 0s 691us/step - loss: 7661.0894 - mae: 7661.0894\n",
            "Epoch 38/100\n",
            "34/34 [==============================] - 0s 733us/step - loss: 7522.6846 - mae: 7522.6846\n",
            "Epoch 39/100\n",
            "34/34 [==============================] - 0s 1ms/step - loss: 7556.0703 - mae: 7556.0703\n",
            "Epoch 40/100\n",
            "34/34 [==============================] - 0s 1ms/step - loss: 7433.5688 - mae: 7433.5688\n",
            "Epoch 41/100\n",
            "34/34 [==============================] - 0s 911us/step - loss: 7722.4346 - mae: 7722.4346\n",
            "Epoch 42/100\n",
            "34/34 [==============================] - 0s 591us/step - loss: 7344.2710 - mae: 7344.2710\n",
            "Epoch 43/100\n",
            "34/34 [==============================] - 0s 592us/step - loss: 7597.4341 - mae: 7597.4341\n",
            "Epoch 44/100\n",
            "34/34 [==============================] - 0s 614us/step - loss: 7338.0137 - mae: 7338.0137\n",
            "Epoch 45/100\n",
            "34/34 [==============================] - 0s 598us/step - loss: 7510.3472 - mae: 7510.3472\n",
            "Epoch 46/100\n",
            "34/34 [==============================] - 0s 421us/step - loss: 7413.5815 - mae: 7413.5815\n",
            "Epoch 47/100\n",
            "34/34 [==============================] - 0s 461us/step - loss: 7451.0391 - mae: 7451.0391\n",
            "Epoch 48/100\n",
            "34/34 [==============================] - 0s 479us/step - loss: 7340.5396 - mae: 7340.5396\n",
            "Epoch 49/100\n",
            "34/34 [==============================] - 0s 409us/step - loss: 7481.9980 - mae: 7481.9980\n",
            "Epoch 50/100\n",
            "34/34 [==============================] - 0s 447us/step - loss: 7468.2852 - mae: 7468.2852\n",
            "Epoch 51/100\n",
            "34/34 [==============================] - 0s 418us/step - loss: 7411.3413 - mae: 7411.3413\n",
            "Epoch 52/100\n",
            "34/34 [==============================] - 0s 418us/step - loss: 7460.0801 - mae: 7460.0801\n",
            "Epoch 53/100\n",
            "34/34 [==============================] - 0s 509us/step - loss: 7601.6611 - mae: 7601.6611\n",
            "Epoch 54/100\n",
            "34/34 [==============================] - 0s 436us/step - loss: 7241.2549 - mae: 7241.2549\n",
            "Epoch 55/100\n",
            "34/34 [==============================] - 0s 444us/step - loss: 7539.6968 - mae: 7539.6968\n",
            "Epoch 56/100\n",
            "34/34 [==============================] - 0s 469us/step - loss: 7293.2012 - mae: 7293.2012\n",
            "Epoch 57/100\n",
            "34/34 [==============================] - 0s 433us/step - loss: 7417.9727 - mae: 7417.9727\n",
            "Epoch 58/100\n",
            "34/34 [==============================] - 0s 409us/step - loss: 7353.0625 - mae: 7353.0625\n",
            "Epoch 59/100\n",
            "34/34 [==============================] - 0s 603us/step - loss: 7643.8252 - mae: 7643.8252\n",
            "Epoch 60/100\n",
            "34/34 [==============================] - 0s 520us/step - loss: 7410.4014 - mae: 7410.4014\n",
            "Epoch 61/100\n",
            "34/34 [==============================] - 0s 433us/step - loss: 7612.8345 - mae: 7612.8345\n",
            "Epoch 62/100\n",
            "34/34 [==============================] - 0s 424us/step - loss: 7387.9092 - mae: 7387.9092\n",
            "Epoch 63/100\n",
            "34/34 [==============================] - 0s 473us/step - loss: 7359.5625 - mae: 7359.5625\n",
            "Epoch 64/100\n",
            "34/34 [==============================] - 0s 543us/step - loss: 7109.0889 - mae: 7109.0889\n",
            "Epoch 65/100\n",
            "34/34 [==============================] - 0s 478us/step - loss: 7396.3228 - mae: 7396.3228\n",
            "Epoch 66/100\n",
            "34/34 [==============================] - 0s 416us/step - loss: 7179.8618 - mae: 7179.8618\n",
            "Epoch 67/100\n",
            "34/34 [==============================] - 0s 471us/step - loss: 7289.7729 - mae: 7289.7729\n",
            "Epoch 68/100\n",
            "34/34 [==============================] - 0s 410us/step - loss: 7523.6987 - mae: 7523.6987\n",
            "Epoch 69/100\n",
            "34/34 [==============================] - 0s 454us/step - loss: 7442.6172 - mae: 7442.6172\n",
            "Epoch 70/100\n",
            "34/34 [==============================] - 0s 433us/step - loss: 7673.4849 - mae: 7673.4849\n",
            "Epoch 71/100\n",
            "34/34 [==============================] - 0s 475us/step - loss: 7276.0342 - mae: 7276.0342\n",
            "Epoch 72/100\n",
            "34/34 [==============================] - 0s 418us/step - loss: 7246.3726 - mae: 7246.3726\n",
            "Epoch 73/100\n",
            "34/34 [==============================] - 0s 416us/step - loss: 7372.0728 - mae: 7372.0728\n",
            "Epoch 74/100\n",
            "34/34 [==============================] - 0s 456us/step - loss: 7512.0762 - mae: 7512.0762\n",
            "Epoch 75/100\n",
            "34/34 [==============================] - 0s 474us/step - loss: 7269.7451 - mae: 7269.7451\n",
            "Epoch 76/100\n",
            "34/34 [==============================] - 0s 451us/step - loss: 7199.5054 - mae: 7199.5054\n",
            "Epoch 77/100\n",
            "34/34 [==============================] - 0s 505us/step - loss: 7261.2935 - mae: 7261.2935\n",
            "Epoch 78/100\n",
            "34/34 [==============================] - 0s 460us/step - loss: 7185.7646 - mae: 7185.7646\n",
            "Epoch 79/100\n",
            "34/34 [==============================] - 0s 447us/step - loss: 7301.7500 - mae: 7301.7500\n",
            "Epoch 80/100\n",
            "34/34 [==============================] - 0s 453us/step - loss: 7002.6313 - mae: 7002.6313\n",
            "Epoch 81/100\n",
            "34/34 [==============================] - 0s 455us/step - loss: 7289.1377 - mae: 7289.1377\n",
            "Epoch 82/100\n",
            "34/34 [==============================] - 0s 430us/step - loss: 7155.3960 - mae: 7155.3960\n",
            "Epoch 83/100\n",
            "34/34 [==============================] - 0s 440us/step - loss: 7475.1719 - mae: 7475.1719\n",
            "Epoch 84/100\n",
            "34/34 [==============================] - 0s 443us/step - loss: 7387.3691 - mae: 7387.3691\n",
            "Epoch 85/100\n",
            "34/34 [==============================] - 0s 442us/step - loss: 7289.9468 - mae: 7289.9468\n",
            "Epoch 86/100\n",
            "34/34 [==============================] - 0s 439us/step - loss: 7268.0957 - mae: 7268.0957\n",
            "Epoch 87/100\n",
            "34/34 [==============================] - 0s 450us/step - loss: 7238.5889 - mae: 7238.5889\n",
            "Epoch 88/100\n",
            "34/34 [==============================] - 0s 419us/step - loss: 7201.7363 - mae: 7201.7363\n",
            "Epoch 89/100\n",
            "34/34 [==============================] - 0s 466us/step - loss: 7538.0771 - mae: 7538.0771\n",
            "Epoch 90/100\n",
            "34/34 [==============================] - 0s 440us/step - loss: 6967.1187 - mae: 6967.1187\n",
            "Epoch 91/100\n",
            "34/34 [==============================] - 0s 476us/step - loss: 7314.1309 - mae: 7314.1309\n",
            "Epoch 92/100\n",
            "34/34 [==============================] - 0s 590us/step - loss: 7192.3140 - mae: 7192.3140\n",
            "Epoch 93/100\n",
            "34/34 [==============================] - 0s 761us/step - loss: 7530.8784 - mae: 7530.8784\n",
            "Epoch 94/100\n",
            "34/34 [==============================] - 0s 587us/step - loss: 7187.3594 - mae: 7187.3594\n",
            "Epoch 95/100\n",
            "34/34 [==============================] - 0s 448us/step - loss: 7561.5645 - mae: 7561.5645\n",
            "Epoch 96/100\n",
            "34/34 [==============================] - 0s 450us/step - loss: 7263.4648 - mae: 7263.4648\n",
            "Epoch 97/100\n",
            "34/34 [==============================] - 0s 523us/step - loss: 7146.2905 - mae: 7146.2905\n",
            "Epoch 98/100\n",
            "34/34 [==============================] - 0s 466us/step - loss: 7247.9253 - mae: 7247.9253\n",
            "Epoch 99/100\n",
            "34/34 [==============================] - 0s 478us/step - loss: 7200.6689 - mae: 7200.6689\n",
            "Epoch 100/100\n",
            "34/34 [==============================] - 0s 479us/step - loss: 7301.6880 - mae: 7301.6880\n"
          ]
        },
        {
          "data": {
            "text/plain": [
              "<tensorflow.python.keras.callbacks.History at 0x7f93a8c31d00>"
            ]
          },
          "execution_count": 128,
          "metadata": {},
          "output_type": "execute_result"
        }
      ],
      "source": [
        "# Set random seed\n",
        "tf.random.set_seed(42)\n",
        "\n",
        "# Create a new model (same as model_2)\n",
        "insurance_model = tf.keras.Sequential([\n",
        "  tf.keras.layers.Dense(1),\n",
        "  tf.keras.layers.Dense(1)\n",
        "])\n",
        "\n",
        "# Compile the model\n",
        "insurance_model.compile(loss=tf.keras.losses.mae,\n",
        "                        optimizer=tf.keras.optimizers.SGD(),\n",
        "                        metrics=['mae'])\n",
        "\n",
        "# Fit the model\n",
        "insurance_model.fit(X_train, y_train, epochs=100)"
      ]
    },
    {
      "cell_type": "code",
      "execution_count": null,
      "metadata": {
        "colab": {
          "base_uri": "https://localhost:8080/"
        },
        "id": "B1U7LqpKid0r",
        "outputId": "22ebc7ed-ca8e-4d0d-cc49-b061e6ef019c"
      },
      "outputs": [
        {
          "name": "stdout",
          "output_type": "stream",
          "text": [
            "9/9 [==============================] - 0s 661us/step - loss: 8628.2520 - mae: 8628.2520\n"
          ]
        },
        {
          "data": {
            "text/plain": [
              "[8628.251953125, 8628.251953125]"
            ]
          },
          "execution_count": 129,
          "metadata": {},
          "output_type": "execute_result"
        }
      ],
      "source": [
        "# Check the results of the insurance model\n",
        "insurance_model.evaluate(X_test, y_test)"
      ]
    },
    {
      "cell_type": "markdown",
      "metadata": {
        "id": "H9doNDToqDru"
      },
      "source": [
        "Our model didn't perform very well, let's try a bigger model.\n",
        "\n",
        "We'll try 3 things:\n",
        "- Increasing the number of layers (2 -> 3).\n",
        "- Increasing the number of units in each layer (except for the output layer).\n",
        "- Changing the optimizer (from SGD to Adam).\n",
        "\n",
        "Everything else will stay the same."
      ]
    },
    {
      "cell_type": "code",
      "execution_count": null,
      "metadata": {
        "colab": {
          "base_uri": "https://localhost:8080/"
        },
        "id": "W59EqfqYimnR",
        "outputId": "6887bbaa-2e32-40d9-a76c-f2377e95a29b"
      },
      "outputs": [],
      "source": [
        "# Set random seed\n",
        "tf.random.set_seed(42)\n",
        "\n",
        "# Add an extra layer and increase number of units\n",
        "insurance_model_2 = tf.keras.Sequential([\n",
        "  tf.keras.layers.Dense(100), # 100 units\n",
        "  tf.keras.layers.Dense(10), # 10 units\n",
        "  tf.keras.layers.Dense(1) # 1 unit (important for output layer)\n",
        "])\n",
        "\n",
        "# Compile the model\n",
        "insurance_model_2.compile(loss=tf.keras.losses.mae,\n",
        "                          optimizer=tf.keras.optimizers.Adam(), # Adam works but SGD doesn't \n",
        "                          metrics=['mae'])\n",
        "\n",
        "# Fit the model and save the history (we can plot this)\n",
        "history = insurance_model_2.fit(X_train, y_train, epochs=100, verbose=0)"
      ]
    },
    {
      "cell_type": "code",
      "execution_count": null,
      "metadata": {
        "colab": {
          "base_uri": "https://localhost:8080/"
        },
        "id": "k9IbYWnOqmoT",
        "outputId": "047ae48a-92bb-4bb6-d01f-893202f05dd2"
      },
      "outputs": [
        {
          "name": "stdout",
          "output_type": "stream",
          "text": [
            "9/9 [==============================] - 0s 511us/step - loss: 4924.4956 - mae: 4924.4956\n"
          ]
        },
        {
          "data": {
            "text/plain": [
              "[4924.49560546875, 4924.49560546875]"
            ]
          },
          "execution_count": 131,
          "metadata": {},
          "output_type": "execute_result"
        }
      ],
      "source": [
        "# Evaluate our larger model\n",
        "insurance_model_2.evaluate(X_test, y_test)"
      ]
    },
    {
      "cell_type": "markdown",
      "metadata": {
        "id": "o9Rf3NosqriS"
      },
      "source": [
        "Much better! Using a larger model and the Adam optimizer results in almost half the error as the previous model.\n",
        "\n",
        "> 🔑 **Note:** For many problems, the [Adam optimizer](https://www.tensorflow.org/api_docs/python/tf/keras/optimizers/Adam) is a great starting choice. See Andrei Karpathy's \"Adam is safe\" point from [*A Recipe for Training Neural Networks*](http://karpathy.github.io/2019/04/25/recipe/) for more. \n",
        "\n",
        "Let's check out the loss curves of our model, we should see a downward trend."
      ]
    },
    {
      "cell_type": "code",
      "execution_count": null,
      "metadata": {
        "colab": {
          "base_uri": "https://localhost:8080/",
          "height": 279
        },
        "id": "9SE55ANojcF_",
        "outputId": "52ac970a-5f56-4711-a561-329d3a802bbd"
      },
      "outputs": [
        {
          "data": {
            "image/png": "[encoded data removed]",
            "text/plain": [
              "<Figure size 432x288 with 1 Axes>"
            ]
          },
          "metadata": {
            "needs_background": "light",
            "tags": []
          },
          "output_type": "display_data"
        }
      ],
      "source": [
        "# Plot history (also known as a loss curve)\n",
        "pd.DataFrame(history.history).plot()\n",
        "plt.ylabel(\"loss\")\n",
        "plt.xlabel(\"epochs\");"
      ]
    },
    {
      "cell_type": "markdown",
      "metadata": {
        "id": "ckHqtn0srQ5q"
      },
      "source": [
        "From this, it looks like our model's loss (and MAE) were both still decreasing (in our case, MAE and loss are the same, hence the lines in the plot overlap eachother).\n",
        "\n",
        "What this tells us is the loss might go down if we try training it for longer.\n",
        "\n",
        "> 🤔 **Question:** How long should you train for? \n",
        "\n",
        "> It depends on what problem you're working on. Sometimes training won't take very long, other times it'll take longer than you expect. A common method is to set your model training for a very long time (e.g. 1000's of epochs) but set it up with an [EarlyStopping callback](https://www.tensorflow.org/api_docs/python/tf/keras/callbacks/EarlyStopping) so it stops automatically when it stops improving. We'll see this in another module.\n",
        "\n",
        "Let's train the same model as above for a little longer. We can do this but calling fit on it again."
      ]
    },
    {
      "cell_type": "code",
      "execution_count": null,
      "metadata": {
        "id": "Ucs62jV8jl6N"
      },
      "outputs": [],
      "source": [
        "# Try training for a little longer (100 more epochs)\n",
        "history_2 = insurance_model_2.fit(X_train, y_train, epochs=100, verbose=0)"
      ]
    },
    {
      "cell_type": "markdown",
      "metadata": {
        "id": "L2FZA1z1sxxs"
      },
      "source": [
        "How did the extra training go?"
      ]
    },
    {
      "cell_type": "code",
      "execution_count": null,
      "metadata": {
        "colab": {
          "base_uri": "https://localhost:8080/"
        },
        "id": "cxtiYB3qs0PZ",
        "outputId": "8a110b4d-8d86-4345-99d3-aaad19d29830"
      },
      "outputs": [
        {
          "name": "stdout",
          "output_type": "stream",
          "text": [
            "9/9 [==============================] - 0s 1ms/step - loss: 3494.7285 - mae: 3494.7285\n"
          ]
        },
        {
          "data": {
            "text/plain": [
              "(3494.728515625, 3494.728515625)"
            ]
          },
          "execution_count": 151,
          "metadata": {
            "tags": []
          },
          "output_type": "execute_result"
        }
      ],
      "source": [
        "# Evaluate the model trained for 200 total epochs\n",
        "insurance_model_2_loss, insurance_model_2_mae = insurance_model_2.evaluate(X_test, y_test)\n",
        "insurance_model_2_loss, insurance_model_2_mae"
      ]
    },
    {
      "cell_type": "markdown",
      "metadata": {
        "id": "MzUySYEOs-O_"
      },
      "source": [
        "Boom! Training for an extra 100 epochs we see about a 10% decrease in error.\n",
        "\n",
        "How does the visual look?"
      ]
    },
    {
      "cell_type": "code",
      "execution_count": null,
      "metadata": {
        "colab": {
          "base_uri": "https://localhost:8080/",
          "height": 279
        },
        "id": "BtYKSLeQjuzL",
        "outputId": "68e8d3c4-7252-40c4-e9e9-326a5a1df4cd"
      },
      "outputs": [
        {
          "data": {
            "image/png": "[encoded data removed]",
            "text/plain": [
              "<Figure size 432x288 with 1 Axes>"
            ]
          },
          "metadata": {
            "needs_background": "light",
            "tags": []
          },
          "output_type": "display_data"
        }
      ],
      "source": [
        "# Plot the model trained for 200 total epochs loss curves\n",
        "pd.DataFrame(history_2.history).plot()\n",
        "plt.ylabel(\"loss\")\n",
        "plt.xlabel(\"epochs\"); # note: epochs will only show 100 since we overrid the history variable"
      ]
    },
    {
      "cell_type": "markdown",
      "metadata": {
        "id": "HS8xYkvIuVZZ"
      },
      "source": [
        "## Preprocessing data (normalization and standardization)\n",
        "\n",
        "A common practice when working with neural networks is to make sure all of the data you pass to them is in the range 0 to 1.\n",
        "\n",
        "This practice is called **normalization** (scaling all values from their original range to, e.g. between 0 and 100,000 to be between 0 and 1).\n",
        "\n",
        "There is another process call **standardization** which converts all of your data to unit variance and 0 mean.\n",
        "\n",
        "These two practices are often part of a preprocessing pipeline (a series of functions to prepare your data for use with neural networks).\n",
        "\n",
        "Knowing this, some of the major steps you'll take to preprocess your data for a neural network include:\n",
        "* Turning all of your data to numbers (a neural network can't handle strings).\n",
        "* Making sure your data is in the right shape (verifying input and output shapes).\n",
        "* [**Feature scaling**](https://scikit-learn.org/stable/modules/preprocessing.html#preprocessing-scaler):\n",
        "    * Normalizing data (making sure all values are between 0 and 1). This is done by subtracting the minimum value then dividing by the maximum value minus the minmum. This is also referred to as min-max scaling.\n",
        "    * Standardization (making sure all values have a mean of 0 and a variance of 1). This is done by substracting the mean value from the target feature and then dividing it by the standard deviation.\n",
        "    * Which one should you use?\n",
        "      * **With neural networks you'll tend to favour normalization** as they tend to prefer values between 0 and 1 (you'll see this espcially with image processing), however, you'll often find a neural network can perform pretty well with minimal feature scaling.\n",
        "\n",
        "> 📖 **Resource:** For more on preprocessing data, I'd recommend reading the following resources:\n",
        "* [Scikit-Learn's documentation on preprocessing data](https://scikit-learn.org/stable/modules/preprocessing.html#preprocessing-data).\n",
        "* [Scale, Standardize or Normalize with Scikit-Learn by Jeff Hale](https://towardsdatascience.com/scale-standardize-or-normalize-with-scikit-learn-6ccc7d176a02).\n",
        "\n",
        "We've already turned our data into numbers using `get_dummies()`, let's see how we'd normalize it as well."
      ]
    },
    {
      "cell_type": "code",
      "execution_count": null,
      "metadata": {
        "id": "9v7P20A2d7H6"
      },
      "outputs": [],
      "source": [
        "import pandas as pd\n",
        "import matplotlib.pyplot as plt\n",
        "import tensorflow as tf\n",
        "\n",
        "# Read in the insurance dataset\n",
        "insurance = pd.read_csv(\"https://raw.githubusercontent.com/stedy/Machine-Learning-with-R-datasets/master/insurance.csv\")"
      ]
    },
    {
      "cell_type": "code",
      "execution_count": null,
      "metadata": {
        "colab": {
          "base_uri": "https://localhost:8080/",
          "height": 195
        },
        "id": "vir8UAIwlUOo",
        "outputId": "f2b392b0-4e63-49a2-af35-248919293a21"
      },
      "outputs": [
        {
          "data": {
            "text/html": [
              "<div>\n",
              "<style scoped>\n",
              "    .dataframe tbody tr th:only-of-type {\n",
              "        vertical-align: middle;\n",
              "    }\n",
              "\n",
              "    .dataframe tbody tr th {\n",
              "        vertical-align: top;\n",
              "    }\n",
              "\n",
              "    .dataframe thead th {\n",
              "        text-align: right;\n",
              "    }\n",
              "</style>\n",
              "<table border=\"1\" class=\"dataframe\">\n",
              "  <thead>\n",
              "    <tr style=\"text-align: right;\">\n",
              "      <th></th>\n",
              "      <th>age</th>\n",
              "      <th>sex</th>\n",
              "      <th>bmi</th>\n",
              "      <th>children</th>\n",
              "      <th>smoker</th>\n",
              "      <th>region</th>\n",
              "      <th>charges</th>\n",
              "    </tr>\n",
              "  </thead>\n",
              "  <tbody>\n",
              "    <tr>\n",
              "      <th>0</th>\n",
              "      <td>19</td>\n",
              "      <td>female</td>\n",
              "      <td>27.900</td>\n",
              "      <td>0</td>\n",
              "      <td>yes</td>\n",
              "      <td>southwest</td>\n",
              "      <td>16884.92400</td>\n",
              "    </tr>\n",
              "    <tr>\n",
              "      <th>1</th>\n",
              "      <td>18</td>\n",
              "      <td>male</td>\n",
              "      <td>33.770</td>\n",
              "      <td>1</td>\n",
              "      <td>no</td>\n",
              "      <td>southeast</td>\n",
              "      <td>1725.55230</td>\n",
              "    </tr>\n",
              "    <tr>\n",
              "      <th>2</th>\n",
              "      <td>28</td>\n",
              "      <td>male</td>\n",
              "      <td>33.000</td>\n",
              "      <td>3</td>\n",
              "      <td>no</td>\n",
              "      <td>southeast</td>\n",
              "      <td>4449.46200</td>\n",
              "    </tr>\n",
              "    <tr>\n",
              "      <th>3</th>\n",
              "      <td>33</td>\n",
              "      <td>male</td>\n",
              "      <td>22.705</td>\n",
              "      <td>0</td>\n",
              "      <td>no</td>\n",
              "      <td>northwest</td>\n",
              "      <td>21984.47061</td>\n",
              "    </tr>\n",
              "    <tr>\n",
              "      <th>4</th>\n",
              "      <td>32</td>\n",
              "      <td>male</td>\n",
              "      <td>28.880</td>\n",
              "      <td>0</td>\n",
              "      <td>no</td>\n",
              "      <td>northwest</td>\n",
              "      <td>3866.85520</td>\n",
              "    </tr>\n",
              "  </tbody>\n",
              "</table>\n",
              "</div>"
            ],
            "text/plain": [
              "   age     sex     bmi  children smoker     region      charges\n",
              "0   19  female  27.900         0    yes  southwest  16884.92400\n",
              "1   18    male  33.770         1     no  southeast   1725.55230\n",
              "2   28    male  33.000         3     no  southeast   4449.46200\n",
              "3   33    male  22.705         0     no  northwest  21984.47061\n",
              "4   32    male  28.880         0     no  northwest   3866.85520"
            ]
          },
          "execution_count": 32,
          "metadata": {},
          "output_type": "execute_result"
        }
      ],
      "source": [
        "# Check out the data\n",
        "insurance.head()"
      ]
    },
    {
      "cell_type": "markdown",
      "metadata": {
        "id": "SHMQiNosg3J3"
      },
      "source": [
        "Now, just as before, we need to transform the non-numerical columns into numbers and this time we'll also be normalizing the numerical columns with different ranges (to make sure they're all between 0 and 1).\n",
        "\n",
        "To do this, we're going to use a few classes from Scikit-Learn:\n",
        "* [`make_column_transformer`](https://scikit-learn.org/stable/modules/generated/sklearn.compose.make_column_transformer.html) - build a multi-step data preprocessing function for the folllowing trnasformations:\n",
        "  * [`MinMaxScaler`](https://scikit-learn.org/stable/modules/generated/sklearn.preprocessing.MinMaxScaler.html) - make sure all numerical columns are normalized (between 0 and 1).\n",
        "  * [`OneHotEncoder`](https://scikit-learn.org/stable/modules/generated/sklearn.preprocessing.OneHotEncoder.html) - one hot encode the non-numerical columns.\n",
        "\n",
        "Let's see them in action."
      ]
    },
    {
      "cell_type": "code",
      "execution_count": null,
      "metadata": {
        "id": "-x9JwbV0hqWh"
      },
      "outputs": [],
      "source": [
        "from sklearn.compose import make_column_transformer\n",
        "from sklearn.preprocessing import MinMaxScaler, OneHotEncoder\n",
        "\n",
        "# Create column transformer (this will help us normalize/preprocess our data)\n",
        "ct = make_column_transformer(\n",
        "    (MinMaxScaler(), [\"age\", \"bmi\", \"children\"]), # get all values between 0 and 1\n",
        "    (OneHotEncoder(handle_unknown=\"ignore\"), [\"sex\", \"smoker\", \"region\"])\n",
        ")\n",
        "\n",
        "# Create X & y\n",
        "X = insurance.drop(\"charges\", axis=1)\n",
        "y = insurance[\"charges\"]\n",
        "\n",
        "# Build our train and test sets (use random state to ensure same split as before)\n",
        "X_train, X_test, y_train, y_test = train_test_split(X, y, test_size=0.2, random_state=42)\n",
        "\n",
        "# Fit column transformer on the training data only (doing so on test data would result in data leakage)\n",
        "ct.fit(X_train)\n",
        "\n",
        "# Transform training and test data with normalization (MinMaxScalar) and one hot encoding (OneHotEncoder)\n",
        "X_train_normal = ct.transform(X_train)\n",
        "X_test_normal = ct.transform(X_test)"
      ]
    },
    {
      "cell_type": "markdown",
      "metadata": {
        "id": "Tz58y3nPiBJ-"
      },
      "source": [
        "Now we've normalized it and one-hot encoding it, what does our data look like now?"
      ]
    },
    {
      "cell_type": "code",
      "execution_count": null,
      "metadata": {
        "colab": {
          "base_uri": "https://localhost:8080/"
        },
        "id": "VODt2YiziK45",
        "outputId": "0ffba739-63b8-4ccc-dcef-4b189c6162ee"
      },
      "outputs": [
        {
          "data": {
            "text/plain": [
              "age                19\n",
              "sex            female\n",
              "bmi              27.9\n",
              "children            0\n",
              "smoker            yes\n",
              "region      southwest\n",
              "Name: 0, dtype: object"
            ]
          },
          "execution_count": 57,
          "metadata": {},
          "output_type": "execute_result"
        }
      ],
      "source": [
        "# Non-normalized and non-one-hot encoded data example\n",
        "X_train.loc[0]"
      ]
    },
    {
      "cell_type": "code",
      "execution_count": null,
      "metadata": {
        "colab": {
          "base_uri": "https://localhost:8080/"
        },
        "id": "mMYDXdwUnNVt",
        "outputId": "fb2ae984-9e0a-4cad-8475-c2ada4cfb7e6"
      },
      "outputs": [
        {
          "data": {
            "text/plain": [
              "array([0.60869565, 0.10734463, 0.4       , 1.        , 0.        ,\n",
              "       1.        , 0.        , 0.        , 1.        , 0.        ,\n",
              "       0.        ])"
            ]
          },
          "execution_count": 58,
          "metadata": {},
          "output_type": "execute_result"
        }
      ],
      "source": [
        "# Normalized and one-hot encoded example\n",
        "X_train_normal[0]"
      ]
    },
    {
      "cell_type": "markdown",
      "metadata": {
        "id": "9iI4KtfWib44"
      },
      "source": [
        "How about the shapes?"
      ]
    },
    {
      "cell_type": "code",
      "execution_count": null,
      "metadata": {
        "colab": {
          "base_uri": "https://localhost:8080/"
        },
        "id": "SFmxzqrWntj7",
        "outputId": "739eed46-6edc-4487-820b-7c1317300161"
      },
      "outputs": [
        {
          "data": {
            "text/plain": [
              "((1070, 11), (1070, 6))"
            ]
          },
          "execution_count": 59,
          "metadata": {},
          "output_type": "execute_result"
        }
      ],
      "source": [
        "# Notice the normalized/one-hot encoded shape is larger because of the extra columns\n",
        "X_train_normal.shape, X_train.shape"
      ]
    },
    {
      "cell_type": "markdown",
      "metadata": {
        "id": "MST951aYijTS"
      },
      "source": [
        "Our data is normalized and numerical, let's model it.\n",
        "\n",
        "We'll use the same model as `insurance_model_2`."
      ]
    },
    {
      "cell_type": "code",
      "execution_count": null,
      "metadata": {
        "colab": {
          "base_uri": "https://localhost:8080/"
        },
        "id": "TdHnIQqll83Y",
        "outputId": "cbebadf4-96e7-4353-edd5-d1b327f689e8"
      },
      "outputs": [
        {
          "ename": "ValueError",
          "evalue": "This model has not yet been built. Build the model first by calling `build()` or calling `fit()` with some data, or specify an `input_shape` argument in the first layer(s) for automatic build.",
          "output_type": "error",
          "traceback": [
            "\u001b[0;31m---------------------------------------------------------------------------\u001b[0m",
            "\u001b[0;31mValueError\u001b[0m                                Traceback (most recent call last)",
            "\u001b[0;32m/tmp/ipykernel_63543/2355132742.py\u001b[0m in \u001b[0;36m<module>\u001b[0;34m\u001b[0m\n\u001b[1;32m     13\u001b[0m                           \u001b[0moptimizer\u001b[0m\u001b[0;34m=\u001b[0m\u001b[0mtf\u001b[0m\u001b[0;34m.\u001b[0m\u001b[0mkeras\u001b[0m\u001b[0;34m.\u001b[0m\u001b[0moptimizers\u001b[0m\u001b[0;34m.\u001b[0m\u001b[0mAdam\u001b[0m\u001b[0;34m(\u001b[0m\u001b[0;34m)\u001b[0m\u001b[0;34m,\u001b[0m\u001b[0;34m\u001b[0m\u001b[0;34m\u001b[0m\u001b[0m\n\u001b[1;32m     14\u001b[0m                           metrics=['mae'])\n\u001b[0;32m---> 15\u001b[0;31m \u001b[0minsurance_model_3\u001b[0m\u001b[0;34m.\u001b[0m\u001b[0msummary\u001b[0m\u001b[0;34m(\u001b[0m\u001b[0;34m)\u001b[0m\u001b[0;34m\u001b[0m\u001b[0;34m\u001b[0m\u001b[0m\n\u001b[0m\u001b[1;32m     16\u001b[0m \u001b[0;31m# Fit the model for 200 epochs (same as insurance_model_2)\u001b[0m\u001b[0;34m\u001b[0m\u001b[0;34m\u001b[0m\u001b[0;34m\u001b[0m\u001b[0m\n\u001b[1;32m     17\u001b[0m \u001b[0minsurance_model_3\u001b[0m\u001b[0;34m.\u001b[0m\u001b[0mfit\u001b[0m\u001b[0;34m(\u001b[0m\u001b[0mX_train_normal\u001b[0m\u001b[0;34m,\u001b[0m \u001b[0my_train\u001b[0m\u001b[0;34m,\u001b[0m \u001b[0mepochs\u001b[0m\u001b[0;34m=\u001b[0m\u001b[0;36m200\u001b[0m\u001b[0;34m,\u001b[0m \u001b[0mverbose\u001b[0m\u001b[0;34m=\u001b[0m\u001b[0;36m0\u001b[0m\u001b[0;34m)\u001b[0m\u001b[0;34m\u001b[0m\u001b[0;34m\u001b[0m\u001b[0m\n",
            "\u001b[0;32m~/.local/lib/python3.8/site-packages/tensorflow/python/keras/engine/training.py\u001b[0m in \u001b[0;36msummary\u001b[0;34m(self, line_length, positions, print_fn)\u001b[0m\n\u001b[1;32m   2475\u001b[0m     \"\"\"\n\u001b[1;32m   2476\u001b[0m     \u001b[0;32mif\u001b[0m \u001b[0;32mnot\u001b[0m \u001b[0mself\u001b[0m\u001b[0;34m.\u001b[0m\u001b[0mbuilt\u001b[0m\u001b[0;34m:\u001b[0m\u001b[0;34m\u001b[0m\u001b[0;34m\u001b[0m\u001b[0m\n\u001b[0;32m-> 2477\u001b[0;31m       raise ValueError('This model has not yet been built. '\n\u001b[0m\u001b[1;32m   2478\u001b[0m                        \u001b[0;34m'Build the model first by calling `build()` or calling '\u001b[0m\u001b[0;34m\u001b[0m\u001b[0;34m\u001b[0m\u001b[0m\n\u001b[1;32m   2479\u001b[0m                        \u001b[0;34m'`fit()` with some data, or specify '\u001b[0m\u001b[0;34m\u001b[0m\u001b[0;34m\u001b[0m\u001b[0m\n",
            "\u001b[0;31mValueError\u001b[0m: This model has not yet been built. Build the model first by calling `build()` or calling `fit()` with some data, or specify an `input_shape` argument in the first layer(s) for automatic build."
          ]
        }
      ],
      "source": [
        "# Set random seed\n",
        "tf.random.set_seed(42)\n",
        "\n",
        "# Build the model (3 layers, 100, 10, 1 units)\n",
        "insurance_model_3 = tf.keras.Sequential([\n",
        "  tf.keras.layers.Dense(100),\n",
        "  tf.keras.layers.Dense(10),\n",
        "  tf.keras.layers.Dense(1)\n",
        "])\n",
        "\n",
        "# Compile the model\n",
        "insurance_model_3.compile(loss=tf.keras.losses.mae,\n",
        "                          optimizer=tf.keras.optimizers.Adam(),\n",
        "                          metrics=['mae'])\n",
        "insurance_model_3.summary()\n",
        "# Fit the model for 200 epochs (same as insurance_model_2)\n",
        "insurance_model_3.fit(X_train_normal, y_train, epochs=200, verbose=0) "
      ]
    },
    {
      "cell_type": "markdown",
      "metadata": {
        "id": "-DjwktO6jW41"
      },
      "source": [
        "Let's evaluate the model on normalized test set."
      ]
    },
    {
      "cell_type": "code",
      "execution_count": null,
      "metadata": {
        "colab": {
          "base_uri": "https://localhost:8080/"
        },
        "id": "sBcXZu9AnZfP",
        "outputId": "4f815a32-198f-41df-8115-56b98beceec2"
      },
      "outputs": [
        {
          "name": "stdout",
          "output_type": "stream",
          "text": [
            "9/9 [==============================] - 0s 1ms/step - loss: 3171.7632 - mae: 3171.7632\n"
          ]
        }
      ],
      "source": [
        "# Evaulate 3rd model\n",
        "insurance_model_3_loss, insurance_model_3_mae = insurance_model_3.evaluate(X_test_normal, y_test)"
      ]
    },
    {
      "cell_type": "markdown",
      "metadata": {
        "id": "ZlHro290jhtX"
      },
      "source": [
        "And finally, let's compare the results from `insurance_model_2` (trained on non-normalized data) and `insurance_model_3` (trained on normalized data)."
      ]
    },
    {
      "cell_type": "code",
      "execution_count": null,
      "metadata": {
        "colab": {
          "base_uri": "https://localhost:8080/"
        },
        "id": "ybZtnVlNjCJO",
        "outputId": "88ebc44b-da7b-42b2-823a-2a81384be0bf"
      },
      "outputs": [
        {
          "data": {
            "text/plain": [
              "(3494.728515625, 3171.76318359375)"
            ]
          },
          "execution_count": 161,
          "metadata": {
            "tags": []
          },
          "output_type": "execute_result"
        }
      ],
      "source": [
        "# Compare modelling results from non-normalized data and normalized data\n",
        "insurance_model_2_mae, insurance_model_3_mae"
      ]
    },
    {
      "cell_type": "markdown",
      "metadata": {
        "id": "gUttViY4jzi8"
      },
      "source": [
        "From this we can see normalizing the data results in 10% less error using the same model than not normalizing the data.\n",
        "\n",
        "This is **one of the main benefits of normalization: faster convergence time** (a fancy way of saying, your model gets to better results faster).\n",
        "\n",
        "`insurance_model_2` may have eventually achieved the same results as `insurance_model_3` if we left it training for longer. \n",
        "\n",
        "Also, the results may change if we were to alter the architectures of the models, e.g. more hidden units per layer or more layers.\n",
        "\n",
        "But since our main goal as neural network practioners is to decrease the time between experiments, anything that helps us get better results sooner is a plus."
      ]
    },
    {
      "cell_type": "markdown",
      "metadata": {
        "id": "NhIPO_KqocHP"
      },
      "source": [
        "## 🛠 Exercises\n",
        "\n",
        "We've a covered a whole lot pretty quickly.\n",
        "\n",
        "So now it's time to have a **play around** with a few things and start to build up your initution.\n",
        "\n",
        "I emphasise the words play around because that's very important. Try a few things out, run the code and see what happens.\n",
        "\n",
        "1. Create your own regression dataset (or make the one we created in \"Create data to view and fit\" bigger) and build fit a model to it.\n",
        "2. Try building a neural network with 4 Dense layers and fitting it to your own regression dataset, how does it perform?\n",
        "3. Try and improve the results we got on the insurance dataset, some things you might want to try include:\n",
        "  * Building a larger model (how does one with 4 dense layers go?).\n",
        "  * Increasing the number of units in each layer.\n",
        "  * Lookup the documentation of [Adam](https://www.tensorflow.org/api_docs/python/tf/keras/optimizers/Adam) and find out what the first parameter is, what happens if you increase it by 10x?\n",
        "  * What happens if you train for longer (say 300 epochs instead of 200)? \n",
        "4. Import the [Boston pricing dataset](https://www.tensorflow.org/api_docs/python/tf/keras/datasets/boston_housing/load_data) from TensorFlow [`tf.keras.datasets`](https://www.tensorflow.org/api_docs/python/tf/keras/datasets) and model it.\n"
      ]
    },
    {
      "cell_type": "code",
      "execution_count": null,
      "metadata": {},
      "outputs": [],
      "source": [
        "random_1 = tf.random.Generator.from_seed(42) # set the seed for reproducibility\n",
        "X_train = random_1.normal(shape=(1000, 10))\n",
        "\n",
        "random_1 = tf.random.Generator.from_seed(42) # set the seed for reproducibility\n",
        "y_train = tf.reduce_sum(X_train, axis=1)[..., tf.newaxis] + random_1.normal(mean=0, stddev=0.001,  shape=(1000, 1))"
      ]
    },
    {
      "cell_type": "code",
      "execution_count": null,
      "metadata": {},
      "outputs": [
        {
          "data": {
            "text/plain": [
              "TensorShape([1000, 10])"
            ]
          },
          "execution_count": 158,
          "metadata": {},
          "output_type": "execute_result"
        }
      ],
      "source": [
        "X_train.shape"
      ]
    },
    {
      "cell_type": "code",
      "execution_count": null,
      "metadata": {},
      "outputs": [
        {
          "data": {
            "text/plain": [
              "TensorShape([1000, 1])"
            ]
          },
          "execution_count": 159,
          "metadata": {},
          "output_type": "execute_result"
        }
      ],
      "source": [
        "y_train.shape"
      ]
    },
    {
      "cell_type": "code",
      "execution_count": null,
      "metadata": {},
      "outputs": [
        {
          "name": "stdout",
          "output_type": "stream",
          "text": [
            "Model: \"model_8\"\n",
            "_________________________________________________________________\n",
            "Layer (type)                 Output Shape              Param #   \n",
            "=================================================================\n",
            "input_16 (InputLayer)        [(None, 10)]              0         \n",
            "_________________________________________________________________\n",
            "dense_51 (Dense)             (None, 100)               1100      \n",
            "_________________________________________________________________\n",
            "dense_52 (Dense)             (None, 10)                1010      \n",
            "_________________________________________________________________\n",
            "dense_53 (Dense)             (None, 1)                 11        \n",
            "=================================================================\n",
            "Total params: 2,121\n",
            "Trainable params: 2,121\n",
            "Non-trainable params: 0\n",
            "_________________________________________________________________\n"
          ]
        }
      ],
      "source": [
        "from tensorflow.keras.models import Model\n",
        "def generate_model(inputs):\n",
        "    x = tf.keras.layers.Dense(units = 100, activation='relu')(inputs)\n",
        "    x = tf.keras.layers.Dense(units = 10, activation='relu')(x)\n",
        "    x = tf.keras.layers.Dense(units = 1, activation='relu')(x)\n",
        "    return Model(inputs = inputs, outputs=x) #  generate_model()\n",
        "inputs = tf.keras.layers.Input(shape=(10,))\n",
        "model = generate_model(inputs)\n",
        "model.summary()"
      ]
    },
    {
      "cell_type": "code",
      "execution_count": null,
      "metadata": {},
      "outputs": [
        {
          "name": "stdout",
          "output_type": "stream",
          "text": [
            "Epoch 1/100\n",
            "32/32 [==============================] - 0s 519us/step - loss: 8.6267 - mae: 2.3425\n",
            "Epoch 2/100\n",
            "32/32 [==============================] - 0s 576us/step - loss: 7.0133 - mae: 2.0773\n",
            "Epoch 3/100\n",
            "32/32 [==============================] - 0s 499us/step - loss: 5.5708 - mae: 1.7582\n",
            "Epoch 4/100\n",
            "32/32 [==============================] - 0s 627us/step - loss: 4.8756 - mae: 1.4972\n",
            "Epoch 5/100\n",
            "32/32 [==============================] - 0s 596us/step - loss: 4.6779 - mae: 1.3741\n",
            "Epoch 6/100\n",
            "32/32 [==============================] - 0s 611us/step - loss: 4.6438 - mae: 1.3351\n",
            "Epoch 7/100\n",
            "32/32 [==============================] - 0s 567us/step - loss: 4.6354 - mae: 1.3181\n",
            "Epoch 8/100\n",
            "32/32 [==============================] - 0s 582us/step - loss: 4.6291 - mae: 1.3040\n",
            "Epoch 9/100\n",
            "32/32 [==============================] - 0s 559us/step - loss: 4.6263 - mae: 1.2957\n",
            "Epoch 10/100\n",
            "32/32 [==============================] - 0s 630us/step - loss: 4.6252 - mae: 1.2925\n",
            "Epoch 11/100\n",
            "32/32 [==============================] - 0s 612us/step - loss: 4.6239 - mae: 1.2884\n",
            "Epoch 12/100\n",
            "32/32 [==============================] - 0s 560us/step - loss: 4.6237 - mae: 1.2867\n",
            "Epoch 13/100\n",
            "32/32 [==============================] - 0s 576us/step - loss: 4.6226 - mae: 1.2838\n",
            "Epoch 14/100\n",
            "32/32 [==============================] - 0s 577us/step - loss: 4.6225 - mae: 1.2828\n",
            "Epoch 15/100\n",
            "32/32 [==============================] - 0s 650us/step - loss: 4.6220 - mae: 1.2811\n",
            "Epoch 16/100\n",
            "32/32 [==============================] - 0s 600us/step - loss: 4.6217 - mae: 1.2795\n",
            "Epoch 17/100\n",
            "32/32 [==============================] - 0s 569us/step - loss: 4.6221 - mae: 1.2807\n",
            "Epoch 18/100\n",
            "32/32 [==============================] - 0s 622us/step - loss: 4.6214 - mae: 1.2775\n",
            "Epoch 19/100\n",
            "32/32 [==============================] - 0s 615us/step - loss: 4.6212 - mae: 1.2779\n",
            "Epoch 20/100\n",
            "32/32 [==============================] - 0s 571us/step - loss: 4.6208 - mae: 1.2759\n",
            "Epoch 21/100\n",
            "32/32 [==============================] - 0s 552us/step - loss: 4.6213 - mae: 1.2772\n",
            "Epoch 22/100\n",
            "32/32 [==============================] - 0s 666us/step - loss: 4.6210 - mae: 1.2766\n",
            "Epoch 23/100\n",
            "32/32 [==============================] - 0s 548us/step - loss: 4.6208 - mae: 1.2757\n",
            "Epoch 24/100\n",
            "32/32 [==============================] - 0s 591us/step - loss: 4.6205 - mae: 1.2740\n",
            "Epoch 25/100\n",
            "32/32 [==============================] - 0s 551us/step - loss: 4.6203 - mae: 1.2723\n",
            "Epoch 26/100\n",
            "32/32 [==============================] - 0s 559us/step - loss: 4.6206 - mae: 1.2743\n",
            "Epoch 27/100\n",
            "32/32 [==============================] - 0s 525us/step - loss: 4.6204 - mae: 1.2730\n",
            "Epoch 28/100\n",
            "32/32 [==============================] - 0s 552us/step - loss: 4.6209 - mae: 1.2766\n",
            "Epoch 29/100\n",
            "32/32 [==============================] - 0s 549us/step - loss: 4.6200 - mae: 1.2709\n",
            "Epoch 30/100\n",
            "32/32 [==============================] - 0s 543us/step - loss: 4.6201 - mae: 1.2711\n",
            "Epoch 31/100\n",
            "32/32 [==============================] - 0s 553us/step - loss: 4.6202 - mae: 1.2721\n",
            "Epoch 32/100\n",
            "32/32 [==============================] - 0s 575us/step - loss: 4.6206 - mae: 1.2747\n",
            "Epoch 33/100\n",
            "32/32 [==============================] - 0s 558us/step - loss: 4.6199 - mae: 1.2698\n",
            "Epoch 34/100\n",
            "32/32 [==============================] - 0s 555us/step - loss: 4.6197 - mae: 1.2705\n",
            "Epoch 35/100\n",
            "32/32 [==============================] - 0s 614us/step - loss: 4.6204 - mae: 1.2734\n",
            "Epoch 36/100\n",
            "32/32 [==============================] - 0s 548us/step - loss: 4.6197 - mae: 1.2696\n",
            "Epoch 37/100\n",
            "32/32 [==============================] - 0s 550us/step - loss: 4.6203 - mae: 1.2731\n",
            "Epoch 38/100\n",
            "32/32 [==============================] - 0s 603us/step - loss: 4.6197 - mae: 1.2686\n",
            "Epoch 39/100\n",
            "32/32 [==============================] - 0s 543us/step - loss: 4.6199 - mae: 1.2703\n",
            "Epoch 40/100\n",
            "32/32 [==============================] - 0s 558us/step - loss: 4.6197 - mae: 1.2681\n",
            "Epoch 41/100\n",
            "32/32 [==============================] - 0s 540us/step - loss: 4.6198 - mae: 1.2698\n",
            "Epoch 42/100\n",
            "32/32 [==============================] - 0s 538us/step - loss: 4.6196 - mae: 1.2683\n",
            "Epoch 43/100\n",
            "32/32 [==============================] - 0s 571us/step - loss: 4.6196 - mae: 1.2690\n",
            "Epoch 44/100\n",
            "32/32 [==============================] - 0s 569us/step - loss: 4.6198 - mae: 1.2705\n",
            "Epoch 45/100\n",
            "32/32 [==============================] - 0s 556us/step - loss: 4.6194 - mae: 1.2678\n",
            "Epoch 46/100\n",
            "32/32 [==============================] - 0s 541us/step - loss: 4.6200 - mae: 1.2715\n",
            "Epoch 47/100\n",
            "32/32 [==============================] - 0s 537us/step - loss: 4.6192 - mae: 1.2660\n",
            "Epoch 48/100\n",
            "32/32 [==============================] - 0s 546us/step - loss: 4.6199 - mae: 1.2709\n",
            "Epoch 49/100\n",
            "32/32 [==============================] - 0s 580us/step - loss: 4.6197 - mae: 1.2690\n",
            "Epoch 50/100\n",
            "32/32 [==============================] - 0s 567us/step - loss: 4.6195 - mae: 1.2676\n",
            "Epoch 51/100\n",
            "32/32 [==============================] - 0s 559us/step - loss: 4.6196 - mae: 1.2701\n",
            "Epoch 52/100\n",
            "32/32 [==============================] - 0s 561us/step - loss: 4.6192 - mae: 1.2659\n",
            "Epoch 53/100\n",
            "32/32 [==============================] - 0s 552us/step - loss: 4.6194 - mae: 1.2660\n",
            "Epoch 54/100\n",
            "32/32 [==============================] - 0s 522us/step - loss: 4.6195 - mae: 1.2676\n",
            "Epoch 55/100\n",
            "32/32 [==============================] - 0s 642us/step - loss: 4.6194 - mae: 1.2672\n",
            "Epoch 56/100\n",
            "32/32 [==============================] - 0s 614us/step - loss: 4.6193 - mae: 1.2679\n",
            "Epoch 57/100\n",
            "32/32 [==============================] - 0s 622us/step - loss: 4.6196 - mae: 1.2687\n",
            "Epoch 58/100\n",
            "32/32 [==============================] - 0s 2ms/step - loss: 4.6193 - mae: 1.2670\n",
            "Epoch 59/100\n",
            "32/32 [==============================] - 0s 594us/step - loss: 4.6193 - mae: 1.2676\n",
            "Epoch 60/100\n",
            "32/32 [==============================] - 0s 672us/step - loss: 4.6195 - mae: 1.2672\n",
            "Epoch 61/100\n",
            "32/32 [==============================] - 0s 598us/step - loss: 4.6190 - mae: 1.2639\n",
            "Epoch 62/100\n",
            "32/32 [==============================] - 0s 538us/step - loss: 4.6198 - mae: 1.2694\n",
            "Epoch 63/100\n",
            "32/32 [==============================] - 0s 686us/step - loss: 4.6193 - mae: 1.2673\n",
            "Epoch 64/100\n",
            "32/32 [==============================] - 0s 546us/step - loss: 4.6193 - mae: 1.2658\n",
            "Epoch 65/100\n",
            "32/32 [==============================] - 0s 536us/step - loss: 4.6192 - mae: 1.2653\n",
            "Epoch 66/100\n",
            "32/32 [==============================] - 0s 556us/step - loss: 4.6197 - mae: 1.2701\n",
            "Epoch 67/100\n",
            "32/32 [==============================] - 0s 539us/step - loss: 4.6193 - mae: 1.2663\n",
            "Epoch 68/100\n",
            "32/32 [==============================] - 0s 555us/step - loss: 4.6190 - mae: 1.2645\n",
            "Epoch 69/100\n",
            "32/32 [==============================] - 0s 515us/step - loss: 4.6196 - mae: 1.2689\n",
            "Epoch 70/100\n",
            "32/32 [==============================] - 0s 738us/step - loss: 4.6190 - mae: 1.2644\n",
            "Epoch 71/100\n",
            "32/32 [==============================] - 0s 556us/step - loss: 4.6194 - mae: 1.2678\n",
            "Epoch 72/100\n",
            "32/32 [==============================] - 0s 521us/step - loss: 4.6193 - mae: 1.2669\n",
            "Epoch 73/100\n",
            "32/32 [==============================] - 0s 534us/step - loss: 4.6194 - mae: 1.2667\n",
            "Epoch 74/100\n",
            "32/32 [==============================] - 0s 505us/step - loss: 4.6194 - mae: 1.2668\n",
            "Epoch 75/100\n",
            "32/32 [==============================] - 0s 543us/step - loss: 4.6191 - mae: 1.2647\n",
            "Epoch 76/100\n",
            "32/32 [==============================] - 0s 532us/step - loss: 4.6195 - mae: 1.2679\n",
            "Epoch 77/100\n",
            "32/32 [==============================] - 0s 653us/step - loss: 4.6190 - mae: 1.2636\n",
            "Epoch 78/100\n",
            "32/32 [==============================] - 0s 833us/step - loss: 4.6192 - mae: 1.2651\n",
            "Epoch 79/100\n",
            "32/32 [==============================] - 0s 506us/step - loss: 4.6190 - mae: 1.2638\n",
            "Epoch 80/100\n",
            "32/32 [==============================] - 0s 524us/step - loss: 4.6192 - mae: 1.2668\n",
            "Epoch 81/100\n",
            "32/32 [==============================] - 0s 553us/step - loss: 4.6190 - mae: 1.2640\n",
            "Epoch 82/100\n",
            "32/32 [==============================] - 0s 559us/step - loss: 4.6194 - mae: 1.2669\n",
            "Epoch 83/100\n",
            "32/32 [==============================] - 0s 516us/step - loss: 4.6192 - mae: 1.2658\n",
            "Epoch 84/100\n",
            "32/32 [==============================] - 0s 642us/step - loss: 4.6194 - mae: 1.2670\n",
            "Epoch 85/100\n",
            "32/32 [==============================] - 0s 629us/step - loss: 4.6189 - mae: 1.2643\n",
            "Epoch 86/100\n",
            "32/32 [==============================] - 0s 521us/step - loss: 4.6191 - mae: 1.2645\n",
            "Epoch 87/100\n",
            "32/32 [==============================] - 0s 526us/step - loss: 4.6190 - mae: 1.2636\n",
            "Epoch 88/100\n",
            "32/32 [==============================] - 0s 508us/step - loss: 4.6195 - mae: 1.2671\n",
            "Epoch 89/100\n",
            "32/32 [==============================] - 0s 590us/step - loss: 4.6189 - mae: 1.2631\n",
            "Epoch 90/100\n",
            "32/32 [==============================] - 0s 498us/step - loss: 4.6191 - mae: 1.2646\n",
            "Epoch 91/100\n",
            "32/32 [==============================] - 0s 637us/step - loss: 4.6194 - mae: 1.2645\n",
            "Epoch 92/100\n",
            "32/32 [==============================] - 0s 642us/step - loss: 4.6189 - mae: 1.2639\n",
            "Epoch 93/100\n",
            "32/32 [==============================] - 0s 530us/step - loss: 4.6189 - mae: 1.2638\n",
            "Epoch 94/100\n",
            "32/32 [==============================] - 0s 536us/step - loss: 4.6195 - mae: 1.2667\n",
            "Epoch 95/100\n",
            "32/32 [==============================] - 0s 516us/step - loss: 4.6189 - mae: 1.2630\n",
            "Epoch 96/100\n",
            "32/32 [==============================] - 0s 572us/step - loss: 4.6190 - mae: 1.2644\n",
            "Epoch 97/100\n",
            "32/32 [==============================] - 0s 507us/step - loss: 4.6195 - mae: 1.2669\n",
            "Epoch 98/100\n",
            "32/32 [==============================] - 0s 547us/step - loss: 4.6188 - mae: 1.2619\n",
            "Epoch 99/100\n",
            "32/32 [==============================] - 0s 596us/step - loss: 4.6190 - mae: 1.2636\n",
            "Epoch 100/100\n",
            "32/32 [==============================] - 0s 530us/step - loss: 4.6193 - mae: 1.2661\n"
          ]
        },
        {
          "data": {
            "text/plain": [
              "<tensorflow.python.keras.callbacks.History at 0x7f93a980d100>"
            ]
          },
          "execution_count": 161,
          "metadata": {},
          "output_type": "execute_result"
        }
      ],
      "source": [
        "model.compile(loss='mse', metrics='mae')\n",
        "model.fit(X_train, y_train, epochs=100)"
      ]
    },
    {
      "cell_type": "markdown",
      "metadata": {
        "id": "AyiHG2nubmu7"
      },
      "source": [
        "## 📖 Extra curriculum\n",
        "\n",
        "If you're looking for extra materials relating to this notebook, I'd check out the following:\n",
        "\n",
        "* [MIT introduction deep learning lecture 1](https://youtu.be/njKP3FqW3Sk) - gives a great overview of what's happening behind all of the code we're running.\n",
        "* Reading: 1-hour of [Chapter 1 of Neural Networks and Deep Learning](http://neuralnetworksanddeeplearning.com/chap1.html) by Michael Nielson - a great in-depth and hands-on example of the intuition behind neural networks.\n",
        "\n",
        "To practice your regression modelling with TensorFlow, I'd also encourage you to look through [Lion Bridge's collection of datasets](https://lionbridge.ai/datasets/) or [Kaggle's datasets](https://www.kaggle.com/data), find a regression dataset which sparks your interest and try to model."
      ]
    }
  ],
  "metadata": {
    "colab": {
      "authorship_tag": "ABX9TyMpARlRsRDdP2fgkGTM9xv1",
      "collapsed_sections": [],
      "include_colab_link": true,
      "name": "01_neural_network_regression_in_tensorflow.ipynb",
      "provenance": [],
      "toc_visible": true
    },
    "interpreter": {
      "hash": "31f2aee4e71d21fbe5cf8b01ff0e069b9275f58929596ceb00d14d90e3e16cd6"
    },
    "kernelspec": {
      "display_name": "Python 3.8.10 64-bit",
      "name": "python3"
    },
    "language_info": {
      "codemirror_mode": {
        "name": "ipython",
        "version": 3
      },
      "file_extension": ".py",
      "mimetype": "text/x-python",
      "name": "python",
      "nbconvert_exporter": "python",
      "pygments_lexer": "ipython3",
      "version": "3.8.10"
    }
  },
  "nbformat": 4,
  "nbformat_minor": 0
}
