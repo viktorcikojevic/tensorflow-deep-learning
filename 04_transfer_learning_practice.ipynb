{
 "cells": [
  {
   "cell_type": "code",
   "execution_count": 1,
   "metadata": {},
   "outputs": [
    {
     "name": "stdout",
     "output_type": "stream",
     "text": [
      "There are 2 directories and 0 images in '10_food_classes_10_percent'.\n",
      "There are 10 directories and 0 images in '10_food_classes_10_percent/train'.\n",
      "There are 0 directories and 75 images in '10_food_classes_10_percent/train/fried_rice'.\n",
      "There are 0 directories and 75 images in '10_food_classes_10_percent/train/sushi'.\n",
      "There are 0 directories and 75 images in '10_food_classes_10_percent/train/hamburger'.\n",
      "There are 0 directories and 75 images in '10_food_classes_10_percent/train/ramen'.\n",
      "There are 0 directories and 75 images in '10_food_classes_10_percent/train/pizza'.\n",
      "There are 0 directories and 75 images in '10_food_classes_10_percent/train/ice_cream'.\n",
      "There are 0 directories and 75 images in '10_food_classes_10_percent/train/chicken_curry'.\n",
      "There are 0 directories and 75 images in '10_food_classes_10_percent/train/steak'.\n",
      "There are 0 directories and 75 images in '10_food_classes_10_percent/train/grilled_salmon'.\n",
      "There are 0 directories and 75 images in '10_food_classes_10_percent/train/chicken_wings'.\n",
      "There are 10 directories and 0 images in '10_food_classes_10_percent/test'.\n",
      "There are 0 directories and 250 images in '10_food_classes_10_percent/test/fried_rice'.\n",
      "There are 0 directories and 250 images in '10_food_classes_10_percent/test/sushi'.\n",
      "There are 0 directories and 250 images in '10_food_classes_10_percent/test/hamburger'.\n",
      "There are 0 directories and 250 images in '10_food_classes_10_percent/test/ramen'.\n",
      "There are 0 directories and 250 images in '10_food_classes_10_percent/test/pizza'.\n",
      "There are 0 directories and 250 images in '10_food_classes_10_percent/test/ice_cream'.\n",
      "There are 0 directories and 250 images in '10_food_classes_10_percent/test/chicken_curry'.\n",
      "There are 0 directories and 250 images in '10_food_classes_10_percent/test/steak'.\n",
      "There are 0 directories and 250 images in '10_food_classes_10_percent/test/grilled_salmon'.\n",
      "There are 0 directories and 250 images in '10_food_classes_10_percent/test/chicken_wings'.\n"
     ]
    }
   ],
   "source": [
    "# How many images in each folder?\n",
    "import os\n",
    "\n",
    "# Walk through 10 percent data directory and list number of files\n",
    "for dirpath, dirnames, filenames in os.walk(\"10_food_classes_10_percent\"):\n",
    "  print(f\"There are {len(dirnames)} directories and {len(filenames)} images in '{dirpath}'.\")"
   ]
  },
  {
   "cell_type": "code",
   "execution_count": 10,
   "metadata": {},
   "outputs": [
    {
     "name": "stdout",
     "output_type": "stream",
     "text": [
      "Found 750 images belonging to 10 classes.\n",
      "Found 2500 images belonging to 10 classes.\n"
     ]
    }
   ],
   "source": [
    "from tensorflow.keras.preprocessing.image import ImageDataGenerator\n",
    "\n",
    "target_shape = (224, 224)\n",
    "batch_size = 8\n",
    "\n",
    "train_dir = \"10_food_classes_10_percent/train/\"\n",
    "test_dir = \"10_food_classes_10_percent/test/\"\n",
    "\n",
    "train_datagen = ImageDataGenerator(rescale = 1./255)\n",
    "test_datagen = ImageDataGenerator(rescale = 1./255)\n",
    "\n",
    "train_data = train_datagen.flow_from_directory(directory=train_dir,\n",
    "                                               target_size=target_shape,\n",
    "                                               batch_size=batch_size,\n",
    "                                               class_mode='categorical')\n",
    "\n",
    "test_data = test_datagen.flow_from_directory(directory=test_dir,\n",
    "                                               target_size=target_shape,\n",
    "                                               batch_size=batch_size,\n",
    "                                               class_mode='categorical')\n"
   ]
  },
  {
   "cell_type": "code",
   "execution_count": 25,
   "metadata": {},
   "outputs": [],
   "source": [
    "import datetime\n",
    "\n",
    "def tensorboard_callback(dir_name, experiment_name):\n",
    "    log_dir = f'{dir_name}/experiment_name{datetime.datetime.now().strftime(\"%Y%m%d-%H%M%S\")}'\n",
    "    tb_callback = tf.keras.callbacks.TensorBoard(log_dir=log_dir)\n",
    "    print(f\"Saving TensorBoard log files to: {log_dir}\")\n",
    "    return tb_callback\n"
   ]
  },
  {
   "cell_type": "code",
   "execution_count": 14,
   "metadata": {},
   "outputs": [],
   "source": [
    "import tensorflow as tf\n",
    "import tensorflow_hub as hub\n",
    "from tensorflow.keras import layers\n"
   ]
  },
  {
   "cell_type": "code",
   "execution_count": 15,
   "metadata": {},
   "outputs": [],
   "source": [
    "# Resnet 50 V2 feature vector\n",
    "resnet_url = \"https://tfhub.dev/google/imagenet/resnet_v2_50/feature_vector/4\"\n",
    "\n",
    "# Original: EfficientNetB0 feature vector (version 1)\n",
    "efficientnet_url = \"https://tfhub.dev/tensorflow/efficientnet/b0/feature-vector/1\"\n",
    "\n",
    "# # New: EfficientNetB0 feature vector (version 2)\n",
    "# efficientnet_url = \"https://tfhub.dev/google/imagenet/efficientnet_v2_imagenet1k_b0/feature_vector/2\""
   ]
  },
  {
   "cell_type": "code",
   "execution_count": 22,
   "metadata": {},
   "outputs": [
    {
     "name": "stdout",
     "output_type": "stream",
     "text": [
      "Model: \"model_4\"\n",
      "_________________________________________________________________\n",
      "Layer (type)                 Output Shape              Param #   \n",
      "=================================================================\n",
      "input_5 (InputLayer)         [(None, 224, 224, 3)]     0         \n",
      "_________________________________________________________________\n",
      "feature_extractor_layer (Ker (None, 2048)              23564800  \n",
      "_________________________________________________________________\n",
      "classifier (Dense)           (None, 10)                20490     \n",
      "=================================================================\n",
      "Total params: 23,585,290\n",
      "Trainable params: 20,490\n",
      "Non-trainable params: 23,564,800\n",
      "_________________________________________________________________\n"
     ]
    }
   ],
   "source": [
    "def create_model(model_url, num_classes=10):\n",
    "\n",
    "    feature_extractor = hub.KerasLayer(model_url, \n",
    "                                       trainable=False,\n",
    "                                       name='feature_extractor_layer',\n",
    "                                       input_shape=target_shape+(3,))\n",
    "    \n",
    "    inputs = tf.keras.layers.Input(shape=(target_shape+(3,)))\n",
    "    x = feature_extractor(inputs)\n",
    "    x = tf.keras.layers.Dense(num_classes, activation='softmax', name='classifier')(x)\n",
    "    return tf.keras.Model(inputs=inputs, outputs=x)\n",
    "model = create_model(resnet_url)\n",
    "model.summary()\n",
    "model.compile(loss='categorical_crossentropy', \n",
    "              optimizer=tf.keras.optimizers.Adam(),\n",
    "              metrics=['accuracy'])"
   ]
  },
  {
   "cell_type": "code",
   "execution_count": 27,
   "metadata": {},
   "outputs": [
    {
     "name": "stderr",
     "output_type": "stream",
     "text": [
      "2021-11-11 10:34:09.933987: I tensorflow/core/profiler/lib/profiler_session.cc:126] Profiler session initializing.\n",
      "2021-11-11 10:34:09.934013: I tensorflow/core/profiler/lib/profiler_session.cc:141] Profiler session started.\n",
      "2021-11-11 10:34:09.939205: E tensorflow/core/profiler/internal/gpu/cupti_tracer.cc:1661] function cupti_interface_->Subscribe( &subscriber_, (CUpti_CallbackFunc)ApiCallback, this)failed with error CUPTI could not be loaded or symbol could not be found.\n",
      "2021-11-11 10:34:09.939296: I tensorflow/core/profiler/lib/profiler_session.cc:159] Profiler session tear down.\n",
      "2021-11-11 10:34:09.939314: E tensorflow/core/profiler/internal/gpu/cupti_tracer.cc:1752] function cupti_interface_->Finalize()failed with error CUPTI could not be loaded or symbol could not be found.\n"
     ]
    },
    {
     "name": "stdout",
     "output_type": "stream",
     "text": [
      "Saving TensorBoard log files to: tf_hub/experiment_name20211111-103409\n",
      "Epoch 1/5\n",
      " 1/94 [..............................] - ETA: 32s - loss: 0.1514 - accuracy: 1.0000"
     ]
    },
    {
     "name": "stderr",
     "output_type": "stream",
     "text": [
      "2021-11-11 10:34:10.582965: I tensorflow/core/profiler/lib/profiler_session.cc:126] Profiler session initializing.\n",
      "2021-11-11 10:34:10.583010: I tensorflow/core/profiler/lib/profiler_session.cc:141] Profiler session started.\n",
      "2021-11-11 10:34:10.583130: E tensorflow/core/profiler/internal/gpu/cupti_tracer.cc:1661] function cupti_interface_->Subscribe( &subscriber_, (CUpti_CallbackFunc)ApiCallback, this)failed with error CUPTI could not be loaded or symbol could not be found.\n"
     ]
    },
    {
     "name": "stdout",
     "output_type": "stream",
     "text": [
      " 2/94 [..............................] - ETA: 44s - loss: 0.1260 - accuracy: 1.0000"
     ]
    },
    {
     "name": "stderr",
     "output_type": "stream",
     "text": [
      "2021-11-11 10:34:10.895864: I tensorflow/core/profiler/lib/profiler_session.cc:66] Profiler session collecting data.\n",
      "2021-11-11 10:34:10.895970: E tensorflow/core/profiler/internal/gpu/cupti_tracer.cc:1752] function cupti_interface_->Finalize()failed with error CUPTI could not be loaded or symbol could not be found.\n",
      "2021-11-11 10:34:10.896615: I tensorflow/core/profiler/internal/gpu/cupti_collector.cc:673]  GpuTracer has collected 0 callback api events and 0 activity events. \n",
      "2021-11-11 10:34:10.899585: I tensorflow/core/profiler/lib/profiler_session.cc:159] Profiler session tear down.\n",
      "2021-11-11 10:34:10.901855: I tensorflow/core/profiler/rpc/client/save_profile.cc:137] Creating directory: tf_hub/experiment_name20211111-103409/train/plugins/profile/2021_11_11_10_34_10\n",
      "2021-11-11 10:34:10.902994: I tensorflow/core/profiler/rpc/client/save_profile.cc:143] Dumped gzipped tool data for trace.json.gz to tf_hub/experiment_name20211111-103409/train/plugins/profile/2021_11_11_10_34_10/viktor-machine.trace.json.gz\n",
      "2021-11-11 10:34:10.904701: I tensorflow/core/profiler/rpc/client/save_profile.cc:137] Creating directory: tf_hub/experiment_name20211111-103409/train/plugins/profile/2021_11_11_10_34_10\n",
      "2021-11-11 10:34:10.904805: I tensorflow/core/profiler/rpc/client/save_profile.cc:143] Dumped gzipped tool data for memory_profile.json.gz to tf_hub/experiment_name20211111-103409/train/plugins/profile/2021_11_11_10_34_10/viktor-machine.memory_profile.json.gz\n",
      "2021-11-11 10:34:10.905031: I tensorflow/core/profiler/rpc/client/capture_profile.cc:251] Creating directory: tf_hub/experiment_name20211111-103409/train/plugins/profile/2021_11_11_10_34_10Dumped tool data for xplane.pb to tf_hub/experiment_name20211111-103409/train/plugins/profile/2021_11_11_10_34_10/viktor-machine.xplane.pb\n",
      "Dumped tool data for overview_page.pb to tf_hub/experiment_name20211111-103409/train/plugins/profile/2021_11_11_10_34_10/viktor-machine.overview_page.pb\n",
      "Dumped tool data for input_pipeline.pb to tf_hub/experiment_name20211111-103409/train/plugins/profile/2021_11_11_10_34_10/viktor-machine.input_pipeline.pb\n",
      "Dumped tool data for tensorflow_stats.pb to tf_hub/experiment_name20211111-103409/train/plugins/profile/2021_11_11_10_34_10/viktor-machine.tensorflow_stats.pb\n",
      "Dumped tool data for kernel_stats.pb to tf_hub/experiment_name20211111-103409/train/plugins/profile/2021_11_11_10_34_10/viktor-machine.kernel_stats.pb\n",
      "\n"
     ]
    },
    {
     "name": "stdout",
     "output_type": "stream",
     "text": [
      "94/94 [==============================] - 107s 1s/step - loss: 0.1365 - accuracy: 0.9853 - val_loss: 0.6259 - val_accuracy: 0.7976\n",
      "Epoch 2/5\n",
      "94/94 [==============================] - 105s 1s/step - loss: 0.1048 - accuracy: 0.9947 - val_loss: 0.6147 - val_accuracy: 0.7972\n",
      "Epoch 3/5\n",
      "94/94 [==============================] - 109s 1s/step - loss: 0.0828 - accuracy: 0.9960 - val_loss: 0.6455 - val_accuracy: 0.7848\n",
      "Epoch 4/5\n",
      "94/94 [==============================] - 108s 1s/step - loss: 0.0665 - accuracy: 0.9973 - val_loss: 0.6375 - val_accuracy: 0.7912\n",
      "Epoch 5/5\n",
      "94/94 [==============================] - 103s 1s/step - loss: 0.0549 - accuracy: 0.9987 - val_loss: 0.6303 - val_accuracy: 0.7964\n"
     ]
    }
   ],
   "source": [
    "resnet_history = model.fit(train_data, \n",
    "                           epochs=5,\n",
    "                           steps_per_epoch=len(train_data),\n",
    "                           validation_data=test_data,\n",
    "                           validation_steps=len(test_data),\n",
    "                           callbacks=[tensorboard_callback(dir_name='tf_hub', experiment_name='resnet50')]\n",
    "                           )"
   ]
  },
  {
   "cell_type": "code",
   "execution_count": 30,
   "metadata": {},
   "outputs": [
    {
     "name": "stdout",
     "output_type": "stream",
     "text": [
      "Model: \"model_5\"\n",
      "_________________________________________________________________\n",
      "Layer (type)                 Output Shape              Param #   \n",
      "=================================================================\n",
      "input_6 (InputLayer)         [(None, 224, 224, 3)]     0         \n",
      "_________________________________________________________________\n",
      "feature_extractor_layer (Ker (None, 1280)              4049564   \n",
      "_________________________________________________________________\n",
      "classifier (Dense)           (None, 10)                12810     \n",
      "=================================================================\n",
      "Total params: 4,062,374\n",
      "Trainable params: 12,810\n",
      "Non-trainable params: 4,049,564\n",
      "_________________________________________________________________\n",
      "Saving TensorBoard log files to: tf_hub/experiment_name20211111-104334\n",
      "Epoch 1/5\n"
     ]
    },
    {
     "name": "stderr",
     "output_type": "stream",
     "text": [
      "2021-11-11 10:43:34.399484: I tensorflow/core/profiler/lib/profiler_session.cc:126] Profiler session initializing.\n",
      "2021-11-11 10:43:34.399505: I tensorflow/core/profiler/lib/profiler_session.cc:141] Profiler session started.\n",
      "2021-11-11 10:43:34.399565: E tensorflow/core/profiler/internal/gpu/cupti_tracer.cc:1661] function cupti_interface_->Subscribe( &subscriber_, (CUpti_CallbackFunc)ApiCallback, this)failed with error CUPTI could not be loaded or symbol could not be found.\n",
      "2021-11-11 10:43:34.399684: I tensorflow/core/profiler/lib/profiler_session.cc:159] Profiler session tear down.\n",
      "2021-11-11 10:43:34.399697: E tensorflow/core/profiler/internal/gpu/cupti_tracer.cc:1752] function cupti_interface_->Finalize()failed with error CUPTI could not be loaded or symbol could not be found.\n"
     ]
    },
    {
     "name": "stdout",
     "output_type": "stream",
     "text": [
      " 2/94 [..............................] - ETA: 1:18 - loss: 2.4202 - accuracy: 0.1250    "
     ]
    },
    {
     "name": "stderr",
     "output_type": "stream",
     "text": [
      "2021-11-11 10:43:40.925985: I tensorflow/core/profiler/lib/profiler_session.cc:126] Profiler session initializing.\n",
      "2021-11-11 10:43:40.926010: I tensorflow/core/profiler/lib/profiler_session.cc:141] Profiler session started.\n",
      "2021-11-11 10:43:40.926089: E tensorflow/core/profiler/internal/gpu/cupti_tracer.cc:1661] function cupti_interface_->Subscribe( &subscriber_, (CUpti_CallbackFunc)ApiCallback, this)failed with error CUPTI could not be loaded or symbol could not be found.\n"
     ]
    },
    {
     "name": "stdout",
     "output_type": "stream",
     "text": [
      " 3/94 [..............................] - ETA: 1:02 - loss: 2.4983 - accuracy: 0.1250"
     ]
    },
    {
     "name": "stderr",
     "output_type": "stream",
     "text": [
      "2021-11-11 10:43:41.441434: I tensorflow/core/profiler/lib/profiler_session.cc:66] Profiler session collecting data.\n",
      "2021-11-11 10:43:41.441559: E tensorflow/core/profiler/internal/gpu/cupti_tracer.cc:1752] function cupti_interface_->Finalize()failed with error CUPTI could not be loaded or symbol could not be found.\n",
      "2021-11-11 10:43:41.443688: I tensorflow/core/profiler/internal/gpu/cupti_collector.cc:673]  GpuTracer has collected 0 callback api events and 0 activity events. \n",
      "2021-11-11 10:43:41.446351: I tensorflow/core/profiler/lib/profiler_session.cc:159] Profiler session tear down.\n",
      "2021-11-11 10:43:41.451726: I tensorflow/core/profiler/rpc/client/save_profile.cc:137] Creating directory: tf_hub/experiment_name20211111-104334/train/plugins/profile/2021_11_11_10_43_41\n",
      "2021-11-11 10:43:41.455114: I tensorflow/core/profiler/rpc/client/save_profile.cc:143] Dumped gzipped tool data for trace.json.gz to tf_hub/experiment_name20211111-104334/train/plugins/profile/2021_11_11_10_43_41/viktor-machine.trace.json.gz\n",
      "2021-11-11 10:43:41.460938: I tensorflow/core/profiler/rpc/client/save_profile.cc:137] Creating directory: tf_hub/experiment_name20211111-104334/train/plugins/profile/2021_11_11_10_43_41\n",
      "2021-11-11 10:43:41.461027: I tensorflow/core/profiler/rpc/client/save_profile.cc:143] Dumped gzipped tool data for memory_profile.json.gz to tf_hub/experiment_name20211111-104334/train/plugins/profile/2021_11_11_10_43_41/viktor-machine.memory_profile.json.gz\n",
      "2021-11-11 10:43:41.461682: I tensorflow/core/profiler/rpc/client/capture_profile.cc:251] Creating directory: tf_hub/experiment_name20211111-104334/train/plugins/profile/2021_11_11_10_43_41Dumped tool data for xplane.pb to tf_hub/experiment_name20211111-104334/train/plugins/profile/2021_11_11_10_43_41/viktor-machine.xplane.pb\n",
      "Dumped tool data for overview_page.pb to tf_hub/experiment_name20211111-104334/train/plugins/profile/2021_11_11_10_43_41/viktor-machine.overview_page.pb\n",
      "Dumped tool data for input_pipeline.pb to tf_hub/experiment_name20211111-104334/train/plugins/profile/2021_11_11_10_43_41/viktor-machine.input_pipeline.pb\n",
      "Dumped tool data for tensorflow_stats.pb to tf_hub/experiment_name20211111-104334/train/plugins/profile/2021_11_11_10_43_41/viktor-machine.tensorflow_stats.pb\n",
      "Dumped tool data for kernel_stats.pb to tf_hub/experiment_name20211111-104334/train/plugins/profile/2021_11_11_10_43_41/viktor-machine.kernel_stats.pb\n",
      "\n"
     ]
    },
    {
     "name": "stdout",
     "output_type": "stream",
     "text": [
      "94/94 [==============================] - 24s 195ms/step - loss: 1.4598 - accuracy: 0.5600\n",
      "Epoch 2/5\n",
      "94/94 [==============================] - 14s 148ms/step - loss: 0.6830 - accuracy: 0.8160\n",
      "Epoch 3/5\n",
      "94/94 [==============================] - 15s 157ms/step - loss: 0.4830 - accuracy: 0.8947\n",
      "Epoch 4/5\n",
      "94/94 [==============================] - 15s 160ms/step - loss: 0.3745 - accuracy: 0.9267\n",
      "Epoch 5/5\n",
      "94/94 [==============================] - 14s 149ms/step - loss: 0.2962 - accuracy: 0.9507\n"
     ]
    },
    {
     "data": {
      "text/plain": [
       "<tensorflow.python.keras.callbacks.History at 0x7fd030832be0>"
      ]
     },
     "execution_count": 30,
     "metadata": {},
     "output_type": "execute_result"
    }
   ],
   "source": [
    "efficient_net_model = create_model(model_url=efficientnet_url)\n",
    "\n",
    "efficient_net_model.summary()\n",
    "\n",
    "efficient_net_model.compile(loss='categorical_crossentropy',\n",
    "                            optimizer=tf.keras.optimizers.Adam(),\n",
    "                            metrics=['accuracy'])\n",
    "\n",
    "\n",
    "efficient_net_model.fit(train_data,\n",
    "                        epochs=5,\n",
    "                        steps_per_epoch=len(train_data),\n",
    "                        #validation_data=test_data,\n",
    "                        #validation_steps=len(test_data),\n",
    "                        callbacks=[tensorboard_callback(dir_name='tf_hub', \n",
    "                                        experiment_name='efficient_net')])"
   ]
  },
  {
   "cell_type": "code",
   "execution_count": 34,
   "metadata": {},
   "outputs": [
    {
     "name": "stdout",
     "output_type": "stream",
     "text": [
      "2021-11-11 10:45:37.122946: W tensorflow/stream_executor/platform/default/dso_loader.cc:64] Could not load dynamic library 'libcudart.so.11.0'; dlerror: libcudart.so.11.0: cannot open shared object file: No such file or directory\n",
      "2021-11-11 10:45:37.122964: I tensorflow/stream_executor/cuda/cudart_stub.cc:29] Ignore above cudart dlerror if you do not have a GPU set up on your machine.\n",
      "\n",
      "***** TensorBoard Uploader *****\n",
      "\n",
      "This will upload your TensorBoard logs to https://tensorboard.dev/ from\n",
      "the following directory:\n",
      "\n",
      "tf_hub\n",
      "\n",
      "This TensorBoard will be visible to everyone. Do not upload sensitive\n",
      "data.\n",
      "\n",
      "Your use of this service is subject to Google's Terms of Service\n",
      "<https://policies.google.com/terms> and Privacy Policy\n",
      "<https://policies.google.com/privacy>, and TensorBoard.dev's Terms of Service\n",
      "<https://tensorboard.dev/policy/terms/>.\n",
      "\n",
      "This notice will not be shown again while you are logged into the uploader.\n",
      "To log out, run `tensorboard dev auth revoke`.\n",
      "\n",
      "Continue? (yes/NO) ^C\n",
      "Traceback (most recent call last):\n",
      "  File \"/home/viktor/.local/bin/tensorboard\", line 8, in <module>\n",
      "    sys.exit(run_main())\n",
      "  File \"/home/viktor/.local/lib/python3.8/site-packages/tensorboard/main.py\", line 46, in run_main\n",
      "    app.run(tensorboard.main, flags_parser=tensorboard.configure)\n",
      "  File \"/home/viktor/.local/lib/python3.8/site-packages/absl/app.py\", line 312, in run\n",
      "    _run_main(main, args)\n",
      "  File \"/home/viktor/.local/lib/python3.8/site-packages/absl/app.py\", line 258, in _run_main\n",
      "    sys.exit(main(argv))\n",
      "  File \"/home/viktor/.local/lib/python3.8/site-packages/tensorboard/program.py\", line 276, in main\n",
      "    return runner(self.flags) or 0\n",
      "  File \"/home/viktor/.local/lib/python3.8/site-packages/tensorboard/uploader/uploader_subcommand.py\", line 657, in run\n",
      "    return _run(flags, self._experiment_url_callback)\n",
      "  File \"/home/viktor/.local/lib/python3.8/site-packages/tensorboard/uploader/uploader_subcommand.py\", line 94, in _run\n",
      "    _prompt_for_user_ack(intent)\n",
      "  File \"/home/viktor/.local/lib/python3.8/site-packages/tensorboard/uploader/uploader_subcommand.py\", line 67, in _prompt_for_user_ack\n",
      "    response = input(\"Continue? (yes/NO) \")\n",
      "KeyboardInterrupt\n"
     ]
    }
   ],
   "source": [
    "# Upload to Tensorboard\n",
    "\n",
    "!tensorboard dev upload --logdir tf_hub \\\n",
    "    --one_shot \\\n",
    "    --name \"resnet50 vs efficient net\" \\\n",
    "    --description \"Comparing Resnet50 with the Efficient net\""
   ]
  },
  {
   "cell_type": "code",
   "execution_count": 35,
   "metadata": {},
   "outputs": [
    {
     "name": "stdout",
     "output_type": "stream",
     "text": [
      "2021-11-11 10:47:38.571987: W tensorflow/stream_executor/platform/default/dso_loader.cc:64] Could not load dynamic library 'libcudart.so.11.0'; dlerror: libcudart.so.11.0: cannot open shared object file: No such file or directory\n",
      "2021-11-11 10:47:38.572004: I tensorflow/stream_executor/cuda/cudart_stub.cc:29] Ignore above cudart dlerror if you do not have a GPU set up on your machine.\n",
      "https://tensorboard.dev/experiment/tR81OZU3T2aBfDd5VGCQCQ/\n",
      "\tName                 resnet50 vs efficient net\n",
      "\tDescription          Comparing Resnet50 with the Efficient net\n",
      "\tId                   tR81OZU3T2aBfDd5VGCQCQ\n",
      "\tCreated              2021-11-11 10:46:24 (1 minute ago)\n",
      "\tUpdated              2021-11-11 10:47:00 (48 seconds ago)\n",
      "\tRuns                 5\n",
      "\tTags                 5\n",
      "\tScalars              64\n",
      "\tTensor bytes         0\n",
      "\tBinary object bytes  7975580\n",
      "Total: 1 experiment(s)\n"
     ]
    }
   ],
   "source": [
    "# Check out experiments\n",
    "!tensorboard dev list"
   ]
  },
  {
   "cell_type": "code",
   "execution_count": null,
   "metadata": {},
   "outputs": [],
   "source": []
  }
 ],
 "metadata": {
  "interpreter": {
   "hash": "916dbcbb3f70747c44a77c7bcd40155683ae19c65e1c03b4aa3499c5328201f1"
  },
  "kernelspec": {
   "display_name": "Python 3.8.10 64-bit",
   "name": "python3"
  },
  "language_info": {
   "codemirror_mode": {
    "name": "ipython",
    "version": 3
   },
   "file_extension": ".py",
   "mimetype": "text/x-python",
   "name": "python",
   "nbconvert_exporter": "python",
   "pygments_lexer": "ipython3",
   "version": "3.8.10"
  },
  "orig_nbformat": 4
 },
 "nbformat": 4,
 "nbformat_minor": 2
}
